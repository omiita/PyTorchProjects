{
  "cells": [
    {
      "cell_type": "markdown",
      "source": [
        "## Scheduler"
      ],
      "metadata": {}
    },
    {
      "cell_type": "code",
      "source": [
        "import torch"
      ],
      "outputs": [],
      "execution_count": 2,
      "metadata": {}
    },
    {
      "cell_type": "code",
      "source": [
        "class MLP(torch.nn.Module):\n",
        "    def __init__(self):\n",
        "        super(MLP,self).__init__()\n",
        "        self.fc1 = torch.nn.Linear(10,32)\n",
        "        self.fc2 = torch.nn.Linear(32,16)\n",
        "        self.fc3 = torch.nn.Linear(16,10)\n",
        "        \n",
        "    def forward(self,x):\n",
        "        x = torch.nn.ReLU()(self.fc1(x))\n",
        "        x = torch.nn.ReLU()(self.fc2(x))\n",
        "        output = self.fc3(x)\n",
        "        return output\n",
        "    "
      ],
      "outputs": [],
      "execution_count": 3,
      "metadata": {}
    },
    {
      "cell_type": "markdown",
      "source": [
        "### Cosine Annealing LR Scheduler"
      ],
      "metadata": {}
    },
    {
      "cell_type": "code",
      "source": [
        "net= MLP()\n",
        "optimizer = torch.optim.Adam(net.parameters(),lr=1e-3)\n",
        "scheduler = torch.optim.lr_scheduler.CosineAnnealingLR(optimizer,20)\n",
        "\n",
        "import matplotlib.pyplot as plt\n",
        "epochs = range(100)\n",
        "lr = []\n",
        "for i in epochs:\n",
        "    scheduler.step()\n",
        "    lr.append(scheduler.optimizer.param_groups[0]['lr'])\n",
        "plt.plot(epochs, lr)"
      ],
      "outputs": [
        {
          "output_type": "execute_result",
          "execution_count": 28,
          "data": {
            "text/plain": [
              "[<matplotlib.lines.Line2D at 0x11c24b978>]"
            ]
          },
          "metadata": {}
        },
        {
          "output_type": "display_data",
          "data": {
            "image/png": "[encoded data removed]",
            "text/plain": [
              "<Figure size 432x288 with 1 Axes>"
            ]
          },
          "metadata": {
            "needs_background": "light"
          }
        }
      ],
      "execution_count": 28,
      "metadata": {}
    },
    {
      "cell_type": "markdown",
      "source": [
        "### Step LR Scheduler"
      ],
      "metadata": {}
    },
    {
      "cell_type": "code",
      "source": [
        "net= MLP()\n",
        "optimizer = torch.optim.Adam(net.parameters(),lr=1e-3)\n",
        "scheduler = torch.optim.lr_scheduler.StepLR(optimizer,40)\n",
        "\n",
        "import matplotlib.pyplot as plt\n",
        "epochs = range(100)\n",
        "lr = []\n",
        "for i in epochs:\n",
        "    scheduler.step()\n",
        "    lr.append(scheduler.optimizer.param_groups[0]['lr'])\n",
        "plt.yscale('log')\n",
        "plt.plot(epochs, lr)"
      ],
      "outputs": [
        {
          "output_type": "execute_result",
          "execution_count": 25,
          "data": {
            "text/plain": [
              "[<matplotlib.lines.Line2D at 0x118c81400>]"
            ]
          },
          "metadata": {}
        },
        {
          "output_type": "display_data",
          "data": {
            "image/png": "[encoded data removed]",
            "text/plain": [
              "<Figure size 432x288 with 1 Axes>"
            ]
          },
          "metadata": {
            "needs_background": "light"
          }
        }
      ],
      "execution_count": 25,
      "metadata": {}
    },
    {
      "cell_type": "code",
      "source": [
        "net= MLP()\n",
        "optimizer = torch.optim.Adam(net.parameters(),lr=1e-4)\n",
        "scheduler = torch.optim.lr_scheduler.StepLR(optimizer,20)\n",
        "\n",
        "import matplotlib.pyplot as plt\n",
        "epochs = range(100)\n",
        "lr = []\n",
        "for i in epochs:\n",
        "    scheduler.step()\n",
        "    lr.append(scheduler.optimizer.param_groups[0]['lr'])\n",
        "plt.yscale('log')\n",
        "plt.plot(epochs, lr)"
      ],
      "outputs": [
        {
          "output_type": "stream",
          "name": "stderr",
          "text": [
            "/Users/tokunagamasaomi/.pyenv/versions/3.7.0/lib/python3.7/site-packages/torch/optim/lr_scheduler.py:100: UserWarning: Detected call of `lr_scheduler.step()` before `optimizer.step()`. In PyTorch 1.1.0 and later, you should call them in the opposite order: `optimizer.step()` before `lr_scheduler.step()`.  Failure to do this will result in PyTorch skipping the first value of the learning rate schedule.See more details at https://pytorch.org/docs/stable/optim.html#how-to-adjust-learning-rate\n",
            "  \"https://pytorch.org/docs/stable/optim.html#how-to-adjust-learning-rate\", UserWarning)\n"
          ]
        },
        {
          "output_type": "execute_result",
          "execution_count": 4,
          "data": {
            "text/plain": [
              "[<matplotlib.lines.Line2D at 0x12017ec18>]"
            ]
          },
          "metadata": {}
        },
        {
          "output_type": "display_data",
          "data": {
            "image/png": "[encoded data removed]",
            "text/plain": [
              "<Figure size 432x288 with 1 Axes>"
            ]
          },
          "metadata": {
            "needs_background": "light"
          }
        }
      ],
      "execution_count": 4,
      "metadata": {}
    },
    {
      "cell_type": "markdown",
      "source": [
        "## Moving Average"
      ],
      "metadata": {}
    },
    {
      "cell_type": "code",
      "source": [
        "        \n",
        "for i,g_i in enumerate(g):\n",
        "    t = i+1\n",
        "    if i==0:\n",
        "        g_sma=[1/g_i]\n",
        "    else:\n",
        "        g_sma.append((1-beta_2**t)/math.sqrt((sum(g_new[:i])+g_i**2)/t))"
      ],
      "outputs": [],
      "execution_count": null,
      "metadata": {}
    },
    {
      "cell_type": "code",
      "source": [
        "[1]+[2]"
      ],
      "outputs": [
        {
          "output_type": "execute_result",
          "execution_count": 73,
          "data": {
            "text/plain": [
              "[1, 2]"
            ]
          },
          "metadata": {}
        }
      ],
      "execution_count": 73,
      "metadata": {}
    },
    {
      "cell_type": "code",
      "source": [
        "def custom_sum(beta_2, t, g_past,g):\n",
        "    g_past = g_past+g\n",
        "    res = sum([(beta_2**(t-(i+1))) * (g_past[i]**2) for i in range(t)])\n",
        "#     print(res)\n",
        "    return res\n"
      ],
      "outputs": [],
      "execution_count": 103,
      "metadata": {}
    },
    {
      "cell_type": "code",
      "source": [
        "import numpy as np\n",
        "np.random.randn(100)"
      ],
      "outputs": [
        {
          "output_type": "execute_result",
          "execution_count": 123,
          "data": {
            "text/plain": [
              "array([-0.49080381, -1.40061855, -0.74627339,  0.44026587, -1.25883847,\n",
              "       -1.08154274, -0.69891314,  0.66999151, -0.28417346, -0.56850841,\n",
              "        0.22609664,  0.53597024, -2.06116404,  1.08779258, -0.52807513,\n",
              "        0.88363169, -0.84457898, -2.6364664 ,  2.10409798, -1.68427826,\n",
              "        0.46199263, -1.49169485,  0.76963649,  0.87337369,  0.11035547,\n",
              "       -0.54500227,  1.85222857,  1.70856399,  0.24255021, -3.01029006,\n",
              "       -1.16529577, -0.89187406,  0.6801195 ,  1.07578242, -2.03050471,\n",
              "        0.03672533,  1.74340334,  0.15514672,  1.1025892 ,  0.73767789,\n",
              "       -0.50044395,  0.38856174,  1.41278917, -0.63018638, -0.57103395,\n",
              "       -0.92999827,  0.22543357, -1.31884557, -0.43623271, -0.77468345,\n",
              "        1.67679515, -0.55542579, -0.61545984, -0.02307506, -0.68454594,\n",
              "       -0.66606515, -0.56453556, -0.96731927,  0.26429526, -0.5483383 ,\n",
              "        1.13548524, -1.23579346,  1.51867393, -1.32891209,  0.62457523,\n",
              "       -2.00226425, -1.01031699,  1.27203334, -1.68555053, -0.34117534,\n",
              "        1.91600852, -1.15199124,  1.27152941,  1.44958382,  0.46997977,\n",
              "       -1.82077886,  0.13465978, -2.91169933, -1.38454969,  0.78136097,\n",
              "        1.4163189 , -1.42915104,  1.24859036, -0.48753698,  1.96775719,\n",
              "        0.76793095,  0.40179613, -0.48175289, -0.31745681,  0.46035716,\n",
              "        1.40818005, -0.27413304,  0.44104373, -0.87648334, -0.04985691,\n",
              "        0.29007165, -0.17038244,  1.18307738,  0.38723392,  1.10409834])"
            ]
          },
          "metadata": {}
        }
      ],
      "execution_count": 123,
      "metadata": {}
    },
    {
      "cell_type": "code",
      "source": [
        "import math\n",
        "import numpy as np\n",
        "num_steps = 30\n",
        "beta_2 = 0.999\n",
        "g = list(np.random.uniform(0,1,num_steps))\n",
        "# g = [math.sin(i*0.5)+1 for i in range(num_steps)]\n",
        "g_sma = [g[0]]\n",
        "g_ema = [g[0]]\n",
        "\n",
        "for i,g_i in enumerate(g):\n",
        "    t = i+1\n",
        "    if i==0:\n",
        "        g_sma=[1/g_i]\n",
        "    else:\n",
        "        g_sma.append(math.sqrt(t/(sum(g_sma[:i])+g_i**2)))\n",
        "        \n",
        "        \n",
        "        \n",
        "for i,g_i in enumerate(g):\n",
        "    t = i+1\n",
        "    if i==0:\n",
        "        g_ema=[1/g_i]\n",
        "    else:\n",
        "        g_ema.append(math.sqrt((1-beta_2**t)/((1-beta_2)*custom_sum(beta_2,t,g_ema,[g_i]))))"
      ],
      "outputs": [],
      "execution_count": 166,
      "metadata": {}
    },
    {
      "cell_type": "code",
      "source": [
        "import matplotlib.pyplot as plt\n",
        "xs = range(len(g_sma))\n",
        "plt.plot(xs,g_sma,'b')\n",
        "plt.plot(xs,g_ema,'r')\n",
        "plt.show()"
      ],
      "outputs": [
        {
          "output_type": "display_data",
          "data": {
            "image/png": "[encoded data removed]",
            "text/plain": [
              "<Figure size 432x288 with 1 Axes>"
            ]
          },
          "metadata": {
            "needs_background": "light"
          }
        }
      ],
      "execution_count": 167,
      "metadata": {}
    },
    {
      "cell_type": "code",
      "source": [],
      "outputs": [],
      "execution_count": null,
      "metadata": {}
    },
    {
      "cell_type": "code",
      "source": [
        "beta_2 = 0.999"
      ],
      "outputs": [],
      "execution_count": 5,
      "metadata": {}
    },
    {
      "cell_type": "code",
      "source": [
        "num=50000\n",
        "# coef_ = [(1-beta_2)/(1-beta_2**t) for t in range(1,num+1)]\n",
        "# t_inv = [1/n for n in range(1,num+1)]\n",
        "t = range(1,num+1)\n",
        "coef = [round((1-beta_2**t)/(1-beta_2)) for t in range(1,num+1)]"
      ],
      "outputs": [],
      "execution_count": 47,
      "metadata": {}
    },
    {
      "cell_type": "code",
      "source": [
        "import matplotlib.pyplot as plt"
      ],
      "outputs": [],
      "execution_count": 37,
      "metadata": {}
    },
    {
      "cell_type": "code",
      "source": [
        "xs = range(1,len(coef_)+1)\n",
        "# plt.plot(xs, coef_)\n",
        "plt.plot(range(1,num+1),t_inv)\n",
        "plt.plot(range(1,num+1),coef_)\n",
        "plt.ylim(0,0.01)"
      ],
      "outputs": [
        {
          "output_type": "execute_result",
          "execution_count": 38,
          "data": {
            "text/plain": [
              "(0, 0.01)"
            ]
          },
          "metadata": {}
        },
        {
          "output_type": "display_data",
          "data": {
            "image/png": "[encoded data removed]",
            "text/plain": [
              "<Figure size 432x288 with 1 Axes>"
            ]
          },
          "metadata": {
            "needs_background": "light"
          }
        }
      ],
      "execution_count": 38,
      "metadata": {}
    },
    {
      "cell_type": "code",
      "source": [
        "beta_2s = [beta_2**t for t in range(10)]\n",
        "beta_2s"
      ],
      "outputs": [
        {
          "output_type": "execute_result",
          "execution_count": 42,
          "data": {
            "text/plain": [
              "[1.0,\n",
              " 0.999,\n",
              " 0.998001,\n",
              " 0.997002999,\n",
              " 0.996005996001,\n",
              " 0.995009990004999,\n",
              " 0.994014980014994,\n",
              " 0.993020965034979,\n",
              " 0.992027944069944,\n",
              " 0.991035916125874]"
            ]
          },
          "metadata": {}
        }
      ],
      "execution_count": 42,
      "metadata": {}
    },
    {
      "cell_type": "code",
      "source": [],
      "outputs": [],
      "execution_count": null,
      "metadata": {}
    }
  ],
  "metadata": {
    "kernelspec": {
      "display_name": "Python 3",
      "language": "python",
      "name": "python3"
    },
    "language_info": {
      "codemirror_mode": {
        "name": "ipython",
        "version": 3
      },
      "file_extension": ".py",
      "mimetype": "text/x-python",
      "name": "python",
      "nbconvert_exporter": "python",
      "pygments_lexer": "ipython3",
      "version": "3.7.0"
    },
    "varInspector": {
      "cols": {
        "lenName": 16,
        "lenType": 16,
        "lenVar": 40
      },
      "kernels_config": {
        "python": {
          "delete_cmd_postfix": "",
          "delete_cmd_prefix": "del ",
          "library": "var_list.py",
          "varRefreshCmd": "print(var_dic_list())"
        },
        "r": {
          "delete_cmd_postfix": ") ",
          "delete_cmd_prefix": "rm(",
          "library": "var_list.r",
          "varRefreshCmd": "cat(var_dic_list()) "
        }
      },
      "types_to_exclude": [
        "module",
        "function",
        "builtin_function_or_method",
        "instance",
        "_Feature"
      ],
      "window_display": false
    },
    "nteract": {
      "version": "0.21.0"
    }
  },
  "nbformat": 4,
  "nbformat_minor": 2
}