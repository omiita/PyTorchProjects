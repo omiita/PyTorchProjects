{
  "nbformat": 4,
  "nbformat_minor": 0,
  "metadata": {
    "colab": {
      "name": "GAN.ipynb",
      "provenance": [],
      "collapsed_sections": []
    },
    "kernelspec": {
      "name": "python3",
      "display_name": "Python 3"
    },
    "accelerator": "GPU"
  },
  "cells": [
    {
      "cell_type": "markdown",
      "metadata": {
        "id": "-dPCHjRg9bLo",
        "colab_type": "text"
      },
      "source": [
        "Code from:  \n",
        "https://medium.com/ai-society/gans-from-scratch-1-a-deep-introduction-with-code-in-pytorch-and-tensorflow-cb03cdcdba0f"
      ]
    },
    {
      "cell_type": "code",
      "metadata": {
        "id": "-tn3zC2j1Pwb",
        "colab_type": "code",
        "outputId": "fe3ba815-425c-4c6c-80ee-7b6d8f74a268",
        "colab": {
          "base_uri": "https://localhost:8080/",
          "height": 102
        }
      },
      "source": [
        "!pip install tensorboardx"
      ],
      "execution_count": 1,
      "outputs": [
        {
          "output_type": "stream",
          "text": [
            "Requirement already satisfied: tensorboardx in /usr/local/lib/python3.6/dist-packages (2.0)\n",
            "Requirement already satisfied: protobuf>=3.8.0 in /usr/local/lib/python3.6/dist-packages (from tensorboardx) (3.10.0)\n",
            "Requirement already satisfied: numpy in /usr/local/lib/python3.6/dist-packages (from tensorboardx) (1.17.5)\n",
            "Requirement already satisfied: six in /usr/local/lib/python3.6/dist-packages (from tensorboardx) (1.12.0)\n",
            "Requirement already satisfied: setuptools in /usr/local/lib/python3.6/dist-packages (from protobuf>=3.8.0->tensorboardx) (45.2.0)\n"
          ],
          "name": "stdout"
        }
      ]
    },
    {
      "cell_type": "code",
      "metadata": {
        "id": "ZEQVfNtGYHl5",
        "colab_type": "code",
        "outputId": "09cf5f87-1e40-47a1-8348-d381b33c1310",
        "colab": {
          "base_uri": "https://localhost:8080/",
          "height": 34
        }
      },
      "source": [
        "!git clone https://github.com/diegoalejogm/gans.git"
      ],
      "execution_count": 2,
      "outputs": [
        {
          "output_type": "stream",
          "text": [
            "fatal: destination path 'gans' already exists and is not an empty directory.\n"
          ],
          "name": "stdout"
        }
      ]
    },
    {
      "cell_type": "code",
      "metadata": {
        "id": "OWnhUigA9Qtl",
        "colab_type": "code",
        "colab": {}
      },
      "source": [
        "import torch\n",
        "from torch import nn, optim\n",
        "from torch.autograd.variable import Variable\n",
        "from torchvision import transforms, datasets"
      ],
      "execution_count": 0,
      "outputs": []
    },
    {
      "cell_type": "code",
      "metadata": {
        "id": "pdlXlwvi94cX",
        "colab_type": "code",
        "colab": {}
      },
      "source": [
        "def cifar10_data():\n",
        "  compose = transforms.Compose([\n",
        "                                transforms.ToTensor(),\n",
        "                                transforms.Normalize((.5,.5,.5), (.5,.5,.5))\n",
        "  ])\n",
        "  out_dir = './dataset'\n",
        "  return datasets.CIFAR10(root=out_dir, train=True, transform=compose, download=True)"
      ],
      "execution_count": 0,
      "outputs": []
    },
    {
      "cell_type": "code",
      "metadata": {
        "id": "LPH4vCgJ-i_n",
        "colab_type": "code",
        "colab": {}
      },
      "source": [
        "data = cifar10_data()\n",
        "data_loader = torch.utils.data.DataLoader(data, batch_size=100, shuffle=True)\n",
        "num_batches = len(data_loader)"
      ],
      "execution_count": 0,
      "outputs": []
    },
    {
      "cell_type": "code",
      "metadata": {
        "id": "Ly5FQYq6Wi9b",
        "colab_type": "code",
        "colab": {}
      },
      "source": [
        "device = 'cuda:0' if torch.cuda.is_available() else 'cpu'\n",
        "torch.backends.cudnn.benchmark = True\n",
        "device"
      ],
      "execution_count": 0,
      "outputs": []
    },
    {
      "cell_type": "code",
      "metadata": {
        "id": "BGF-TQQl-lTr",
        "colab_type": "code",
        "colab": {}
      },
      "source": [
        "class DiscriminatorNet(torch.nn.Module):\n",
        "  def __init__(self):\n",
        "    super(DiscriminatorNet, self).__init__()\n",
        "    n_features = 3*32*32\n",
        "    n_out = 1\n",
        "\n",
        "    self.hidden0 = nn.Sequential(\n",
        "        nn.Linear(n_features, 1024),\n",
        "        nn.LeakyReLU(0.2),\n",
        "        nn.Dropout(0.3)\n",
        "    )\n",
        "\n",
        "    self.hidden1 = nn.Sequential(\n",
        "        nn.Linear(1024, 512),\n",
        "        nn.LeakyReLU(0.2),\n",
        "        nn.Dropout(0.3)\n",
        "    )\n",
        "\n",
        "    self.hidden2 = nn.Sequential(\n",
        "        nn.Linear(512, 256),\n",
        "        nn.LeakyReLU(0.2),\n",
        "        nn.Dropout(0.3)\n",
        "    )\n",
        "\n",
        "    self.out = nn.Sequential(\n",
        "        nn.Linear(256, n_out),\n",
        "        nn.Sigmoid()\n",
        "    )\n",
        "\n",
        "  def forward(self, x):\n",
        "    x = self.hidden0(x)\n",
        "    x = self.hidden1(x)\n",
        "    x = self.hidden2(x)\n",
        "    x = self.out(x)\n",
        "    return x\n",
        "\n",
        "discriminator = DiscriminatorNet()\n",
        "discriminator.to(device)"
      ],
      "execution_count": 0,
      "outputs": []
    },
    {
      "cell_type": "code",
      "metadata": {
        "id": "jL8PVbuuA9aK",
        "colab_type": "code",
        "colab": {}
      },
      "source": [
        "def images_to_vectors(images):\n",
        "  # images.size(0): Batch size\n",
        "  return images.view(images.size(0), 3*32*32)\n",
        "\n",
        "def vectors_to_images(vectors):\n",
        "# vectors.size(0): Batch size\n",
        "  return vectors.view(vectors.size(0),3,32,32)"
      ],
      "execution_count": 0,
      "outputs": []
    },
    {
      "cell_type": "code",
      "metadata": {
        "id": "WpCOBhymBzaY",
        "colab_type": "code",
        "colab": {}
      },
      "source": [
        "class GeneratorNet(nn.Module):\n",
        "  def __init__(self):\n",
        "    super(GeneratorNet, self).__init__()\n",
        "    n_features = 100\n",
        "    n_out = 3*32*32\n",
        "\n",
        "    self.hidden0 = nn.Sequential(\n",
        "        nn.Linear(n_features, 256),\n",
        "        nn.LeakyReLU(0.2)\n",
        "    )\n",
        "\n",
        "    self.hidden1 = nn.Sequential(\n",
        "        nn.Linear(256, 512),\n",
        "        nn.LeakyReLU(0.2)\n",
        "    )\n",
        "\n",
        "    self.hidden2 = nn.Sequential(\n",
        "        nn.Linear(512, 1024),\n",
        "        nn.LeakyReLU(0.2)\n",
        "    )\n",
        "\n",
        "    self.out = nn.Sequential(\n",
        "        nn.Linear(1024, n_out),\n",
        "        nn.Tanh()\n",
        "    )\n",
        "\n",
        "  def forward(self, x):\n",
        "    x = self.hidden0(x)\n",
        "    x = self.hidden1(x)\n",
        "    x = self.hidden2(x)\n",
        "    x = self.out(x)\n",
        "    return x\n",
        "\n",
        "generator = GeneratorNet()\n",
        "generator.to(device)"
      ],
      "execution_count": 0,
      "outputs": []
    },
    {
      "cell_type": "code",
      "metadata": {
        "id": "mq4tIZtCEXUy",
        "colab_type": "code",
        "colab": {}
      },
      "source": [
        "def noise(size):\n",
        "  n = Variable(torch.randn(size, 100,1,1))\n",
        "  return n.to(device)"
      ],
      "execution_count": 0,
      "outputs": []
    },
    {
      "cell_type": "code",
      "metadata": {
        "id": "yXiVwR6uErVb",
        "colab_type": "code",
        "colab": {}
      },
      "source": [
        "d_optimizer = optim.Adam(discriminator.parameters(),lr = 0.0002)\n",
        "g_optimizer = optim.Adam(generator.parameters(), lr=0.0002)"
      ],
      "execution_count": 0,
      "outputs": []
    },
    {
      "cell_type": "code",
      "metadata": {
        "id": "8GVYEmBEE9yF",
        "colab_type": "code",
        "colab": {}
      },
      "source": [
        "loss = nn.BCELoss()"
      ],
      "execution_count": 0,
      "outputs": []
    },
    {
      "cell_type": "code",
      "metadata": {
        "id": "VZ4I4qFEFEPD",
        "colab_type": "code",
        "colab": {}
      },
      "source": [
        "def ones_target(size):\n",
        "  data = Variable(torch.ones(size, 1))\n",
        "  return data.to(device)\n",
        "\n",
        "def zeros_target(size):\n",
        "  data = Variable(torch.zeros(size, 1))\n",
        "  return data.to(device)\n"
      ],
      "execution_count": 0,
      "outputs": []
    },
    {
      "cell_type": "code",
      "metadata": {
        "id": "YVno7pJRGAgL",
        "colab_type": "code",
        "colab": {}
      },
      "source": [
        "def train_discriminator(optimizer, real_data, fake_data):\n",
        "  # real_data = real_data.to(device)\n",
        "  # fake_data = fake_data.to(device)\n",
        "\n",
        "  N = real_data.size(0)\n",
        "\n",
        "\n",
        "  optimizer.zero_grad()\n",
        "\n",
        "  # 1.1 Train on Real Data\n",
        "  prediction_real = discriminator(real_data)\n",
        "  error_real = loss(prediction_real, ones_target(N))\n",
        "  error_real.backward()\n",
        "\n",
        "  # 1.2 Train on Fake Data\n",
        "  prediction_fake = discriminator(fake_data)\n",
        "  error_fake = loss(prediction_fake, zeros_target(N))\n",
        "  error_fake.backward()\n",
        "\n",
        "  # 1.3 Update weights with gradients\n",
        "  optimizer.step()\n",
        "\n",
        "  return error_real + error_fake, prediction_real, prediction_fake\n"
      ],
      "execution_count": 0,
      "outputs": []
    },
    {
      "cell_type": "code",
      "metadata": {
        "id": "rC3uw3tQHNSK",
        "colab_type": "code",
        "colab": {}
      },
      "source": [
        "def train_generator(optimizer, fake_data):\n",
        "  N = fake_data.size(0)\n",
        "  # fake_data.to(device)\n",
        "\n",
        "  optimizer.zero_grad()\n",
        "\n",
        "  prediction = discriminator(fake_data)\n",
        "\n",
        "  error = loss(prediction, ones_target(N))\n",
        "  error.backward()\n",
        "\n",
        "  optimizer.step()\n",
        "\n",
        "  return error"
      ],
      "execution_count": 0,
      "outputs": []
    },
    {
      "cell_type": "code",
      "metadata": {
        "id": "EWny0ERVfQFI",
        "colab_type": "code",
        "colab": {}
      },
      "source": [
        "num_test_samples = 16\n",
        "test_noise = noise(num_test_samples)"
      ],
      "execution_count": 0,
      "outputs": []
    },
    {
      "cell_type": "code",
      "metadata": {
        "id": "Uiw4m496YPwZ",
        "colab_type": "code",
        "colab": {}
      },
      "source": [
        "from gans.utils import Logger"
      ],
      "execution_count": 0,
      "outputs": []
    },
    {
      "cell_type": "code",
      "metadata": {
        "id": "sYTMVtiMW58U",
        "colab_type": "code",
        "colab": {}
      },
      "source": [
        "logger = Logger(model_name='VGAN', data_name='CIFAR10')\n",
        "\n",
        "num_epochs =1000\n",
        "\n",
        "for epoch in range(1, num_epochs+1):\n",
        "  for n_batch, (real_batch, _) in enumerate(data_loader):\n",
        "    N = real_batch.size(0)\n",
        "\n",
        "    real_data = Variable(images_to_vectors(real_batch))\n",
        "\n",
        "    fake_data = generator(noise(N)).detach()\n",
        "    \n",
        "    real_data = real_data.to(device)\n",
        "    fake_data = fake_data.to(device)\n",
        "\n",
        "    d_error, d_pred_real, d_pred_fake = train_discriminator(d_optimizer, real_data, fake_data)\n",
        "\n",
        "    fake_data = generator(noise(N))\n",
        "    fake_data = fake_data.to(device)\n",
        "\n",
        "    g_error = train_generator(g_optimizer, fake_data)\n",
        "\n",
        "  if epoch % 10 == 0:\n",
        "    test_images = vectors_to_images(generator(test_noise))\n",
        "    test_images = test_images.data.cpu()\n",
        "\n",
        "    logger.display_status(\n",
        "    epoch, num_epochs, n_batch, num_batches,\n",
        "    d_error, g_error, d_pred_real, d_pred_fake\n",
        "    )\n",
        "\n",
        "    logger.log_images(\n",
        "        test_images, num_test_samples, \n",
        "        epoch, n_batch, num_batches\n",
        "    )"
      ],
      "execution_count": 0,
      "outputs": []
    },
    {
      "cell_type": "code",
      "metadata": {
        "id": "OVDMNF9C-Zc6",
        "colab_type": "code",
        "colab": {}
      },
      "source": [
        "noise(N).size()"
      ],
      "execution_count": 0,
      "outputs": []
    },
    {
      "cell_type": "code",
      "metadata": {
        "id": "56rP13i1aK8j",
        "colab_type": "code",
        "colab": {}
      },
      "source": [
        "test_images = vectors_to_images(generator(test_noise))\n",
        "test_images = test_images.data.cpu()\n",
        "\n",
        "logger.log_images(\n",
        "    test_images, num_test_samples, \n",
        "    epoch, n_batch, num_batches\n",
        ")"
      ],
      "execution_count": 0,
      "outputs": []
    },
    {
      "cell_type": "code",
      "metadata": {
        "id": "C1lCmmqvfjkW",
        "colab_type": "code",
        "colab": {}
      },
      "source": [
        ""
      ],
      "execution_count": 0,
      "outputs": []
    }
  ]
}