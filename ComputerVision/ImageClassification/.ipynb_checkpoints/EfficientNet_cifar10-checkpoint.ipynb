{
 "cells": [
  {
   "cell_type": "code",
   "execution_count": null,
   "metadata": {
    "colab": {
     "base_uri": "https://localhost:8080/",
     "height": 124
    },
    "colab_type": "code",
    "id": "PB5fo5wEhnNU",
    "outputId": "330101cc-0024-4e54-fdda-f5ff77d26e73"
   },
   "outputs": [],
   "source": [
    "from google.colab import drive\n",
    "drive.mount('/content/drive')"
   ]
  },
  {
   "cell_type": "code",
   "execution_count": null,
   "metadata": {
    "colab": {
     "base_uri": "https://localhost:8080/",
     "height": 1000
    },
    "colab_type": "code",
    "id": "uBUq1qmphn3P",
    "outputId": "05ed21ba-0476-43bd-9054-a8a29bef0f0e"
   },
   "outputs": [],
   "source": [
    "!unzip drive/My\\ Drive/cifar.zip"
   ]
  },
  {
   "cell_type": "code",
   "execution_count": null,
   "metadata": {
    "colab": {
     "base_uri": "https://localhost:8080/",
     "height": 228
    },
    "colab_type": "code",
    "id": "sNxo__OIiVlT",
    "outputId": "139a14b1-4665-47bd-95f9-6ce9feae904e"
   },
   "outputs": [],
   "source": [
    "!pip install --upgrade efficientnet_pytorch"
   ]
  },
  {
   "cell_type": "code",
   "execution_count": null,
   "metadata": {
    "colab": {
     "base_uri": "https://localhost:8080/",
     "height": 139
    },
    "colab_type": "code",
    "id": "NdedKsRfvs8k",
    "outputId": "896912fe-fbbb-4da0-b5fa-7fe005659aa4"
   },
   "outputs": [],
   "source": [
    "!git clone https://github.com/LiyuanLucasLiu/RAdam.git"
   ]
  },
  {
   "cell_type": "code",
   "execution_count": 0,
   "metadata": {
    "colab": {},
    "colab_type": "code",
    "id": "2-Pa892yiZ0e"
   },
   "outputs": [],
   "source": [
    "from efficientnet_pytorch import EfficientNet\n",
    "import torch\n",
    "import torchvision\n",
    "import glob\n",
    "import cv2\n",
    "from RAdam.radam import RAdam"
   ]
  },
  {
   "cell_type": "code",
   "execution_count": 0,
   "metadata": {
    "colab": {},
    "colab_type": "code",
    "id": "VM1Bi1cXjZ83"
   },
   "outputs": [],
   "source": [
    "train_root_path = './cifar/train/*.png'\n",
    "test_root_path = './cifar/test/*.png'\n",
    "\n",
    "labels = []\n",
    "with open('./cifar/labels.txt', 'r') as f:\n",
    "    labels = f.readlines()\n",
    "labels_ = [label.replace('\\n','') for label in labels]\n",
    "num_classes = len(labels)\n",
    "\n",
    "train_imgs = glob.glob(train_root_path)\n",
    "test_imgs = glob.glob(test_root_path)\n",
    "\n",
    "labels_idx_dict = {label:idx for idx, label in enumerate(labels_)}"
   ]
  },
  {
   "cell_type": "code",
   "execution_count": 0,
   "metadata": {
    "colab": {},
    "colab_type": "code",
    "id": "gpbghaSRjel6"
   },
   "outputs": [],
   "source": [
    "transforms_dict = {\n",
    "    'train':torchvision.transforms.Compose([\n",
    "        torchvision.transforms.ToTensor(),\n",
    "        torchvision.transforms.Normalize((0.5,0.5,0.5), (0.5,0.5,0.5)) #(mean, std)\n",
    "    ]),\n",
    "    'test':torchvision.transforms.Compose([\n",
    "        torchvision.transforms.ToTensor(),\n",
    "        torchvision.transforms.Normalize((.5,.5,.5),(.5, .5, .5))\n",
    "    ])\n",
    "}"
   ]
  },
  {
   "cell_type": "code",
   "execution_count": 0,
   "metadata": {
    "colab": {},
    "colab_type": "code",
    "id": "m7iMTj9KjgrU"
   },
   "outputs": [],
   "source": [
    "class CIFAR10_Dataset(torch.utils.data.Dataset):\n",
    "    def __init__(self,img_path,labels_idx_dict,mode,transforms_dict=None):\n",
    "        super(CIFAR10_Dataset, self).__init__\n",
    "        self.img_path = img_path\n",
    "        self.labels_idx_dict = labels_idx_dict\n",
    "        self.mode = mode\n",
    "        self.transforms_dict = transforms_dict\n",
    "        \n",
    "    def __getitem__(self, index):\n",
    "        img_p = self.img_path[index]\n",
    "        img = cv2.imread(img_p)\n",
    "        label = img_p.split('/')[-1].split('_')[-1].replace('.png','')\n",
    "        label = self.labels_idx_dict[label]\n",
    "        \n",
    "        if self.transforms_dict:\n",
    "            img = self.transforms_dict[self.mode](img)\n",
    "            \n",
    "        return img, label\n",
    "        \n",
    "    def __len__(self):\n",
    "        return len(self.img_path)        "
   ]
  },
  {
   "cell_type": "code",
   "execution_count": 0,
   "metadata": {
    "colab": {},
    "colab_type": "code",
    "id": "6eS66qBwjjm4"
   },
   "outputs": [],
   "source": [
    "train_ds = CIFAR10_Dataset(train_imgs, labels_idx_dict, 'train',transforms_dict=transforms_dict)\n",
    "test_ds = CIFAR10_Dataset(train_imgs,labels_idx_dict, 'test',transforms_dict=transforms_dict)"
   ]
  },
  {
   "cell_type": "code",
   "execution_count": 0,
   "metadata": {
    "colab": {},
    "colab_type": "code",
    "id": "KGE0669VjmYT"
   },
   "outputs": [],
   "source": [
    "train_dl = torch.utils.data.DataLoader(train_ds, batch_size=512, shuffle=True)\n",
    "test_dl = torch.utils.data.DataLoader(test_ds, batch_size=512, shuffle=False)"
   ]
  },
  {
   "cell_type": "code",
   "execution_count": 0,
   "metadata": {
    "colab": {
     "base_uri": "https://localhost:8080/",
     "height": 34
    },
    "colab_type": "code",
    "id": "s1jS-Yn8jt6h",
    "outputId": "8ec73a8a-67e7-4c12-a82e-dc2d7eca0bc7"
   },
   "outputs": [
    {
     "name": "stdout",
     "output_type": "stream",
     "text": [
      "Loaded pretrained weights for efficientnet-b1\n"
     ]
    }
   ],
   "source": [
    "net = EfficientNet.from_pretrained('efficientnet-b1')\n",
    "net._fc = torch.nn.Linear(in_features=net._bn1.num_features,out_features=num_classes)\n",
    "criterion = torch.nn.CrossEntropyLoss()\n",
    "\n",
    "device = \"cuda:0\" if torch.cuda.is_available else \"cpu\"\n",
    "net.to(device)\n",
    "torch.backends.cudnn.benchmark=True"
   ]
  },
  {
   "cell_type": "code",
   "execution_count": 0,
   "metadata": {
    "colab": {},
    "colab_type": "code",
    "id": "vnhDMIFWjw1i"
   },
   "outputs": [],
   "source": [
    "epochs_num = 50\n",
    "hist = {\"train_loss\":[],\"train_acc\":[], \"test_loss\":[],\"test_acc\":[]}"
   ]
  },
  {
   "cell_type": "code",
   "execution_count": null,
   "metadata": {
    "colab": {
     "base_uri": "https://localhost:8080/",
     "height": 1000
    },
    "colab_type": "code",
    "id": "EnKzm6VYjysn",
    "outputId": "c9d4e994-0e7c-4e94-da96-47a4d230a75f"
   },
   "outputs": [],
   "source": [
    "optimizer = torch.optim.Adam(net.parameters(),lr=1e-3,betas=(0.9,0.999))\n",
    "print(\"START\")\n",
    "for epoch in range(epochs_num):\n",
    "    adam_en.train()\n",
    "    epoch_loss = 0.\n",
    "    epoch_correct = 0.\n",
    "    epoch_imgs = 0\n",
    "    for i,batch in enumerate(train_dl):\n",
    "        #print(i+1)\n",
    "        imgs,labels = batch\n",
    "        imgs = imgs.to(device)\n",
    "        labels = labels.to(device)\n",
    "        epoch_imgs += len(labels)\n",
    "        optimizer.zero_grad()\n",
    "        output = adam_en(imgs)\n",
    "        loss = criterion(output, labels)        \n",
    "        loss.backward()\n",
    "        optimizer.step()\n",
    "        \n",
    "        epoch_loss += loss\n",
    "        epoch_correct += sum(output.argmax(1)==labels)\n",
    "\n",
    "    t_l = epoch_loss/(i+1)\n",
    "    t_a = epoch_correct/epoch_imgs\n",
    "    adam_hist['train_loss'].append(t_l)\n",
    "    adam_hist['train_acc'].append(t_a)\n",
    "    print(\"Epoch {}: Loss: {} Acc: {}\".format(epoch,t_l,t_a)) \n",
    "\n",
    "    adam_en.eval()\n",
    "    val_loss = 0.\n",
    "    val_correct = 0.\n",
    "    val_imgs = 0\n",
    "    with torch.no_grad():\n",
    "      for i,batch in enumerate(test_dl):\n",
    "          imgs,labels = batch\n",
    "          imgs = imgs.to(device)\n",
    "          labels = labels.to(device)\n",
    "          val_imgs += len(labels)\n",
    "          output = adam_en(imgs)\n",
    "          loss = criterion(output, labels)        \n",
    "          \n",
    "          val_loss += loss\n",
    "          val_correct += sum(output.argmax(1)==labels) \n",
    "\n",
    "    l = val_loss/(i+1)\n",
    "    a = val_correct/val_imgs\n",
    "    adam_hist['test_loss'].append(l)\n",
    "    adam_hist['test_acc'].append(a)\n",
    "    print(\"Val: Loss: {} Acc: {}\".format(l,a)) \n"
   ]
  },
  {
   "cell_type": "code",
   "execution_count": 0,
   "metadata": {
    "colab": {
     "base_uri": "https://localhost:8080/",
     "height": 562
    },
    "colab_type": "code",
    "id": "X40PEU9inmT8",
    "outputId": "854a850b-772c-4f0c-dabe-cc4ec95f3166"
   },
   "outputs": [
    {
     "data": {
      "text/plain": [
       "<matplotlib.legend.Legend at 0x7f14bc0b6ba8>"
      ]
     },
     "execution_count": 28,
     "metadata": {
      "tags": []
     },
     "output_type": "execute_result"
    },
    {
     "data": {
      "image/png": "[encoded data removed]",
      "text/plain": [
       "<Figure size 432x288 with 1 Axes>"
      ]
     },
     "metadata": {
      "tags": []
     },
     "output_type": "display_data"
    },
    {
     "data": {
      "image/png": "[encoded data removed]",
      "text/plain": [
       "<Figure size 432x288 with 1 Axes>"
      ]
     },
     "metadata": {
      "tags": []
     },
     "output_type": "display_data"
    }
   ],
   "source": [
    "import matplotlib.pyplot as plt\n",
    "%matplotlib inline\n",
    "\n",
    "epochs = range(1, epochs_num+1)\n",
    "\n",
    "plt.title('Loss')\n",
    "plt.plot(epochs, hist['train_loss'],'ro',label='train')\n",
    "plt.plot(epochs, hist['test_loss'],'r',label='test')\n",
    "plt.legend()\n",
    "\n",
    "plt.figure()\n",
    "plt.title('Acc')\n",
    "plt.plot(epochs, hist['train_acc'],'bo',label='train')\n",
    "plt.plot(epochs, hist['test_acc'],'b',label='test')\n",
    "plt.legend()"
   ]
  }
 ],
 "metadata": {
  "accelerator": "GPU",
  "colab": {
   "collapsed_sections": [],
   "machine_shape": "hm",
   "name": "EfficientNet_cifar10",
   "provenance": []
  },
  "kernelspec": {
   "display_name": "Python 3",
   "language": "python",
   "name": "python3"
  },
  "language_info": {
   "codemirror_mode": {
    "name": "ipython",
    "version": 3
   },
   "file_extension": ".py",
   "mimetype": "text/x-python",
   "name": "python",
   "nbconvert_exporter": "python",
   "pygments_lexer": "ipython3",
   "version": "3.7.0"
  },
  "varInspector": {
   "cols": {
    "lenName": 16,
    "lenType": 16,
    "lenVar": 40
   },
   "kernels_config": {
    "python": {
     "delete_cmd_postfix": "",
     "delete_cmd_prefix": "del ",
     "library": "var_list.py",
     "varRefreshCmd": "print(var_dic_list())"
    },
    "r": {
     "delete_cmd_postfix": ") ",
     "delete_cmd_prefix": "rm(",
     "library": "var_list.r",
     "varRefreshCmd": "cat(var_dic_list()) "
    }
   },
   "types_to_exclude": [
    "module",
    "function",
    "builtin_function_or_method",
    "instance",
    "_Feature"
   ],
   "window_display": false
  }
 },
 "nbformat": 4,
 "nbformat_minor": 1
}
