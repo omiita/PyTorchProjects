{
 "cells": [
  {
   "cell_type": "code",
   "execution_count": 51,
   "metadata": {},
   "outputs": [],
   "source": [
    "from efficientnet_pytorch import EfficientNet"
   ]
  },
  {
   "cell_type": "code",
   "execution_count": 5,
   "metadata": {},
   "outputs": [],
   "source": [
    "import torch\n",
    "import torchvision"
   ]
  },
  {
   "cell_type": "code",
   "execution_count": 6,
   "metadata": {},
   "outputs": [],
   "source": [
    "import glob"
   ]
  },
  {
   "cell_type": "code",
   "execution_count": 13,
   "metadata": {},
   "outputs": [],
   "source": [
    "train_root_path = './data/cifar/train/*.png'\n",
    "test_root_path = './data/cifar/test/*.png'\n",
    "\n",
    "labels = []\n",
    "with open('./data/cifar/labels.txt', 'r') as f:\n",
    "    labels = f.readlines()\n",
    "labels_ = [label.replace('\\n','') for label in labels]\n",
    "\n",
    "train_imgs = glob.glob(train_root_path)\n",
    "test_imgs = glob.glob(test_root_path)"
   ]
  },
  {
   "cell_type": "code",
   "execution_count": 15,
   "metadata": {},
   "outputs": [],
   "source": [
    "labels_idx_dict = {label:idx+1 for idx, label in enumerate(labels_)}"
   ]
  },
  {
   "cell_type": "code",
   "execution_count": 19,
   "metadata": {},
   "outputs": [],
   "source": [
    "import cv2"
   ]
  },
  {
   "cell_type": "code",
   "execution_count": 20,
   "metadata": {},
   "outputs": [
    {
     "data": {
      "text/plain": [
       "array([[[ 63,  62,  59],\n",
       "        [ 45,  46,  43],\n",
       "        [ 43,  48,  50],\n",
       "        ...,\n",
       "        [108, 132, 158],\n",
       "        [102, 125, 152],\n",
       "        [103, 124, 148]],\n",
       "\n",
       "       [[ 20,  20,  16],\n",
       "        [  0,   0,   0],\n",
       "        [  0,   8,  18],\n",
       "        ...,\n",
       "        [ 55,  88, 123],\n",
       "        [ 50,  83, 119],\n",
       "        [ 57,  87, 122]],\n",
       "\n",
       "       [[ 21,  24,  25],\n",
       "        [  0,   7,  16],\n",
       "        [  8,  27,  49],\n",
       "        ...,\n",
       "        [ 50,  84, 118],\n",
       "        [ 50,  84, 120],\n",
       "        [ 42,  73, 109]],\n",
       "\n",
       "       ...,\n",
       "\n",
       "       [[ 96, 170, 208],\n",
       "        [ 34, 153, 201],\n",
       "        [ 26, 161, 198],\n",
       "        ...,\n",
       "        [ 70, 133, 160],\n",
       "        [  7,  31,  56],\n",
       "        [ 20,  34,  53]],\n",
       "\n",
       "       [[ 96, 139, 180],\n",
       "        [ 42, 123, 173],\n",
       "        [ 30, 144, 186],\n",
       "        ...,\n",
       "        [ 94, 148, 184],\n",
       "        [ 34,  62,  97],\n",
       "        [ 34,  53,  83]],\n",
       "\n",
       "       [[116, 144, 177],\n",
       "        [ 94, 129, 168],\n",
       "        [ 87, 142, 179],\n",
       "        ...,\n",
       "        [140, 184, 216],\n",
       "        [ 84, 118, 151],\n",
       "        [ 72,  92, 123]]], dtype=uint8)"
      ]
     },
     "execution_count": 20,
     "metadata": {},
     "output_type": "execute_result"
    }
   ],
   "source": [
    "cv2.imread(train_imgs[0])"
   ]
  },
  {
   "cell_type": "code",
   "execution_count": 21,
   "metadata": {},
   "outputs": [
    {
     "data": {
      "text/plain": [
       "'./data/cifar/train/0_frog.png'"
      ]
     },
     "execution_count": 21,
     "metadata": {},
     "output_type": "execute_result"
    }
   ],
   "source": [
    "train_imgs[0]"
   ]
  },
  {
   "cell_type": "code",
   "execution_count": 25,
   "metadata": {},
   "outputs": [
    {
     "data": {
      "text/plain": [
       "'frog'"
      ]
     },
     "execution_count": 25,
     "metadata": {},
     "output_type": "execute_result"
    }
   ],
   "source": [
    "label = train_imgs[0].split('/')[-1].split('_')[-1].replace('.png','')\n",
    "label"
   ]
  },
  {
   "cell_type": "code",
   "execution_count": 31,
   "metadata": {},
   "outputs": [],
   "source": [
    "transforms_dict = {\n",
    "    'train':torchvision.transforms.Compose([\n",
    "        torchvision.transforms.ToTensor(),\n",
    "        torchvision.transforms.Normalize((0.5,0.5,0.5), (0.5,0.5,0.5)) #(mean, std)\n",
    "    ]),\n",
    "    'test':torchvision.transforms.Compose([\n",
    "        torchvision.transforms.ToTensor(),\n",
    "        torchvision.transforms.Normalize((.5,.5,.5),(.5, .5, .5))\n",
    "    ])\n",
    "}"
   ]
  },
  {
   "cell_type": "code",
   "execution_count": 33,
   "metadata": {},
   "outputs": [],
   "source": [
    "class CIFAR10_Dataset(torch.utils.data.Dataset):\n",
    "    def __init__(self,img_path,labels_idx_dict,mode,transforms_dict=None):\n",
    "        super(CIFAR10_Dataset, self).__init__\n",
    "        self.img_path = img_path\n",
    "        self.labels_idx_dict = labels_idx_dict\n",
    "        self.mode = mode\n",
    "        self.transforms_dict = transforms_dict\n",
    "        \n",
    "    def __getitem__(self, index):\n",
    "        img_p = self.img_path[index]\n",
    "        img = cv2.imread(img_p)\n",
    "        label = img_p.split('/')[-1].split('_')[-1].replace('.png','')\n",
    "        label = self.labels_idx_dict[label]\n",
    "        \n",
    "        if self.transforms_dict:\n",
    "            img = self.transforms_dict[self.mode](img)\n",
    "            \n",
    "        return img, label\n",
    "        \n",
    "    def __len__(self):\n",
    "        return len(self.img_path)        "
   ]
  },
  {
   "cell_type": "code",
   "execution_count": 44,
   "metadata": {},
   "outputs": [],
   "source": [
    "train_ds = CIFAR10_Dataset(train_imgs, labels_idx_dict, 'train',transforms_dict=transforms_dict)\n",
    "test_ds = CIFAR10_Dataset(train_imgs,labels_idx_dict, 'test',transforms_dict=transforms_dict)"
   ]
  },
  {
   "cell_type": "code",
   "execution_count": 45,
   "metadata": {},
   "outputs": [],
   "source": [
    "train_dl = torch.utils.data.DataLoader(train_ds, batch_size=8, shuffle=True)\n",
    "test_dl = torch.utils.data.DataLoader(test_ds, batch_size=8, shuffle=False)"
   ]
  },
  {
   "cell_type": "code",
   "execution_count": 50,
   "metadata": {},
   "outputs": [],
   "source": [
    "net = EfficientNet.from_name('efficientnet-b0')"
   ]
  },
  {
   "cell_type": "code",
   "execution_count": 52,
   "metadata": {},
   "outputs": [],
   "source": [
    "criterion = torch.nn.CrossEntropyLoss()"
   ]
  },
  {
   "cell_type": "code",
   "execution_count": 54,
   "metadata": {},
   "outputs": [],
   "source": [
    "optimizer = torch.optim.SGD(net.parameters(),lr=1e-3,momentum=0.9)"
   ]
  },
  {
   "cell_type": "code",
   "execution_count": 55,
   "metadata": {},
   "outputs": [],
   "source": [
    "epochs_num = 50"
   ]
  },
  {
   "cell_type": "code",
   "execution_count": null,
   "metadata": {},
   "outputs": [],
   "source": []
  },
  {
   "cell_type": "code",
   "execution_count": null,
   "metadata": {},
   "outputs": [],
   "source": [
    "for epoch in range(epochs_num):\n",
    "    epoch_loss = 0\n",
    "    epoch_correct = 0\n",
    "    \n",
    "    for batch in train_dl:\n",
    "        imgs,labels = batch\n",
    "        \n",
    "        optimizer.zero_grad()\n",
    "        output = net(imgs)\n",
    "        loss = criterion(output, labels)\n",
    "        loss.backward()\n",
    "        optimizer.step()\n",
    "        \n",
    "        \n",
    "        "
   ]
  }
 ],
 "metadata": {
  "kernelspec": {
   "display_name": "Python 3",
   "language": "python",
   "name": "python3"
  },
  "language_info": {
   "codemirror_mode": {
    "name": "ipython",
    "version": 3
   },
   "file_extension": ".py",
   "mimetype": "text/x-python",
   "name": "python",
   "nbconvert_exporter": "python",
   "pygments_lexer": "ipython3",
   "version": "3.7.0"
  },
  "varInspector": {
   "cols": {
    "lenName": 16,
    "lenType": 16,
    "lenVar": 40
   },
   "kernels_config": {
    "python": {
     "delete_cmd_postfix": "",
     "delete_cmd_prefix": "del ",
     "library": "var_list.py",
     "varRefreshCmd": "print(var_dic_list())"
    },
    "r": {
     "delete_cmd_postfix": ") ",
     "delete_cmd_prefix": "rm(",
     "library": "var_list.r",
     "varRefreshCmd": "cat(var_dic_list()) "
    }
   },
   "types_to_exclude": [
    "module",
    "function",
    "builtin_function_or_method",
    "instance",
    "_Feature"
   ],
   "window_display": false
  }
 },
 "nbformat": 4,
 "nbformat_minor": 2
}
