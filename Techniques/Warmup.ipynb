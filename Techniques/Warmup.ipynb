{
  "nbformat": 4,
  "nbformat_minor": 0,
  "metadata": {
    "colab": {
      "name": "Warmup.ipynb",
      "provenance": [],
      "collapsed_sections": []
    },
    "kernelspec": {
      "name": "python3",
      "display_name": "Python 3"
    },
    "accelerator": "GPU"
  },
  "cells": [
    {
      "cell_type": "code",
      "metadata": {
        "id": "MDn2nbB5U-L5",
        "colab_type": "code",
        "outputId": "3cea4315-ba7d-4f87-a1d7-fbf2a2106906",
        "colab": {
          "base_uri": "https://localhost:8080/",
          "height": 124
        }
      },
      "source": [
        "from google.colab import drive\n",
        "drive.mount('/content/drive')"
      ],
      "execution_count": 0,
      "outputs": [
        {
          "output_type": "stream",
          "text": [
            "Go to this URL in a browser: https://accounts.google.com/o/oauth2/auth?client_id=947318989803-6bn6qk8qdgf4n4g3pfee6491hc0brc4i.apps.googleusercontent.com&redirect_uri=urn%3aietf%3awg%3aoauth%3a2.0%3aoob&response_type=code&scope=email%20https%3a%2f%2fwww.googleapis.com%2fauth%2fdocs.test%20https%3a%2f%2fwww.googleapis.com%2fauth%2fdrive%20https%3a%2f%2fwww.googleapis.com%2fauth%2fdrive.photos.readonly%20https%3a%2f%2fwww.googleapis.com%2fauth%2fpeopleapi.readonly\n",
            "\n",
            "Enter your authorization code:\n",
            "··········\n",
            "Mounted at /content/drive\n"
          ],
          "name": "stdout"
        }
      ]
    },
    {
      "cell_type": "code",
      "metadata": {
        "id": "bxZWWUuHVDTb",
        "colab_type": "code",
        "colab": {}
      },
      "source": [
        "!unzip drive/My\\ Drive/cifar.zip"
      ],
      "execution_count": 0,
      "outputs": []
    },
    {
      "cell_type": "code",
      "metadata": {
        "id": "I9Yywg4At9cQ",
        "colab_type": "code",
        "outputId": "e2f6a9c9-2f38-48f3-aba7-74c9f96d8b47",
        "colab": {
          "base_uri": "https://localhost:8080/",
          "height": 190
        }
      },
      "source": [
        "!pip install git+https://github.com/ildoonet/pytorch-gradual-warmup-lr.git"
      ],
      "execution_count": 0,
      "outputs": [
        {
          "output_type": "stream",
          "text": [
            "Collecting git+https://github.com/ildoonet/pytorch-gradual-warmup-lr.git\n",
            "  Cloning https://github.com/ildoonet/pytorch-gradual-warmup-lr.git to /tmp/pip-req-build-syeo5gqh\n",
            "  Running command git clone -q https://github.com/ildoonet/pytorch-gradual-warmup-lr.git /tmp/pip-req-build-syeo5gqh\n",
            "Requirement already satisfied (use --upgrade to upgrade): warmup-scheduler==0.1.1 from git+https://github.com/ildoonet/pytorch-gradual-warmup-lr.git in /usr/local/lib/python3.6/dist-packages\n",
            "Building wheels for collected packages: warmup-scheduler\n",
            "  Building wheel for warmup-scheduler (setup.py) ... \u001b[?25l\u001b[?25hdone\n",
            "  Created wheel for warmup-scheduler: filename=warmup_scheduler-0.1.1-cp36-none-any.whl size=3641 sha256=f4e4b1923cd5756fdd4fd6af7b3ce6e4f7f1ee9a524e98290a4b07f48737b71e\n",
            "  Stored in directory: /tmp/pip-ephem-wheel-cache-g710i_43/wheels/b7/24/83/d30234cc013cff538805b14df916e79091f7cf9ee2c5bf3a64\n",
            "Successfully built warmup-scheduler\n"
          ],
          "name": "stdout"
        }
      ]
    },
    {
      "cell_type": "code",
      "metadata": {
        "id": "0Hf6cuvmuBpp",
        "colab_type": "code",
        "colab": {}
      },
      "source": [
        "from warmup_scheduler import GradualWarmupScheduler"
      ],
      "execution_count": 0,
      "outputs": []
    },
    {
      "cell_type": "code",
      "metadata": {
        "id": "0iVB6GPEVYvP",
        "colab_type": "code",
        "colab": {}
      },
      "source": [
        "import torch\n",
        "import torchvision\n",
        "import glob\n",
        "import os\n",
        "import PIL\n",
        "import time"
      ],
      "execution_count": 0,
      "outputs": []
    },
    {
      "cell_type": "code",
      "metadata": {
        "id": "VrZYQLXBVgPJ",
        "colab_type": "code",
        "colab": {}
      },
      "source": [
        "train_imgs = glob.glob('./cifar/train/*.png')\n",
        "test_imgs = glob.glob('./cifar/test/*.png')\n",
        "labels = []\n",
        "with open('./cifar/labels.txt','r') as f:\n",
        "  labels = f.readlines()\n",
        "num_classes = len(labels)\n",
        "label_idx_dict = {label.replace('\\n',''):idx for idx, label in enumerate(labels)}"
      ],
      "execution_count": 0,
      "outputs": []
    },
    {
      "cell_type": "code",
      "metadata": {
        "id": "Uow5l7pJWU_g",
        "colab_type": "code",
        "colab": {}
      },
      "source": [
        "transform_dict = {\n",
        "    'train':torchvision.transforms.Compose([\n",
        "                                            torchvision.transforms.RandomResizedCrop(32),\n",
        "                                            torchvision.transforms.RandomHorizontalFlip(),\n",
        "                                            torchvision.transforms.ToTensor(),\n",
        "                                            torchvision.transforms.Normalize([0.485,0.456,0.406],[0.229,0.224,0.225])\n",
        "    ]),\n",
        "    'test':torchvision.transforms.Compose([\n",
        "                                           torchvision.transforms.ToTensor(),\n",
        "                                           torchvision.transforms.Normalize([0.485,0.456,0.406],[0.229,0.224,0.225])\n",
        "    ])\n",
        "}"
      ],
      "execution_count": 0,
      "outputs": []
    },
    {
      "cell_type": "code",
      "metadata": {
        "id": "ILHif7qvXSV3",
        "colab_type": "code",
        "colab": {}
      },
      "source": [
        "class CIFAR10Dataset(torch.utils.data.Dataset):\n",
        "  def __init__(self, imgs_path, label_idx_dict, transform=None):\n",
        "    super(CIFAR10Dataset,self).__init__()\n",
        "    self.imgs_path = imgs_path\n",
        "    self.label_idx_dict = label_idx_dict\n",
        "    self.num_imgs = len(imgs_path)\n",
        "    self.transform = transform\n",
        "\n",
        "  def __getitem__(self,idx):\n",
        "    img_p = self.imgs_path[idx]\n",
        "    img = PIL.Image.open(img_p)\n",
        "    label = img_p.split('/')[-1].split('_')[-1].replace('.png','')\n",
        "    label_idx = self.label_idx_dict[label]\n",
        "\n",
        "    if self.transform:\n",
        "      img = self.transform(img)\n",
        "\n",
        "    return img, label_idx\n",
        "\n",
        "  def __len__(self):\n",
        "    return self.num_imgs"
      ],
      "execution_count": 0,
      "outputs": []
    },
    {
      "cell_type": "code",
      "metadata": {
        "id": "EJXJC7u0aN4X",
        "colab_type": "code",
        "colab": {}
      },
      "source": [
        "batch_size = 128\n",
        "num_epochs = 200\n",
        "warmup_epochs=20"
      ],
      "execution_count": 0,
      "outputs": []
    },
    {
      "cell_type": "code",
      "metadata": {
        "id": "iAF2avlqad8O",
        "colab_type": "code",
        "colab": {}
      },
      "source": [
        "def main(warmup=False):\n",
        "  lr=1e-4\n",
        "\n",
        "  train_ds = CIFAR10Dataset(train_imgs, label_idx_dict, transform_dict['train'])\n",
        "  test_ds = CIFAR10Dataset(test_imgs, label_idx_dict, transform=transform_dict['test'])\n",
        "\n",
        "  train_dl = torch.utils.data.DataLoader(train_ds, batch_size=batch_size,shuffle=True)\n",
        "  test_dl = torch.utils.data.DataLoader(test_ds, batch_size=batch_size, shuffle=False)\n",
        "\n",
        "  net=torchvision.models.resnet18(pretrained=True)\n",
        "  criterion=torch.nn.CrossEntropyLoss()\n",
        "  if warmup:\n",
        "    print('Warmup START!!')\n",
        "    lr /= 10\n",
        "    optimizer=torch.optim.Adam(net.parameters(),lr=lr)\n",
        "    scheduler=torch.optim.lr_scheduler.StepLR(optimizer,step_size=60)\n",
        "    scheduler=GradualWarmupScheduler(optimizer,multiplier=10,total_epoch=warmup_epochs,after_scheduler=scheduler)\n",
        "\n",
        "  else:\n",
        "    optimizer=torch.optim.Adam(net.parameters(),lr=lr)\n",
        "    scheduler=torch.optim.lr_scheduler.StepLR(optimizer,step_size=70)\n",
        "    print('No warmup START!!')\n",
        "\n",
        "\n",
        "\n",
        "\n",
        "  device='cuda:0' if torch.cuda.is_available else 'cpu'\n",
        "  torch.backends.cudnn.benchmark=True\n",
        "  net.to(device)\n",
        "\n",
        "  hist = {'loss':[],'acc':[],'val_loss':[],'val_acc':[],'lr':[]}\n",
        "\n",
        "  for epoch in range(num_epochs):\n",
        "    since = time.time()\n",
        "    cur_lr = scheduler.get_lr()[0]\n",
        "    hist['lr'].append(cur_lr)\n",
        "\n",
        "    net.train()\n",
        "    epoch_loss = 0.\n",
        "    epoch_corrects = 0.\n",
        "    epoch_imgs = 0.\n",
        "    for batch in train_dl:\n",
        "      imgs, labels = batch\n",
        "      imgs, labels = imgs.to(device),labels.to(device)\n",
        "      epoch_imgs += imgs.size(0)\n",
        "\n",
        "      optimizer.zero_grad()\n",
        "      outputs=net(imgs)\n",
        "      loss = criterion(outputs, labels)\n",
        "      loss.backward()\n",
        "      optimizer.step()\n",
        "\n",
        "      epoch_loss += loss.item()*imgs.size(0)\n",
        "      epoch_corrects += sum(labels==outputs.argmax(1)).item()\n",
        "\n",
        "    l = epoch_loss/epoch_imgs\n",
        "    a = epoch_corrects/epoch_imgs\n",
        "\n",
        "    hist['loss'].append(l)\n",
        "    hist['acc'].append(a)\n",
        "\n",
        "    print('Epoch {}: Loss {:.4f} Acc {:.4f} Time {:.2f} lr {}'.format(epoch+1,l,a,time.time()-since, cur_lr))\n",
        "\n",
        "    val_loss = 0.\n",
        "    val_corrects = 0.\n",
        "    val_imgs = 0.\n",
        "    for batch in test_dl:\n",
        "      imgs, labels = batch\n",
        "      imgs, labels = imgs.to(device), labels.to(device)\n",
        "      val_imgs += imgs.size(0)\n",
        "\n",
        "      with torch.no_grad():\n",
        "        outputs=net(imgs)\n",
        "        loss = criterion(outputs, labels)\n",
        "\n",
        "      val_loss += loss.item()*imgs.size(0)\n",
        "      val_corrects += sum(labels==outputs.argmax(1)).item()\n",
        "\n",
        "    l = val_loss/val_imgs\n",
        "    a = val_corrects/val_imgs\n",
        "\n",
        "    hist['val_loss'].append(l)\n",
        "    hist['val_acc'].append(a)\n",
        "\n",
        "    print('Val: Loss {:.4f} Acc {:.4f}'.format(l, a))\n",
        "\n",
        "    scheduler.step()\n",
        "\n",
        "  return hist\n"
      ],
      "execution_count": 0,
      "outputs": []
    },
    {
      "cell_type": "markdown",
      "metadata": {
        "id": "m0a-8rlOKfe0",
        "colab_type": "text"
      },
      "source": [
        "## Warmup Epoch:100"
      ]
    },
    {
      "cell_type": "code",
      "metadata": {
        "id": "gPPYwVN6ox0N",
        "colab_type": "code",
        "outputId": "2417ef18-eea0-42ca-cd0c-48cb7059345c",
        "colab": {
          "base_uri": "https://localhost:8080/",
          "height": 1000
        }
      },
      "source": [
        "hist = main(False)"
      ],
      "execution_count": 0,
      "outputs": [
        {
          "output_type": "stream",
          "text": [
            "No warmup START!!\n",
            "Epoch 1: Loss 2.2485 Acc 0.4321 Time 27.67 lr 0.0001\n",
            "Val: Loss 1.1508 Acc 0.6126\n",
            "Epoch 2: Loss 1.1355 Acc 0.6112 Time 27.61 lr 0.0001\n",
            "Val: Loss 0.9201 Acc 0.6856\n",
            "Epoch 3: Loss 0.9997 Acc 0.6555 Time 27.47 lr 0.0001\n",
            "Val: Loss 0.8290 Acc 0.7159\n",
            "Epoch 4: Loss 0.9270 Acc 0.6818 Time 27.76 lr 0.0001\n",
            "Val: Loss 0.7543 Acc 0.7428\n",
            "Epoch 5: Loss 0.8803 Acc 0.6952 Time 27.54 lr 0.0001\n",
            "Val: Loss 0.7099 Acc 0.7579\n",
            "Epoch 6: Loss 0.8416 Acc 0.7080 Time 27.10 lr 0.0001\n",
            "Val: Loss 0.6953 Acc 0.7634\n",
            "Epoch 7: Loss 0.8049 Acc 0.7165 Time 27.02 lr 0.0001\n",
            "Val: Loss 0.6674 Acc 0.7694\n",
            "Epoch 8: Loss 0.7762 Acc 0.7290 Time 28.21 lr 0.0001\n",
            "Val: Loss 0.6459 Acc 0.7781\n",
            "Epoch 9: Loss 0.7619 Acc 0.7355 Time 29.25 lr 0.0001\n",
            "Val: Loss 0.6334 Acc 0.7822\n",
            "Epoch 10: Loss 0.7392 Acc 0.7432 Time 28.04 lr 0.0001\n",
            "Val: Loss 0.6222 Acc 0.7846\n",
            "Epoch 11: Loss 0.7203 Acc 0.7506 Time 27.97 lr 0.0001\n",
            "Val: Loss 0.6120 Acc 0.7916\n",
            "Epoch 12: Loss 0.7099 Acc 0.7539 Time 27.92 lr 0.0001\n",
            "Val: Loss 0.5993 Acc 0.7924\n",
            "Epoch 13: Loss 0.6934 Acc 0.7596 Time 27.51 lr 0.0001\n",
            "Val: Loss 0.5930 Acc 0.7961\n",
            "Epoch 14: Loss 0.6792 Acc 0.7642 Time 27.87 lr 0.0001\n",
            "Val: Loss 0.5827 Acc 0.8009\n",
            "Epoch 15: Loss 0.6682 Acc 0.7684 Time 27.60 lr 0.0001\n",
            "Val: Loss 0.5700 Acc 0.8064\n",
            "Epoch 16: Loss 0.6535 Acc 0.7710 Time 27.80 lr 0.0001\n",
            "Val: Loss 0.5653 Acc 0.8050\n",
            "Epoch 17: Loss 0.6459 Acc 0.7770 Time 27.56 lr 0.0001\n",
            "Val: Loss 0.5474 Acc 0.8128\n",
            "Epoch 18: Loss 0.6300 Acc 0.7806 Time 27.72 lr 0.0001\n",
            "Val: Loss 0.5642 Acc 0.8022\n",
            "Epoch 19: Loss 0.6268 Acc 0.7816 Time 27.81 lr 0.0001\n",
            "Val: Loss 0.5461 Acc 0.8129\n",
            "Epoch 20: Loss 0.6181 Acc 0.7869 Time 27.62 lr 0.0001\n",
            "Val: Loss 0.5459 Acc 0.8158\n",
            "Epoch 21: Loss 0.6099 Acc 0.7886 Time 27.46 lr 0.0001\n",
            "Val: Loss 0.5296 Acc 0.8192\n",
            "Epoch 22: Loss 0.6051 Acc 0.7885 Time 27.60 lr 0.0001\n",
            "Val: Loss 0.5370 Acc 0.8173\n",
            "Epoch 23: Loss 0.6023 Acc 0.7916 Time 27.53 lr 0.0001\n",
            "Val: Loss 0.5404 Acc 0.8160\n",
            "Epoch 24: Loss 0.5900 Acc 0.7946 Time 27.68 lr 0.0001\n",
            "Val: Loss 0.5389 Acc 0.8131\n",
            "Epoch 25: Loss 0.5840 Acc 0.7983 Time 27.44 lr 0.0001\n",
            "Val: Loss 0.5341 Acc 0.8166\n",
            "Epoch 26: Loss 0.5710 Acc 0.8014 Time 27.57 lr 0.0001\n",
            "Val: Loss 0.5381 Acc 0.8124\n",
            "Epoch 27: Loss 0.5682 Acc 0.8023 Time 27.77 lr 0.0001\n",
            "Val: Loss 0.5131 Acc 0.8248\n",
            "Epoch 28: Loss 0.5635 Acc 0.8037 Time 27.58 lr 0.0001\n",
            "Val: Loss 0.5260 Acc 0.8192\n",
            "Epoch 29: Loss 0.5562 Acc 0.8047 Time 27.87 lr 0.0001\n",
            "Val: Loss 0.5266 Acc 0.8185\n",
            "Epoch 30: Loss 0.5482 Acc 0.8096 Time 27.61 lr 0.0001\n",
            "Val: Loss 0.5225 Acc 0.8202\n",
            "Epoch 31: Loss 0.5519 Acc 0.8075 Time 27.60 lr 0.0001\n",
            "Val: Loss 0.5206 Acc 0.8245\n",
            "Epoch 32: Loss 0.5437 Acc 0.8122 Time 27.70 lr 0.0001\n",
            "Val: Loss 0.5239 Acc 0.8228\n",
            "Epoch 33: Loss 0.5446 Acc 0.8109 Time 27.45 lr 0.0001\n",
            "Val: Loss 0.5229 Acc 0.8194\n",
            "Epoch 34: Loss 0.5345 Acc 0.8148 Time 27.67 lr 0.0001\n",
            "Val: Loss 0.5126 Acc 0.8232\n",
            "Epoch 35: Loss 0.5033 Acc 0.8264 Time 27.59 lr 1e-05\n",
            "Val: Loss 0.4967 Acc 0.8297\n",
            "Epoch 36: Loss 0.4918 Acc 0.8294 Time 27.52 lr 1e-05\n",
            "Val: Loss 0.4946 Acc 0.8304\n",
            "Epoch 37: Loss 0.4858 Acc 0.8288 Time 27.66 lr 1e-05\n",
            "Val: Loss 0.4913 Acc 0.8306\n",
            "Epoch 38: Loss 0.4827 Acc 0.8329 Time 27.54 lr 1e-05\n",
            "Val: Loss 0.4921 Acc 0.8315\n",
            "Epoch 39: Loss 0.4785 Acc 0.8352 Time 27.93 lr 1e-05\n",
            "Val: Loss 0.4917 Acc 0.8310\n",
            "Epoch 40: Loss 0.4779 Acc 0.8348 Time 27.68 lr 1e-05\n",
            "Val: Loss 0.4930 Acc 0.8313\n",
            "Epoch 41: Loss 0.4628 Acc 0.8385 Time 27.45 lr 1e-05\n",
            "Val: Loss 0.4938 Acc 0.8312\n",
            "Epoch 42: Loss 0.4644 Acc 0.8379 Time 27.79 lr 1e-05\n",
            "Val: Loss 0.4950 Acc 0.8296\n",
            "Epoch 43: Loss 0.4715 Acc 0.8377 Time 27.68 lr 1e-05\n",
            "Val: Loss 0.4953 Acc 0.8291\n",
            "Epoch 44: Loss 0.4658 Acc 0.8365 Time 27.53 lr 1e-05\n",
            "Val: Loss 0.4909 Acc 0.8305\n",
            "Epoch 45: Loss 0.4617 Acc 0.8381 Time 27.77 lr 1e-05\n",
            "Val: Loss 0.4862 Acc 0.8331\n",
            "Epoch 46: Loss 0.4602 Acc 0.8407 Time 27.52 lr 1e-05\n",
            "Val: Loss 0.4907 Acc 0.8321\n",
            "Epoch 47: Loss 0.4598 Acc 0.8398 Time 27.74 lr 1e-05\n",
            "Val: Loss 0.4920 Acc 0.8331\n",
            "Epoch 48: Loss 0.4558 Acc 0.8410 Time 27.62 lr 1e-05\n",
            "Val: Loss 0.4933 Acc 0.8311\n",
            "Epoch 49: Loss 0.4566 Acc 0.8411 Time 27.84 lr 1e-05\n",
            "Val: Loss 0.4905 Acc 0.8307\n",
            "Epoch 50: Loss 0.4567 Acc 0.8406 Time 27.65 lr 1e-05\n",
            "Val: Loss 0.4918 Acc 0.8313\n",
            "Epoch 51: Loss 0.4511 Acc 0.8434 Time 27.49 lr 1e-05\n",
            "Val: Loss 0.4903 Acc 0.8311\n",
            "Epoch 52: Loss 0.4513 Acc 0.8430 Time 27.64 lr 1e-05\n",
            "Val: Loss 0.4895 Acc 0.8338\n",
            "Epoch 53: Loss 0.4536 Acc 0.8422 Time 27.65 lr 1e-05\n",
            "Val: Loss 0.4899 Acc 0.8334\n",
            "Epoch 54: Loss 0.4478 Acc 0.8443 Time 27.71 lr 1e-05\n",
            "Val: Loss 0.4942 Acc 0.8313\n",
            "Epoch 55: Loss 0.4401 Acc 0.8475 Time 27.72 lr 1e-05\n",
            "Val: Loss 0.4902 Acc 0.8324\n",
            "Epoch 56: Loss 0.4454 Acc 0.8457 Time 27.60 lr 1e-05\n",
            "Val: Loss 0.4921 Acc 0.8314\n",
            "Epoch 57: Loss 0.4475 Acc 0.8446 Time 27.57 lr 1e-05\n",
            "Val: Loss 0.4964 Acc 0.8303\n",
            "Epoch 58: Loss 0.4407 Acc 0.8474 Time 27.54 lr 1e-05\n",
            "Val: Loss 0.4967 Acc 0.8321\n",
            "Epoch 59: Loss 0.4436 Acc 0.8443 Time 27.83 lr 1e-05\n",
            "Val: Loss 0.4952 Acc 0.8310\n",
            "Epoch 60: Loss 0.4407 Acc 0.8467 Time 27.76 lr 1e-05\n",
            "Val: Loss 0.4962 Acc 0.8305\n",
            "Epoch 61: Loss 0.4444 Acc 0.8443 Time 27.69 lr 1e-05\n",
            "Val: Loss 0.4949 Acc 0.8315\n",
            "Epoch 62: Loss 0.4419 Acc 0.8456 Time 27.67 lr 1e-05\n",
            "Val: Loss 0.4960 Acc 0.8324\n",
            "Epoch 63: Loss 0.4415 Acc 0.8468 Time 27.87 lr 1e-05\n",
            "Val: Loss 0.4937 Acc 0.8319\n",
            "Epoch 64: Loss 0.4400 Acc 0.8458 Time 27.60 lr 1e-05\n",
            "Val: Loss 0.4957 Acc 0.8329\n",
            "Epoch 65: Loss 0.4363 Acc 0.8501 Time 27.89 lr 1e-05\n",
            "Val: Loss 0.4979 Acc 0.8325\n",
            "Epoch 66: Loss 0.4384 Acc 0.8471 Time 27.79 lr 1e-05\n",
            "Val: Loss 0.4974 Acc 0.8308\n",
            "Epoch 67: Loss 0.4307 Acc 0.8489 Time 27.83 lr 1e-05\n",
            "Val: Loss 0.4997 Acc 0.8321\n",
            "Epoch 68: Loss 0.4290 Acc 0.8493 Time 27.87 lr 1.0000000000000002e-06\n",
            "Val: Loss 0.4987 Acc 0.8324\n",
            "Epoch 69: Loss 0.4276 Acc 0.8527 Time 27.69 lr 1.0000000000000002e-06\n",
            "Val: Loss 0.4980 Acc 0.8325\n",
            "Epoch 70: Loss 0.4378 Acc 0.8472 Time 27.70 lr 1.0000000000000002e-06\n",
            "Val: Loss 0.4980 Acc 0.8326\n",
            "Epoch 71: Loss 0.4307 Acc 0.8508 Time 27.69 lr 1.0000000000000002e-06\n",
            "Val: Loss 0.4977 Acc 0.8330\n",
            "Epoch 72: Loss 0.4322 Acc 0.8507 Time 27.52 lr 1.0000000000000002e-06\n",
            "Val: Loss 0.4972 Acc 0.8328\n",
            "Epoch 73: Loss 0.4272 Acc 0.8511 Time 27.86 lr 1.0000000000000002e-06\n",
            "Val: Loss 0.4972 Acc 0.8328\n",
            "Epoch 74: Loss 0.4276 Acc 0.8520 Time 27.72 lr 1.0000000000000002e-06\n",
            "Val: Loss 0.4969 Acc 0.8324\n",
            "Epoch 75: Loss 0.4288 Acc 0.8505 Time 27.43 lr 1.0000000000000002e-06\n",
            "Val: Loss 0.4967 Acc 0.8325\n",
            "Epoch 76: Loss 0.4319 Acc 0.8499 Time 27.81 lr 1.0000000000000002e-06\n",
            "Val: Loss 0.4963 Acc 0.8330\n",
            "Epoch 77: Loss 0.4294 Acc 0.8510 Time 27.43 lr 1.0000000000000002e-06\n",
            "Val: Loss 0.4961 Acc 0.8326\n",
            "Epoch 78: Loss 0.4249 Acc 0.8520 Time 27.86 lr 1.0000000000000002e-06\n",
            "Val: Loss 0.4966 Acc 0.8326\n",
            "Epoch 79: Loss 0.4212 Acc 0.8539 Time 27.51 lr 1.0000000000000002e-06\n",
            "Val: Loss 0.4965 Acc 0.8322\n",
            "Epoch 80: Loss 0.4274 Acc 0.8511 Time 27.57 lr 1.0000000000000002e-06\n",
            "Val: Loss 0.4959 Acc 0.8328\n",
            "Epoch 81: Loss 0.4270 Acc 0.8526 Time 27.70 lr 1.0000000000000002e-06\n",
            "Val: Loss 0.4962 Acc 0.8326\n",
            "Epoch 82: Loss 0.4278 Acc 0.8508 Time 27.50 lr 1.0000000000000002e-06\n",
            "Val: Loss 0.4958 Acc 0.8327\n",
            "Epoch 83: Loss 0.4259 Acc 0.8514 Time 27.59 lr 1.0000000000000002e-06\n",
            "Val: Loss 0.4961 Acc 0.8323\n",
            "Epoch 84: Loss 0.4215 Acc 0.8536 Time 27.56 lr 1.0000000000000002e-06\n",
            "Val: Loss 0.4957 Acc 0.8322\n",
            "Epoch 85: Loss 0.4269 Acc 0.8518 Time 27.68 lr 1.0000000000000002e-06\n",
            "Val: Loss 0.4956 Acc 0.8328\n",
            "Epoch 86: Loss 0.4243 Acc 0.8514 Time 27.55 lr 1.0000000000000002e-06\n",
            "Val: Loss 0.4960 Acc 0.8323\n",
            "Epoch 87: Loss 0.4346 Acc 0.8488 Time 27.42 lr 1.0000000000000002e-06\n",
            "Val: Loss 0.4956 Acc 0.8323\n",
            "Epoch 88: Loss 0.4284 Acc 0.8498 Time 27.59 lr 1.0000000000000002e-06\n",
            "Val: Loss 0.4958 Acc 0.8332\n",
            "Epoch 89: Loss 0.4300 Acc 0.8514 Time 27.70 lr 1.0000000000000002e-06\n",
            "Val: Loss 0.4965 Acc 0.8327\n",
            "Epoch 90: Loss 0.4328 Acc 0.8497 Time 27.54 lr 1.0000000000000002e-06\n",
            "Val: Loss 0.4965 Acc 0.8324\n",
            "Epoch 91: Loss 0.4315 Acc 0.8500 Time 27.83 lr 1.0000000000000002e-06\n",
            "Val: Loss 0.4965 Acc 0.8324\n",
            "Epoch 92: Loss 0.4240 Acc 0.8519 Time 27.48 lr 1.0000000000000002e-06\n",
            "Val: Loss 0.4966 Acc 0.8326\n",
            "Epoch 93: Loss 0.4255 Acc 0.8533 Time 27.66 lr 1.0000000000000002e-06\n",
            "Val: Loss 0.4966 Acc 0.8316\n",
            "Epoch 94: Loss 0.4241 Acc 0.8525 Time 27.58 lr 1.0000000000000002e-06\n",
            "Val: Loss 0.4965 Acc 0.8318\n",
            "Epoch 95: Loss 0.4252 Acc 0.8508 Time 27.61 lr 1.0000000000000002e-06\n",
            "Val: Loss 0.4968 Acc 0.8315\n",
            "Epoch 96: Loss 0.4215 Acc 0.8534 Time 27.55 lr 1.0000000000000002e-06\n",
            "Val: Loss 0.4970 Acc 0.8311\n",
            "Epoch 97: Loss 0.4295 Acc 0.8502 Time 27.58 lr 1.0000000000000002e-06\n",
            "Val: Loss 0.4969 Acc 0.8321\n",
            "Epoch 98: Loss 0.4288 Acc 0.8508 Time 27.64 lr 1.0000000000000002e-06\n",
            "Val: Loss 0.4961 Acc 0.8320\n",
            "Epoch 99: Loss 0.4256 Acc 0.8520 Time 27.70 lr 1.0000000000000002e-06\n",
            "Val: Loss 0.4961 Acc 0.8320\n",
            "Epoch 100: Loss 0.4269 Acc 0.8507 Time 27.57 lr 1.0000000000000002e-06\n",
            "Val: Loss 0.4967 Acc 0.8320\n"
          ],
          "name": "stdout"
        }
      ]
    },
    {
      "cell_type": "code",
      "metadata": {
        "id": "kPhc-ast1rUW",
        "colab_type": "code",
        "outputId": "b97cc790-d97e-4e28-e0ca-13475e758623",
        "colab": {
          "base_uri": "https://localhost:8080/",
          "height": 1000
        }
      },
      "source": [
        "wu_hist = main(True)"
      ],
      "execution_count": 0,
      "outputs": [
        {
          "output_type": "stream",
          "text": [
            "Warmup START!!\n",
            "Epoch 1: Loss 6.9385 Acc 0.0920 Time 28.31 lr 1e-05\n",
            "Val: Loss 3.9714 Acc 0.2288\n",
            "Epoch 2: Loss 2.6168 Acc 0.3619 Time 28.16 lr 1.45e-05\n",
            "Val: Loss 1.8517 Acc 0.4487\n",
            "Epoch 3: Loss 1.6913 Acc 0.4690 Time 28.56 lr 1.9e-05\n",
            "Val: Loss 1.4284 Acc 0.5281\n",
            "Epoch 4: Loss 1.4255 Acc 0.5267 Time 28.22 lr 2.3500000000000002e-05\n",
            "Val: Loss 1.2331 Acc 0.5835\n",
            "Epoch 5: Loss 1.2662 Acc 0.5686 Time 28.31 lr 2.8e-05\n",
            "Val: Loss 1.1037 Acc 0.6222\n",
            "Epoch 6: Loss 1.1636 Acc 0.6010 Time 28.10 lr 3.2500000000000004e-05\n",
            "Val: Loss 1.0014 Acc 0.6581\n",
            "Epoch 7: Loss 1.0824 Acc 0.6262 Time 28.02 lr 3.7000000000000005e-05\n",
            "Val: Loss 0.9235 Acc 0.6809\n",
            "Epoch 8: Loss 1.0283 Acc 0.6452 Time 28.20 lr 4.1500000000000006e-05\n",
            "Val: Loss 0.8661 Acc 0.7041\n",
            "Epoch 9: Loss 0.9683 Acc 0.6680 Time 28.01 lr 4.6e-05\n",
            "Val: Loss 0.8331 Acc 0.7124\n",
            "Epoch 10: Loss 0.9270 Acc 0.6777 Time 28.09 lr 5.05e-05\n",
            "Val: Loss 0.7899 Acc 0.7308\n",
            "Epoch 11: Loss 0.8929 Acc 0.6914 Time 28.03 lr 5.5e-05\n",
            "Val: Loss 0.7619 Acc 0.7402\n",
            "Epoch 12: Loss 0.8666 Acc 0.7001 Time 27.91 lr 5.950000000000001e-05\n",
            "Val: Loss 0.7298 Acc 0.7479\n",
            "Epoch 13: Loss 0.8392 Acc 0.7086 Time 27.98 lr 6.400000000000001e-05\n",
            "Val: Loss 0.7038 Acc 0.7582\n",
            "Epoch 14: Loss 0.8172 Acc 0.7162 Time 28.77 lr 6.85e-05\n",
            "Val: Loss 0.6745 Acc 0.7727\n",
            "Epoch 15: Loss 0.7950 Acc 0.7248 Time 28.67 lr 7.3e-05\n",
            "Val: Loss 0.6718 Acc 0.7721\n",
            "Epoch 16: Loss 0.7822 Acc 0.7293 Time 28.61 lr 7.75e-05\n",
            "Val: Loss 0.6576 Acc 0.7740\n",
            "Epoch 17: Loss 0.7535 Acc 0.7394 Time 27.78 lr 8.2e-05\n",
            "Val: Loss 0.6350 Acc 0.7832\n",
            "Epoch 18: Loss 0.7360 Acc 0.7432 Time 28.26 lr 8.650000000000002e-05\n",
            "Val: Loss 0.6292 Acc 0.7890\n",
            "Epoch 19: Loss 0.7317 Acc 0.7458 Time 28.72 lr 9.1e-05\n",
            "Val: Loss 0.6261 Acc 0.7846\n",
            "Epoch 20: Loss 0.7156 Acc 0.7508 Time 28.81 lr 9.550000000000002e-05\n",
            "Val: Loss 0.6057 Acc 0.7917\n",
            "Epoch 21: Loss 0.7049 Acc 0.7559 Time 28.50 lr 0.0001\n",
            "Val: Loss 0.5952 Acc 0.7987\n",
            "Epoch 22: Loss 0.6926 Acc 0.7586 Time 28.53 lr 0.0001\n",
            "Val: Loss 0.5988 Acc 0.7959\n",
            "Epoch 23: Loss 0.6792 Acc 0.7645 Time 28.52 lr 0.0001\n",
            "Val: Loss 0.5806 Acc 0.8006\n",
            "Epoch 24: Loss 0.6655 Acc 0.7686 Time 28.54 lr 0.0001\n",
            "Val: Loss 0.5745 Acc 0.8032\n",
            "Epoch 25: Loss 0.6540 Acc 0.7723 Time 28.43 lr 0.0001\n",
            "Val: Loss 0.5813 Acc 0.8047\n",
            "Epoch 26: Loss 0.6517 Acc 0.7731 Time 28.59 lr 0.0001\n",
            "Val: Loss 0.5734 Acc 0.8045\n",
            "Epoch 27: Loss 0.6421 Acc 0.7796 Time 28.53 lr 0.0001\n",
            "Val: Loss 0.5582 Acc 0.8082\n",
            "Epoch 28: Loss 0.6266 Acc 0.7833 Time 28.80 lr 0.0001\n",
            "Val: Loss 0.5529 Acc 0.8123\n",
            "Epoch 29: Loss 0.6253 Acc 0.7826 Time 28.41 lr 0.0001\n",
            "Val: Loss 0.5644 Acc 0.8081\n",
            "Epoch 30: Loss 0.6166 Acc 0.7869 Time 28.75 lr 0.0001\n",
            "Val: Loss 0.5374 Acc 0.8186\n",
            "Epoch 31: Loss 0.6047 Acc 0.7886 Time 28.59 lr 0.0001\n",
            "Val: Loss 0.5483 Acc 0.8136\n",
            "Epoch 32: Loss 0.5983 Acc 0.7920 Time 28.44 lr 0.0001\n",
            "Val: Loss 0.5383 Acc 0.8184\n",
            "Epoch 33: Loss 0.5930 Acc 0.7920 Time 28.59 lr 0.0001\n",
            "Val: Loss 0.5396 Acc 0.8169\n",
            "Epoch 34: Loss 0.5801 Acc 0.7988 Time 28.45 lr 0.0001\n",
            "Val: Loss 0.5346 Acc 0.8200\n",
            "Epoch 35: Loss 0.5845 Acc 0.7966 Time 28.46 lr 0.0001\n",
            "Val: Loss 0.5340 Acc 0.8184\n",
            "Epoch 36: Loss 0.5731 Acc 0.7995 Time 28.55 lr 0.0001\n",
            "Val: Loss 0.5378 Acc 0.8197\n",
            "Epoch 37: Loss 0.5668 Acc 0.8015 Time 28.27 lr 0.0001\n",
            "Val: Loss 0.5252 Acc 0.8224\n",
            "Epoch 38: Loss 0.5622 Acc 0.8020 Time 28.70 lr 0.0001\n",
            "Val: Loss 0.5212 Acc 0.8243\n",
            "Epoch 39: Loss 0.5539 Acc 0.8064 Time 28.31 lr 0.0001\n",
            "Val: Loss 0.5250 Acc 0.8216\n",
            "Epoch 40: Loss 0.5554 Acc 0.8063 Time 28.60 lr 0.0001\n",
            "Val: Loss 0.5257 Acc 0.8235\n",
            "Epoch 41: Loss 0.5438 Acc 0.8113 Time 28.39 lr 0.0001\n",
            "Val: Loss 0.5269 Acc 0.8244\n",
            "Epoch 42: Loss 0.5411 Acc 0.8114 Time 28.35 lr 0.0001\n",
            "Val: Loss 0.5317 Acc 0.8188\n",
            "Epoch 43: Loss 0.5336 Acc 0.8145 Time 28.56 lr 0.0001\n",
            "Val: Loss 0.5250 Acc 0.8197\n",
            "Epoch 44: Loss 0.5293 Acc 0.8150 Time 28.30 lr 0.0001\n",
            "Val: Loss 0.5226 Acc 0.8229\n",
            "Epoch 45: Loss 0.5264 Acc 0.8185 Time 28.23 lr 0.0001\n",
            "Val: Loss 0.5184 Acc 0.8239\n",
            "Epoch 46: Loss 0.5286 Acc 0.8157 Time 28.43 lr 0.0001\n",
            "Val: Loss 0.5192 Acc 0.8256\n",
            "Epoch 47: Loss 0.5183 Acc 0.8192 Time 28.42 lr 0.0001\n",
            "Val: Loss 0.5185 Acc 0.8242\n",
            "Epoch 48: Loss 0.5117 Acc 0.8223 Time 28.31 lr 0.0001\n",
            "Val: Loss 0.5148 Acc 0.8264\n",
            "Epoch 49: Loss 0.5116 Acc 0.8208 Time 28.36 lr 0.0001\n",
            "Val: Loss 0.5162 Acc 0.8259\n",
            "Epoch 50: Loss 0.5057 Acc 0.8233 Time 28.39 lr 0.0001\n",
            "Val: Loss 0.5318 Acc 0.8258\n",
            "Epoch 51: Loss 0.5044 Acc 0.8227 Time 28.37 lr 0.0001\n",
            "Val: Loss 0.5084 Acc 0.8305\n",
            "Epoch 52: Loss 0.5001 Acc 0.8263 Time 28.47 lr 0.0001\n",
            "Val: Loss 0.5314 Acc 0.8252\n",
            "Epoch 53: Loss 0.4959 Acc 0.8265 Time 28.45 lr 0.0001\n",
            "Val: Loss 0.5176 Acc 0.8293\n",
            "Epoch 54: Loss 0.4929 Acc 0.8291 Time 28.37 lr 0.0001\n",
            "Val: Loss 0.5118 Acc 0.8276\n",
            "Epoch 55: Loss 0.4872 Acc 0.8302 Time 28.33 lr 0.0001\n",
            "Val: Loss 0.5219 Acc 0.8249\n",
            "Epoch 56: Loss 0.4623 Acc 0.8380 Time 28.57 lr 1e-05\n",
            "Val: Loss 0.4960 Acc 0.8337\n",
            "Epoch 57: Loss 0.4467 Acc 0.8435 Time 28.41 lr 1e-05\n",
            "Val: Loss 0.4970 Acc 0.8353\n",
            "Epoch 58: Loss 0.4417 Acc 0.8451 Time 28.56 lr 1e-05\n",
            "Val: Loss 0.4946 Acc 0.8351\n",
            "Epoch 59: Loss 0.4420 Acc 0.8464 Time 28.40 lr 1e-05\n",
            "Val: Loss 0.4952 Acc 0.8340\n",
            "Epoch 60: Loss 0.4364 Acc 0.8472 Time 28.39 lr 1e-05\n",
            "Val: Loss 0.4942 Acc 0.8358\n",
            "Epoch 61: Loss 0.4251 Acc 0.8526 Time 28.59 lr 1e-05\n",
            "Val: Loss 0.4973 Acc 0.8358\n",
            "Epoch 62: Loss 0.4273 Acc 0.8517 Time 28.53 lr 1e-05\n",
            "Val: Loss 0.4982 Acc 0.8360\n",
            "Epoch 63: Loss 0.4252 Acc 0.8528 Time 28.49 lr 1e-05\n",
            "Val: Loss 0.4972 Acc 0.8358\n",
            "Epoch 64: Loss 0.4265 Acc 0.8522 Time 28.46 lr 1e-05\n",
            "Val: Loss 0.4976 Acc 0.8371\n",
            "Epoch 65: Loss 0.4190 Acc 0.8540 Time 28.37 lr 1e-05\n",
            "Val: Loss 0.4989 Acc 0.8366\n",
            "Epoch 66: Loss 0.4202 Acc 0.8561 Time 28.65 lr 1e-05\n",
            "Val: Loss 0.5011 Acc 0.8374\n",
            "Epoch 67: Loss 0.4233 Acc 0.8533 Time 28.48 lr 1e-05\n",
            "Val: Loss 0.4976 Acc 0.8382\n",
            "Epoch 68: Loss 0.4224 Acc 0.8554 Time 28.69 lr 1e-05\n",
            "Val: Loss 0.4980 Acc 0.8372\n",
            "Epoch 69: Loss 0.4186 Acc 0.8541 Time 28.79 lr 1e-05\n",
            "Val: Loss 0.4982 Acc 0.8358\n",
            "Epoch 70: Loss 0.4199 Acc 0.8542 Time 28.69 lr 1e-05\n",
            "Val: Loss 0.4996 Acc 0.8365\n",
            "Epoch 71: Loss 0.4107 Acc 0.8575 Time 28.58 lr 1e-05\n",
            "Val: Loss 0.5001 Acc 0.8393\n",
            "Epoch 72: Loss 0.4143 Acc 0.8552 Time 28.65 lr 1e-05\n",
            "Val: Loss 0.4994 Acc 0.8380\n",
            "Epoch 73: Loss 0.4104 Acc 0.8574 Time 28.70 lr 1e-05\n",
            "Val: Loss 0.4971 Acc 0.8378\n",
            "Epoch 74: Loss 0.4063 Acc 0.8589 Time 28.60 lr 1e-05\n",
            "Val: Loss 0.4996 Acc 0.8391\n",
            "Epoch 75: Loss 0.4115 Acc 0.8574 Time 28.42 lr 1e-05\n",
            "Val: Loss 0.4996 Acc 0.8360\n",
            "Epoch 76: Loss 0.4107 Acc 0.8572 Time 28.72 lr 1e-05\n",
            "Val: Loss 0.4996 Acc 0.8364\n",
            "Epoch 77: Loss 0.4130 Acc 0.8562 Time 28.25 lr 1e-05\n",
            "Val: Loss 0.4942 Acc 0.8381\n",
            "Epoch 78: Loss 0.3993 Acc 0.8620 Time 28.69 lr 1e-05\n",
            "Val: Loss 0.5000 Acc 0.8368\n",
            "Epoch 79: Loss 0.4068 Acc 0.8597 Time 28.38 lr 1e-05\n",
            "Val: Loss 0.4986 Acc 0.8370\n",
            "Epoch 80: Loss 0.4020 Acc 0.8597 Time 28.56 lr 1e-05\n",
            "Val: Loss 0.5013 Acc 0.8369\n",
            "Epoch 81: Loss 0.3992 Acc 0.8610 Time 28.44 lr 1e-05\n",
            "Val: Loss 0.5015 Acc 0.8366\n",
            "Epoch 82: Loss 0.4056 Acc 0.8607 Time 28.58 lr 1e-05\n",
            "Val: Loss 0.4951 Acc 0.8381\n",
            "Epoch 83: Loss 0.4001 Acc 0.8613 Time 28.51 lr 1e-05\n",
            "Val: Loss 0.4978 Acc 0.8375\n",
            "Epoch 84: Loss 0.3988 Acc 0.8618 Time 28.55 lr 1e-05\n",
            "Val: Loss 0.4978 Acc 0.8361\n",
            "Epoch 85: Loss 0.4030 Acc 0.8601 Time 28.52 lr 1e-05\n",
            "Val: Loss 0.5023 Acc 0.8376\n",
            "Epoch 86: Loss 0.4042 Acc 0.8596 Time 28.62 lr 1e-05\n",
            "Val: Loss 0.4998 Acc 0.8369\n",
            "Epoch 87: Loss 0.3948 Acc 0.8627 Time 28.45 lr 1e-05\n",
            "Val: Loss 0.5006 Acc 0.8359\n",
            "Epoch 88: Loss 0.3912 Acc 0.8639 Time 28.66 lr 1e-05\n",
            "Val: Loss 0.5014 Acc 0.8360\n",
            "Epoch 89: Loss 0.3950 Acc 0.8629 Time 28.34 lr 1.0000000000000002e-06\n",
            "Val: Loss 0.5023 Acc 0.8363\n",
            "Epoch 90: Loss 0.3920 Acc 0.8630 Time 28.51 lr 1.0000000000000002e-06\n",
            "Val: Loss 0.5019 Acc 0.8366\n",
            "Epoch 91: Loss 0.3922 Acc 0.8636 Time 28.48 lr 1.0000000000000002e-06\n",
            "Val: Loss 0.5021 Acc 0.8368\n",
            "Epoch 92: Loss 0.3984 Acc 0.8617 Time 28.31 lr 1.0000000000000002e-06\n",
            "Val: Loss 0.5014 Acc 0.8363\n",
            "Epoch 93: Loss 0.3898 Acc 0.8636 Time 28.58 lr 1.0000000000000002e-06\n",
            "Val: Loss 0.5013 Acc 0.8365\n",
            "Epoch 94: Loss 0.3830 Acc 0.8674 Time 28.43 lr 1.0000000000000002e-06\n",
            "Val: Loss 0.5024 Acc 0.8365\n",
            "Epoch 95: Loss 0.3945 Acc 0.8622 Time 28.57 lr 1.0000000000000002e-06\n",
            "Val: Loss 0.5024 Acc 0.8368\n",
            "Epoch 96: Loss 0.3971 Acc 0.8632 Time 28.45 lr 1.0000000000000002e-06\n",
            "Val: Loss 0.5017 Acc 0.8368\n",
            "Epoch 97: Loss 0.3930 Acc 0.8647 Time 28.43 lr 1.0000000000000002e-06\n",
            "Val: Loss 0.5011 Acc 0.8370\n",
            "Epoch 98: Loss 0.3899 Acc 0.8645 Time 28.73 lr 1.0000000000000002e-06\n",
            "Val: Loss 0.5018 Acc 0.8367\n",
            "Epoch 99: Loss 0.3908 Acc 0.8663 Time 28.57 lr 1.0000000000000002e-06\n",
            "Val: Loss 0.5013 Acc 0.8367\n",
            "Epoch 100: Loss 0.3842 Acc 0.8662 Time 28.42 lr 1.0000000000000002e-06\n",
            "Val: Loss 0.5009 Acc 0.8366\n"
          ],
          "name": "stdout"
        }
      ]
    },
    {
      "cell_type": "code",
      "metadata": {
        "id": "JevOkz3OeIUy",
        "colab_type": "code",
        "outputId": "4eecf3fd-8ba1-47ab-da6c-94184a3349aa",
        "colab": {
          "base_uri": "https://localhost:8080/",
          "height": 516
        }
      },
      "source": [
        "%matplotlib inline\n",
        "import matplotlib.pyplot as plt\n",
        "\n",
        "epochs = range(1,num_epochs+1)\n",
        "plt.plot(epochs, hist['loss'],'go',label='no')\n",
        "plt.plot(epochs, hist['val_loss'],'g',label='no val')\n",
        "plt.plot(epochs, wu_hist['loss'],'ro',label='warmup')\n",
        "plt.plot(epochs, wu_hist['val_loss'],'r',label='warmup val')\n",
        "plt.legend()\n",
        "plt.show()\n",
        "\n",
        "plt.figure()\n",
        "plt.plot(epochs, hist['acc'],'go',label='no')\n",
        "plt.plot(epochs,hist['val_acc'],'g',label='no val')\n",
        "plt.plot(epochs,wu_hist['acc'],'ro',label='warmup')\n",
        "plt.plot(epochs,wu_hist['val_acc'],'r',label='warmup val')\n",
        "plt.legend()\n",
        "plt.show()"
      ],
      "execution_count": 0,
      "outputs": [
        {
          "output_type": "display_data",
          "data": {
            "image/png": "[encoded data removed]",
            "text/plain": [
              "<Figure size 432x288 with 1 Axes>"
            ]
          },
          "metadata": {
            "tags": []
          }
        },
        {
          "output_type": "display_data",
          "data": {
            "image/png": "[encoded data removed]",
            "text/plain": [
              "<Figure size 432x288 with 1 Axes>"
            ]
          },
          "metadata": {
            "tags": []
          }
        }
      ]
    },
    {
      "cell_type": "markdown",
      "metadata": {
        "id": "SidsC7BfKpSi",
        "colab_type": "text"
      },
      "source": [
        "## Warmup Epoch:200"
      ]
    },
    {
      "cell_type": "code",
      "metadata": {
        "id": "8zaggpDNKoZz",
        "colab_type": "code",
        "outputId": "6350f071-f250-47b6-b4de-c9341e6eeebd",
        "colab": {
          "base_uri": "https://localhost:8080/",
          "height": 104
        }
      },
      "source": [
        "hist = main(False)"
      ],
      "execution_count": 0,
      "outputs": [
        {
          "output_type": "stream",
          "text": [
            "No warmup START!!\n",
            "Epoch 1: Loss 2.2416 Acc 0.4359 Time 28.48 lr 0.0001\n",
            "Val: Loss 1.1385 Acc 0.6130\n",
            "Epoch 2: Loss 1.1387 Acc 0.6084 Time 28.67 lr 0.0001\n",
            "Val: Loss 0.9021 Acc 0.6914\n"
          ],
          "name": "stdout"
        }
      ]
    },
    {
      "cell_type": "code",
      "metadata": {
        "id": "HwKNb5HcK7GD",
        "colab_type": "code",
        "colab": {}
      },
      "source": [
        "wu_hist = main(True)"
      ],
      "execution_count": 0,
      "outputs": []
    },
    {
      "cell_type": "code",
      "metadata": {
        "id": "eCg4KIqjK65f",
        "colab_type": "code",
        "colab": {}
      },
      "source": [
        "%matplotlib inline\n",
        "import matplotlib.pyplot as plt\n",
        "\n",
        "epochs = range(1,num_epochs+1)\n",
        "plt.plot(epochs, hist['loss'],'go',label='no')\n",
        "plt.plot(epochs, hist['val_loss'],'g',label='no val')\n",
        "plt.plot(epochs, wu_hist['loss'],'ro',label='warmup')\n",
        "plt.plot(epochs, wu_hist['val_loss'],'r',label='warmup val')\n",
        "plt.legend()\n",
        "plt.show()\n",
        "\n",
        "plt.figure()\n",
        "plt.plot(epochs, hist['acc'],'go',label='no')\n",
        "plt.plot(epochs,hist['val_acc'],'g',label='no val')\n",
        "plt.plot(epochs,wu_hist['acc'],'ro',label='warmup')\n",
        "plt.plot(epochs,wu_hist['val_acc'],'r',label='warmup val')\n",
        "plt.legend()\n",
        "plt.show()"
      ],
      "execution_count": 0,
      "outputs": []
    },
    {
      "cell_type": "markdown",
      "metadata": {
        "id": "DrcIkk-UIWMw",
        "colab_type": "text"
      },
      "source": [
        "## Discussion\n",
        "epoch:100\n",
        "Warmup seems better than model without warmup.\n",
        "\n",
        "## Experiments\n",
        "1. Longer epochs(200)\n",
        "\n",
        "\n",
        "## Results\n",
        "1. "
      ]
    },
    {
      "cell_type": "code",
      "metadata": {
        "id": "UU_EJ2-7fYXb",
        "colab_type": "code",
        "colab": {}
      },
      "source": [
        "\n"
      ],
      "execution_count": 0,
      "outputs": []
    }
  ]
}