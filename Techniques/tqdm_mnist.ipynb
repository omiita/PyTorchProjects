{
  "nbformat": 4,
  "nbformat_minor": 0,
  "metadata": {
    "colab": {
      "name": "tqdm_mnist",
      "provenance": [],
      "collapsed_sections": []
    },
    "kernelspec": {
      "name": "python3",
      "display_name": "Python 3"
    },
    "accelerator": "GPU"
  },
  "cells": [
    {
      "cell_type": "code",
      "metadata": {
        "id": "1cU2pK5_E9Lc",
        "colab_type": "code",
        "outputId": "7ddab78c-438b-4f63-eb5f-ebe6fca9bcf8",
        "colab": {
          "base_uri": "https://localhost:8080/",
          "height": 34
        }
      },
      "source": [
        "!pip install tqdm"
      ],
      "execution_count": 0,
      "outputs": [
        {
          "output_type": "stream",
          "text": [
            "Requirement already satisfied: tqdm in /usr/local/lib/python3.6/dist-packages (4.28.1)\n"
          ],
          "name": "stdout"
        }
      ]
    },
    {
      "cell_type": "code",
      "metadata": {
        "id": "m7oISODuEjnn",
        "colab_type": "code",
        "colab": {}
      },
      "source": [
        "import torch\n",
        "import torchvision"
      ],
      "execution_count": 0,
      "outputs": []
    },
    {
      "cell_type": "code",
      "metadata": {
        "id": "kMjh2L4QFCLJ",
        "colab_type": "code",
        "outputId": "f48f2efe-17de-44bb-948d-5631e2939326",
        "colab": {
          "base_uri": "https://localhost:8080/",
          "height": 34
        }
      },
      "source": [
        "num_epochs = 5\n",
        "train_batch_size = 64\n",
        "test_batch_size = 1000\n",
        "lr = 1e-2\n",
        "\n",
        "torch.backends.cudnn.enabled=False\n",
        "random_seed = 1\n",
        "torch.manual_seed(random_seed)"
      ],
      "execution_count": 0,
      "outputs": [
        {
          "output_type": "execute_result",
          "data": {
            "text/plain": [
              "<torch._C.Generator at 0x7f5c2f27f1f0>"
            ]
          },
          "metadata": {
            "tags": []
          },
          "execution_count": 13
        }
      ]
    },
    {
      "cell_type": "code",
      "metadata": {
        "id": "5Tt4FRyeGkY1",
        "colab_type": "code",
        "outputId": "5ad166d6-b2bb-4470-e6ba-a9b2f2977273",
        "colab": {
          "base_uri": "https://localhost:8080/",
          "height": 280
        }
      },
      "source": [
        "train_loader = torch.utils.data.DataLoader(\n",
        "    torchvision.datasets.MNIST('/files/',train=True,download=True,\n",
        "                               transform=torchvision.transforms.Compose([\n",
        "                                                                         torchvision.transforms.ToTensor(),\n",
        "                                                                         torchvision.transforms.Normalize((0.1307,),(0.3081,))\n",
        "                               ])),\n",
        "                               batch_size=train_batch_size, shuffle=True\n",
        ")\n",
        "\n",
        "test_loader = torch.utils.data.DataLoader(\n",
        "    torchvision.datasets.MNIST('/files/',train=False,download=True,\n",
        "                               transform=torchvision.transforms.Compose([\n",
        "                                                                         torchvision.transforms.ToTensor(),\n",
        "                                                                         torchvision.transforms.Normalize(\n",
        "                                                                             (0.1307,),(0.3081,)\n",
        "                                                                         )\n",
        "                               ])),\n",
        "                               batch_size=test_batch_size, shuffle=True\n",
        "\n",
        ")"
      ],
      "execution_count": 0,
      "outputs": [
        {
          "output_type": "stream",
          "text": [
            "  0%|          | 0/9912422 [00:00<?, ?it/s]"
          ],
          "name": "stderr"
        },
        {
          "output_type": "stream",
          "text": [
            "Downloading http://yann.lecun.com/exdb/mnist/train-images-idx3-ubyte.gz to /files/MNIST/raw/train-images-idx3-ubyte.gz\n"
          ],
          "name": "stdout"
        },
        {
          "output_type": "stream",
          "text": [
            "9920512it [00:00, 21546238.42it/s]                            \n"
          ],
          "name": "stderr"
        },
        {
          "output_type": "stream",
          "text": [
            "Extracting /files/MNIST/raw/train-images-idx3-ubyte.gz to /files/MNIST/raw\n"
          ],
          "name": "stdout"
        },
        {
          "output_type": "stream",
          "text": [
            "32768it [00:00, 331474.53it/s]\n",
            "0it [00:00, ?it/s]"
          ],
          "name": "stderr"
        },
        {
          "output_type": "stream",
          "text": [
            "Downloading http://yann.lecun.com/exdb/mnist/train-labels-idx1-ubyte.gz to /files/MNIST/raw/train-labels-idx1-ubyte.gz\n",
            "Extracting /files/MNIST/raw/train-labels-idx1-ubyte.gz to /files/MNIST/raw\n",
            "Downloading http://yann.lecun.com/exdb/mnist/t10k-images-idx3-ubyte.gz to /files/MNIST/raw/t10k-images-idx3-ubyte.gz\n"
          ],
          "name": "stdout"
        },
        {
          "output_type": "stream",
          "text": [
            "1654784it [00:00, 5326907.24it/s]                           \n",
            "8192it [00:00, 131133.53it/s]\n"
          ],
          "name": "stderr"
        },
        {
          "output_type": "stream",
          "text": [
            "Extracting /files/MNIST/raw/t10k-images-idx3-ubyte.gz to /files/MNIST/raw\n",
            "Downloading http://yann.lecun.com/exdb/mnist/t10k-labels-idx1-ubyte.gz to /files/MNIST/raw/t10k-labels-idx1-ubyte.gz\n",
            "Extracting /files/MNIST/raw/t10k-labels-idx1-ubyte.gz to /files/MNIST/raw\n",
            "Processing...\n",
            "Done!\n"
          ],
          "name": "stdout"
        }
      ]
    },
    {
      "cell_type": "code",
      "metadata": {
        "id": "5EwEZNp-J-3u",
        "colab_type": "code",
        "colab": {}
      },
      "source": [
        "net = torchvision.models.resnet18()\n",
        "net.conv1 = torch.nn.Conv2d(1, 64, kernel_size=7, stride=2,padding=3, bias=False)"
      ],
      "execution_count": 0,
      "outputs": []
    },
    {
      "cell_type": "code",
      "metadata": {
        "id": "CDlb5mbeRHMe",
        "colab_type": "code",
        "colab": {}
      },
      "source": [
        "criterion = torch.nn.CrossEntropyLoss()\n",
        "optimizer = torch.optim.Adam(net.parameters())"
      ],
      "execution_count": 0,
      "outputs": []
    },
    {
      "cell_type": "code",
      "metadata": {
        "id": "BM-W4biLRIPo",
        "colab_type": "code",
        "colab": {}
      },
      "source": [
        "def train(epoch):\n",
        "  net.train()\n",
        "  for idx, (data, targets) in enumerate(train_loader):\n",
        "    optimizer.zero_grad()\n",
        "    outputs = net(data)\n",
        "    loss = criterion(outputs, targets)\n",
        "    loss.backward()\n",
        "    optimizer.step()\n",
        "\n",
        "    if idx % 100 == 0:\n",
        "      print('Train Epoch: {} [{}/{} ({:.0f} %)]\\tLoss: {:.6f}'.format(\n",
        "          epoch, idx*len(data), len(train_loader.dataset),\n",
        "          100.*idx/len(train_loader), loss.item()\n",
        "      ))"
      ],
      "execution_count": 0,
      "outputs": []
    },
    {
      "cell_type": "code",
      "metadata": {
        "id": "lRSnOmJGSRQ4",
        "colab_type": "code",
        "colab": {}
      },
      "source": [
        "def test():\n",
        "  net.eval()\n",
        "  test_loss =0.\n",
        "  correct = 0\n",
        "  with torch.no_grad():\n",
        "    for data, target in test_loader:\n",
        "      output=net(data)\n",
        "      test_loss += criterion(output, target).item()\n",
        "      pred = output.argmax(1)\n",
        "      correct += sum(pred==target)\n",
        "  test_loss /= len(test_loader.dataset)\n",
        "  print('\\nTest set: Avg. loss: {:.4f}, Acc: {}/{} ({:.0f}%)\\n'.format(\n",
        "      test_loss, correct, len(test_loader.dataset), 100.* correct/len(test_loader.dataset)\n",
        "  ))\n",
        "    "
      ],
      "execution_count": 0,
      "outputs": []
    },
    {
      "cell_type": "code",
      "metadata": {
        "id": "qTwLkel-TUlB",
        "colab_type": "code",
        "outputId": "65af09c0-c6ab-4211-ca94-cca7ab3fc2ab",
        "colab": {
          "base_uri": "https://localhost:8080/",
          "height": 1000
        }
      },
      "source": [
        "from tqdm import tqdm\n",
        "test()\n",
        "for epoch in tqdm(range(1, num_epochs + 1)):\n",
        "  train(epoch)\n",
        "  test()"
      ],
      "execution_count": 0,
      "outputs": [
        {
          "output_type": "stream",
          "text": [
            "\n",
            "\n",
            "  0%|          | 0/5 [00:00<?, ?it/s]\u001b[A\u001b[A"
          ],
          "name": "stderr"
        },
        {
          "output_type": "stream",
          "text": [
            "\n",
            "Test set: Avg. loss: 0.0004, Acc: 8779/10000 (88%)\n",
            "\n",
            "Train Epoch: 1 [0/60000 (0 %)]\tLoss: 0.264928\n",
            "Train Epoch: 1 [6400/60000 (11 %)]\tLoss: 0.341353\n",
            "Train Epoch: 1 [12800/60000 (21 %)]\tLoss: 0.053392\n",
            "Train Epoch: 1 [19200/60000 (32 %)]\tLoss: 0.126043\n",
            "Train Epoch: 1 [25600/60000 (43 %)]\tLoss: 0.087813\n",
            "Train Epoch: 1 [32000/60000 (53 %)]\tLoss: 0.190132\n",
            "Train Epoch: 1 [38400/60000 (64 %)]\tLoss: 0.076372\n",
            "Train Epoch: 1 [44800/60000 (75 %)]\tLoss: 0.041698\n",
            "Train Epoch: 1 [51200/60000 (85 %)]\tLoss: 0.031079\n",
            "Train Epoch: 1 [57600/60000 (96 %)]\tLoss: 0.049139\n"
          ],
          "name": "stdout"
        },
        {
          "output_type": "stream",
          "text": [
            "\n",
            "\n",
            " 20%|██        | 1/5 [10:59<43:59, 659.88s/it]\u001b[A\u001b[A"
          ],
          "name": "stderr"
        },
        {
          "output_type": "stream",
          "text": [
            "\n",
            "Test set: Avg. loss: 0.0001, Acc: 9831/10000 (98%)\n",
            "\n",
            "Train Epoch: 2 [0/60000 (0 %)]\tLoss: 0.117540\n",
            "Train Epoch: 2 [6400/60000 (11 %)]\tLoss: 0.022718\n",
            "Train Epoch: 2 [12800/60000 (21 %)]\tLoss: 0.013647\n",
            "Train Epoch: 2 [19200/60000 (32 %)]\tLoss: 0.034326\n",
            "Train Epoch: 2 [25600/60000 (43 %)]\tLoss: 0.009901\n",
            "Train Epoch: 2 [32000/60000 (53 %)]\tLoss: 0.234890\n",
            "Train Epoch: 2 [38400/60000 (64 %)]\tLoss: 0.078119\n",
            "Train Epoch: 2 [44800/60000 (75 %)]\tLoss: 0.007042\n",
            "Train Epoch: 2 [51200/60000 (85 %)]\tLoss: 0.003643\n",
            "Train Epoch: 2 [57600/60000 (96 %)]\tLoss: 0.027757\n"
          ],
          "name": "stdout"
        },
        {
          "output_type": "stream",
          "text": [
            "\n",
            "\n",
            " 40%|████      | 2/5 [22:11<33:10, 663.48s/it]\u001b[A\u001b[A"
          ],
          "name": "stderr"
        },
        {
          "output_type": "stream",
          "text": [
            "\n",
            "Test set: Avg. loss: 0.0000, Acc: 9887/10000 (99%)\n",
            "\n",
            "Train Epoch: 3 [0/60000 (0 %)]\tLoss: 0.024745\n",
            "Train Epoch: 3 [6400/60000 (11 %)]\tLoss: 0.125798\n",
            "Train Epoch: 3 [12800/60000 (21 %)]\tLoss: 0.115295\n",
            "Train Epoch: 3 [19200/60000 (32 %)]\tLoss: 0.020135\n",
            "Train Epoch: 3 [25600/60000 (43 %)]\tLoss: 0.004431\n",
            "Train Epoch: 3 [32000/60000 (53 %)]\tLoss: 0.005809\n",
            "Train Epoch: 3 [38400/60000 (64 %)]\tLoss: 0.049663\n",
            "Train Epoch: 3 [44800/60000 (75 %)]\tLoss: 0.165007\n",
            "Train Epoch: 3 [51200/60000 (85 %)]\tLoss: 0.114847\n",
            "Train Epoch: 3 [57600/60000 (96 %)]\tLoss: 0.105966\n"
          ],
          "name": "stdout"
        },
        {
          "output_type": "stream",
          "text": [
            "\n",
            "\n",
            " 60%|██████    | 3/5 [33:26<22:13, 666.78s/it]\u001b[A\u001b[A"
          ],
          "name": "stderr"
        },
        {
          "output_type": "stream",
          "text": [
            "\n",
            "Test set: Avg. loss: 0.0000, Acc: 9864/10000 (99%)\n",
            "\n",
            "Train Epoch: 4 [0/60000 (0 %)]\tLoss: 0.051555\n",
            "Train Epoch: 4 [6400/60000 (11 %)]\tLoss: 0.014693\n",
            "Train Epoch: 4 [12800/60000 (21 %)]\tLoss: 0.003387\n",
            "Train Epoch: 4 [19200/60000 (32 %)]\tLoss: 0.040111\n",
            "Train Epoch: 4 [25600/60000 (43 %)]\tLoss: 0.010598\n",
            "Train Epoch: 4 [32000/60000 (53 %)]\tLoss: 0.139817\n",
            "Train Epoch: 4 [38400/60000 (64 %)]\tLoss: 0.016978\n",
            "Train Epoch: 4 [44800/60000 (75 %)]\tLoss: 0.019221\n",
            "Train Epoch: 4 [51200/60000 (85 %)]\tLoss: 0.002305\n",
            "Train Epoch: 4 [57600/60000 (96 %)]\tLoss: 0.007656\n"
          ],
          "name": "stdout"
        },
        {
          "output_type": "stream",
          "text": [
            "\n",
            "\n",
            " 80%|████████  | 4/5 [44:46<11:10, 670.70s/it]\u001b[A\u001b[A"
          ],
          "name": "stderr"
        },
        {
          "output_type": "stream",
          "text": [
            "\n",
            "Test set: Avg. loss: 0.0000, Acc: 9902/10000 (99%)\n",
            "\n",
            "Train Epoch: 5 [0/60000 (0 %)]\tLoss: 0.015356\n",
            "Train Epoch: 5 [6400/60000 (11 %)]\tLoss: 0.009357\n",
            "Train Epoch: 5 [12800/60000 (21 %)]\tLoss: 0.020649\n",
            "Train Epoch: 5 [19200/60000 (32 %)]\tLoss: 0.069973\n",
            "Train Epoch: 5 [25600/60000 (43 %)]\tLoss: 0.003345\n",
            "Train Epoch: 5 [32000/60000 (53 %)]\tLoss: 0.079102\n",
            "Train Epoch: 5 [38400/60000 (64 %)]\tLoss: 0.001849\n",
            "Train Epoch: 5 [44800/60000 (75 %)]\tLoss: 0.028516\n",
            "Train Epoch: 5 [51200/60000 (85 %)]\tLoss: 0.014528\n",
            "Train Epoch: 5 [57600/60000 (96 %)]\tLoss: 0.004338\n"
          ],
          "name": "stdout"
        },
        {
          "output_type": "stream",
          "text": [
            "\n",
            "\n",
            "100%|██████████| 5/5 [56:11<00:00, 675.02s/it]\u001b[A\u001b[A\n",
            "\n",
            "\u001b[A\u001b[A"
          ],
          "name": "stderr"
        },
        {
          "output_type": "stream",
          "text": [
            "\n",
            "Test set: Avg. loss: 0.0000, Acc: 9892/10000 (99%)\n",
            "\n"
          ],
          "name": "stdout"
        }
      ]
    },
    {
      "cell_type": "code",
      "metadata": {
        "id": "_KqTU8FZTb-h",
        "colab_type": "code",
        "colab": {}
      },
      "source": [
        ""
      ],
      "execution_count": 0,
      "outputs": []
    }
  ]
}