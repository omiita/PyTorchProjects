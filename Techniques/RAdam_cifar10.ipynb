{
  "nbformat": 4,
  "nbformat_minor": 0,
  "metadata": {
    "accelerator": "GPU",
    "colab": {
      "name": "RAdam_cifar10.ipynb",
      "provenance": [],
      "collapsed_sections": [],
      "machine_shape": "hm"
    },
    "kernelspec": {
      "name": "python3",
      "display_name": "Python 3"
    },
    "language_info": {
      "codemirror_mode": {
        "name": "ipython",
        "version": 3
      },
      "file_extension": ".py",
      "mimetype": "text/x-python",
      "name": "python",
      "nbconvert_exporter": "python",
      "pygments_lexer": "ipython3",
      "version": "3.7.0"
    },
    "varInspector": {
      "cols": {
        "lenName": 16,
        "lenType": 16,
        "lenVar": 40
      },
      "kernels_config": {
        "python": {
          "delete_cmd_postfix": "",
          "delete_cmd_prefix": "del ",
          "library": "var_list.py",
          "varRefreshCmd": "print(var_dic_list())"
        },
        "r": {
          "delete_cmd_postfix": ") ",
          "delete_cmd_prefix": "rm(",
          "library": "var_list.r",
          "varRefreshCmd": "cat(var_dic_list()) "
        }
      },
      "types_to_exclude": [
        "module",
        "function",
        "builtin_function_or_method",
        "instance",
        "_Feature"
      ],
      "window_display": false
    },
    "nteract": {
      "version": "0.15.0"
    }
  },
  "cells": [
    {
      "cell_type": "code",
      "metadata": {
        "colab_type": "code",
        "id": "L7PsInT7zOlb",
        "outputId": "cca185cb-0cfb-4b17-f599-356a1195ba7c",
        "colab": {
          "base_uri": "https://localhost:8080/",
          "height": 122
        }
      },
      "source": [
        "from google.colab import drive\n",
        "drive.mount('/content/drive')"
      ],
      "execution_count": 2,
      "outputs": [
        {
          "output_type": "stream",
          "text": [
            "Go to this URL in a browser: https://accounts.google.com/o/oauth2/auth?client_id=947318989803-6bn6qk8qdgf4n4g3pfee6491hc0brc4i.apps.googleusercontent.com&redirect_uri=urn%3aietf%3awg%3aoauth%3a2.0%3aoob&response_type=code&scope=email%20https%3a%2f%2fwww.googleapis.com%2fauth%2fdocs.test%20https%3a%2f%2fwww.googleapis.com%2fauth%2fdrive%20https%3a%2f%2fwww.googleapis.com%2fauth%2fdrive.photos.readonly%20https%3a%2f%2fwww.googleapis.com%2fauth%2fpeopleapi.readonly\n",
            "\n",
            "Enter your authorization code:\n",
            "··········\n",
            "Mounted at /content/drive\n"
          ],
          "name": "stdout"
        }
      ]
    },
    {
      "cell_type": "code",
      "metadata": {
        "colab_type": "code",
        "id": "WKhxfmUizPKr",
        "outputId": "7e822013-4b08-49de-b191-f3472185fd88",
        "colab": {
          "base_uri": "https://localhost:8080/",
          "height": 136
        }
      },
      "source": [
        "!git clone https://github.com/LiyuanLucasLiu/RAdam.git"
      ],
      "execution_count": 3,
      "outputs": [
        {
          "output_type": "stream",
          "text": [
            "Cloning into 'RAdam'...\n",
            "remote: Enumerating objects: 32, done.\u001b[K\n",
            "remote: Counting objects: 100% (32/32), done.\u001b[K\n",
            "remote: Compressing objects: 100% (27/27), done.\u001b[K\n",
            "remote: Total 306 (delta 11), reused 16 (delta 3), pack-reused 274\u001b[K\n",
            "Receiving objects: 100% (306/306), 949.66 KiB | 2.11 MiB/s, done.\n",
            "Resolving deltas: 100% (140/140), done.\n"
          ],
          "name": "stdout"
        }
      ]
    },
    {
      "cell_type": "code",
      "metadata": {
        "colab_type": "code",
        "id": "BiTF3LgNzbA5",
        "colab": {}
      },
      "source": [
        "!unzip ./drive/My\\ Drive/cifar.zip"
      ],
      "execution_count": 0,
      "outputs": []
    },
    {
      "cell_type": "code",
      "metadata": {
        "colab_type": "code",
        "id": "Fd4RGEt60FFY",
        "colab": {}
      },
      "source": [
        "import torch\n",
        "import torchvision"
      ],
      "execution_count": 0,
      "outputs": []
    },
    {
      "cell_type": "code",
      "metadata": {
        "colab_type": "code",
        "id": "1RzDNKW90Kd7",
        "colab": {}
      },
      "source": [
        "import glob\n",
        "import os"
      ],
      "execution_count": 0,
      "outputs": []
    },
    {
      "cell_type": "code",
      "metadata": {
        "colab_type": "code",
        "id": "Sv885oQtDlGA",
        "colab": {}
      },
      "source": [
        "from RAdam.radam import RAdam"
      ],
      "execution_count": 0,
      "outputs": []
    },
    {
      "cell_type": "code",
      "metadata": {
        "colab_type": "code",
        "id": "qA7tIerk0Rup",
        "outputId": "f4516d61-1dd5-41e7-c85e-79851bef5485",
        "colab": {
          "base_uri": "https://localhost:8080/",
          "height": 187
        }
      },
      "source": [
        "train_imgs = glob.glob('./cifar/train/*.png')\n",
        "test_imgs = glob.glob('./cifar/test/*.png')\n",
        "classes = []\n",
        "with open('./cifar/labels.txt','r') as f:\n",
        "  classes = f.readlines()\n",
        "class_to_idx_dict = {class_.replace(\"\\n\",\"\"):idx for idx, class_ in enumerate(classes)}\n",
        "class_to_idx_dict"
      ],
      "execution_count": 8,
      "outputs": [
        {
          "output_type": "execute_result",
          "data": {
            "text/plain": [
              "{'airplane': 0,\n",
              " 'automobile': 1,\n",
              " 'bird': 2,\n",
              " 'cat': 3,\n",
              " 'deer': 4,\n",
              " 'dog': 5,\n",
              " 'frog': 6,\n",
              " 'horse': 7,\n",
              " 'ship': 8,\n",
              " 'truck': 9}"
            ]
          },
          "metadata": {
            "tags": []
          },
          "execution_count": 8
        }
      ]
    },
    {
      "cell_type": "code",
      "metadata": {
        "colab_type": "code",
        "id": "i9Ib9bsF5ytS",
        "outputId": "288a643b-bf2e-449c-b53c-a2dd62748ff7",
        "colab": {
          "base_uri": "https://localhost:8080/",
          "height": 34
        }
      },
      "source": [
        "device = 'cuda:0' if torch.cuda.is_available() else 'cpu'\n",
        "device"
      ],
      "execution_count": 9,
      "outputs": [
        {
          "output_type": "execute_result",
          "data": {
            "text/plain": [
              "'cuda:0'"
            ]
          },
          "metadata": {
            "tags": []
          },
          "execution_count": 9
        }
      ]
    },
    {
      "cell_type": "code",
      "metadata": {
        "colab_type": "code",
        "id": "VEsi2qed2Zhf",
        "colab": {}
      },
      "source": [
        "transform = {\n",
        "    'train':torchvision.transforms.Compose([\n",
        "                                            torchvision.transforms.RandomResizedCrop(32),\n",
        "                                            torchvision.transforms.RandomHorizontalFlip(),\n",
        "                                            torchvision.transforms.ToTensor(),\n",
        "                                            torchvision.transforms.Normalize([0.485, 0.456, 0.406], [0.229, 0.224, 0.225])\n",
        "    ]),\n",
        "    'test':torchvision.transforms.Compose([\n",
        "                                           torchvision.transforms.ToTensor(),\n",
        "                                           torchvision.transforms.Normalize([0.485,0.456,0.406],[0.229,0.224,0.225])\n",
        "    ])\n",
        "}"
      ],
      "execution_count": 0,
      "outputs": []
    },
    {
      "cell_type": "code",
      "metadata": {
        "colab_type": "code",
        "id": "FSWH1aE32E6E",
        "colab": {}
      },
      "source": [
        "from PIL import Image"
      ],
      "execution_count": 0,
      "outputs": []
    },
    {
      "cell_type": "code",
      "metadata": {
        "colab_type": "code",
        "id": "-dsXjvd80mTX",
        "colab": {}
      },
      "source": [
        "class CIFAR10Dataset(torch.utils.data.Dataset):\n",
        "  def __init__(self, img_path, transform=None, mode='train',class_to_idx_dict=class_to_idx_dict):\n",
        "    super(CIFAR10Dataset, self).__init__()\n",
        "    self.img_path = img_path\n",
        "    self.transform = transform\n",
        "    self.mode = mode\n",
        "    self.class_to_idx_dict = class_to_idx_dict\n",
        "\n",
        "  def __getitem__(self, idx):\n",
        "    img_p = self.img_path[idx]\n",
        "    img = Image.open(img_p)\n",
        "    label = img_p.split('/')[-1].split('_')[-1].replace('.png','')\n",
        "    label_idx = self.class_to_idx_dict[label]\n",
        "\n",
        "    if self.transform:\n",
        "      img = self.transform[self.mode](img)\n",
        "\n",
        "    return img, label_idx\n",
        "\n",
        "  def __len__(self):\n",
        "    return len(self.img_path)"
      ],
      "execution_count": 0,
      "outputs": []
    },
    {
      "cell_type": "code",
      "metadata": {
        "colab_type": "code",
        "id": "6c83OsDw0nlP",
        "colab": {}
      },
      "source": [
        "train_ds = CIFAR10Dataset(train_imgs, transform=transform,mode='train',class_to_idx_dict=class_to_idx_dict)\n",
        "test_ds = CIFAR10Dataset(test_imgs, transform=transform, mode='test',class_to_idx_dict=class_to_idx_dict)"
      ],
      "execution_count": 0,
      "outputs": []
    },
    {
      "cell_type": "code",
      "metadata": {
        "colab_type": "code",
        "id": "Y6tYbQdV5GAX",
        "colab": {}
      },
      "source": [
        "train_dl = torch.utils.data.DataLoader(train_ds, batch_size=128, shuffle=True)\n",
        "test_dl = torch.utils.data.DataLoader(test_ds, batch_size=128, shuffle=False)\n",
        "dl_dict = {'train':train_dl,'test':test_dl}"
      ],
      "execution_count": 0,
      "outputs": []
    },
    {
      "cell_type": "code",
      "metadata": {
        "colab_type": "code",
        "id": "3Nmsw1gfzNBb",
        "colab": {}
      },
      "source": [
        "num_epoch=200"
      ],
      "execution_count": 0,
      "outputs": []
    },
    {
      "cell_type": "code",
      "metadata": {
        "colab_type": "code",
        "id": "U3IUGP3xJQUa",
        "colab": {}
      },
      "source": [
        "hist = {\"train_loss\":[],\"train_acc\":[], \"test_loss\":[],\"test_acc\":[]}\n",
        "\n",
        "# net = EfficientNet.from_pretrained('efficientnet-b1')\n",
        "# net._fc = torch.nn.Linear(in_features=net._bn1.num_features,out_features=num_classes)\n",
        "\n",
        "# net = torchvision.models.resnet50(pretrained=False)\n",
        "# net.fc = torch.nn.Linear(2048,10)\n",
        "\n",
        "net = torchvision.models.resnet18()\n",
        "net.fc = torch.nn.Linear(512, 10)\n",
        "model_name = net.__class__.__name__\n",
        "criterion = torch.nn.CrossEntropyLoss()\n",
        "optimizer = RAdam(net.parameters(),lr=1e-2,betas=(0.9,0.999))\n",
        "# optimizer = torch.optim.Adam(net.parameters(),lr=1e-2, betas=(0.9,0.999))\n",
        "scheduler = torch.optim.lr_scheduler.StepLR(optimizer, num_epoch/4)\n",
        "\n",
        "device = \"cuda:0\" if torch.cuda.is_available else \"cpu\"\n",
        "net.to(device)\n",
        "torch.backends.cudnn.benchmark=True"
      ],
      "execution_count": 0,
      "outputs": []
    },
    {
      "cell_type": "code",
      "metadata": {
        "id": "m3AL8zXydX96",
        "colab_type": "code",
        "outputId": "b6a70273-adf8-420d-b594-1cd0a5516fe8",
        "colab": {
          "base_uri": "https://localhost:8080/",
          "height": 1000
        }
      },
      "source": [
        "import time\n",
        "print(\"START\")\n",
        "print(type(optimizer))\n",
        "for epoch in range(num_epoch):\n",
        "    cur_lr = scheduler.get_lr()[0]\n",
        "    since = time.time()\n",
        "    net.train()\n",
        "    epoch_loss = 0.\n",
        "    epoch_correct = 0.\n",
        "    epoch_imgs = 0\n",
        "    for batch in train_dl:\n",
        "        #print(i+1)\n",
        "        imgs,labels = batch\n",
        "        imgs = imgs.to(device)\n",
        "        labels = labels.to(device)\n",
        "        epoch_imgs += len(labels)\n",
        "\n",
        "        optimizer.zero_grad()\n",
        "        output = net(imgs)\n",
        "        loss = criterion(output, labels)        \n",
        "        loss.backward()\n",
        "        optimizer.step()\n",
        "        \n",
        "        epoch_loss += loss.item()*imgs.size(0)\n",
        "        epoch_correct += sum(output.argmax(1)==labels)\n",
        "\n",
        "    t_l = epoch_loss/epoch_imgs\n",
        "    t_a = float(epoch_correct/epoch_imgs)\n",
        "    hist['train_loss'].append(t_l)\n",
        "    hist['train_acc'].append(t_a)\n",
        "    print(\"Epoch {}: Loss: {:.4f} Acc: {:.4f} Time: {:.2f} lr: {:.6f}\".format(epoch+1,t_l,t_a, time.time()-since, cur_lr)) \n",
        "\n",
        "    net.eval()\n",
        "    val_loss = 0.\n",
        "    val_correct = 0.\n",
        "    val_imgs = 0\n",
        "    with torch.no_grad():\n",
        "      for batch in test_dl:\n",
        "          imgs,labels = batch\n",
        "          imgs = imgs.to(device)\n",
        "          labels = labels.to(device)\n",
        "          val_imgs += len(labels)\n",
        "          output = net(imgs)\n",
        "          loss = criterion(output, labels)        \n",
        "          \n",
        "          val_loss += loss.item()*imgs.size(0)\n",
        "          val_correct += sum(output.argmax(1)==labels) \n",
        "\n",
        "    l = val_loss/val_imgs\n",
        "    a = float(val_correct/val_imgs)\n",
        "    hist['test_loss'].append(l)\n",
        "    hist['test_acc'].append(a)\n",
        "    print(\"Val: Loss: {:.4f} Acc: {:.4f}\".format(l,a)) \n",
        "\n",
        "    scheduler.step()"
      ],
      "execution_count": 46,
      "outputs": [
        {
          "output_type": "stream",
          "text": [
            "START\n",
            "<class 'RAdam.radam.RAdam'>\n",
            "Epoch 1: Loss: 1.8566 Acc: 0.3211 Time: 34.32 lr: 0.010000\n",
            "Val: Loss: 1.5757 Acc: 0.4341\n",
            "Epoch 2: Loss: 1.6351 Acc: 0.4117 Time: 34.33 lr: 0.010000\n",
            "Val: Loss: 1.3606 Acc: 0.5103\n",
            "Epoch 3: Loss: 1.5002 Acc: 0.4648 Time: 35.12 lr: 0.010000\n",
            "Val: Loss: 1.2278 Acc: 0.5627\n",
            "Epoch 4: Loss: 1.4010 Acc: 0.4983 Time: 34.48 lr: 0.010000\n",
            "Val: Loss: 1.2986 Acc: 0.5555\n",
            "Epoch 5: Loss: 1.3265 Acc: 0.5312 Time: 33.69 lr: 0.010000\n",
            "Val: Loss: 1.0222 Acc: 0.6416\n",
            "Epoch 6: Loss: 1.2504 Acc: 0.5582 Time: 33.48 lr: 0.010000\n",
            "Val: Loss: 1.0849 Acc: 0.6319\n",
            "Epoch 7: Loss: 1.2072 Acc: 0.5751 Time: 33.67 lr: 0.010000\n",
            "Val: Loss: 0.9902 Acc: 0.6615\n",
            "Epoch 8: Loss: 1.1533 Acc: 0.5937 Time: 33.26 lr: 0.010000\n",
            "Val: Loss: 0.9260 Acc: 0.6864\n",
            "Epoch 9: Loss: 1.1144 Acc: 0.6105 Time: 34.23 lr: 0.010000\n",
            "Val: Loss: 0.8830 Acc: 0.6972\n",
            "Epoch 10: Loss: 1.0882 Acc: 0.6204 Time: 33.55 lr: 0.010000\n",
            "Val: Loss: 0.8929 Acc: 0.7040\n",
            "Epoch 11: Loss: 1.0606 Acc: 0.6279 Time: 34.21 lr: 0.010000\n",
            "Val: Loss: 0.8824 Acc: 0.6978\n",
            "Epoch 12: Loss: 1.0337 Acc: 0.6391 Time: 33.69 lr: 0.010000\n",
            "Val: Loss: 0.8320 Acc: 0.7192\n",
            "Epoch 13: Loss: 1.0180 Acc: 0.6438 Time: 32.83 lr: 0.010000\n",
            "Val: Loss: 0.8479 Acc: 0.7124\n",
            "Epoch 14: Loss: 0.9864 Acc: 0.6556 Time: 33.79 lr: 0.010000\n",
            "Val: Loss: 0.8570 Acc: 0.7057\n",
            "Epoch 15: Loss: 0.9740 Acc: 0.6609 Time: 34.37 lr: 0.010000\n",
            "Val: Loss: 0.7737 Acc: 0.7342\n",
            "Epoch 16: Loss: 0.9513 Acc: 0.6678 Time: 33.53 lr: 0.010000\n",
            "Val: Loss: 0.7708 Acc: 0.7326\n",
            "Epoch 17: Loss: 0.9360 Acc: 0.6779 Time: 34.69 lr: 0.010000\n",
            "Val: Loss: 0.7797 Acc: 0.7327\n",
            "Epoch 18: Loss: 0.9294 Acc: 0.6774 Time: 33.89 lr: 0.010000\n",
            "Val: Loss: 0.8063 Acc: 0.7283\n",
            "Epoch 19: Loss: 0.9144 Acc: 0.6827 Time: 33.46 lr: 0.010000\n",
            "Val: Loss: 0.6945 Acc: 0.7624\n",
            "Epoch 20: Loss: 0.8948 Acc: 0.6889 Time: 34.47 lr: 0.010000\n",
            "Val: Loss: 0.7301 Acc: 0.7571\n",
            "Epoch 21: Loss: 0.8888 Acc: 0.6925 Time: 34.70 lr: 0.010000\n",
            "Val: Loss: 0.6673 Acc: 0.7772\n",
            "Epoch 22: Loss: 0.8692 Acc: 0.6969 Time: 34.52 lr: 0.010000\n",
            "Val: Loss: 0.6972 Acc: 0.7586\n",
            "Epoch 23: Loss: 0.8712 Acc: 0.6997 Time: 33.46 lr: 0.010000\n",
            "Val: Loss: 0.7110 Acc: 0.7649\n",
            "Epoch 24: Loss: 0.8494 Acc: 0.7061 Time: 33.71 lr: 0.010000\n",
            "Val: Loss: 0.6282 Acc: 0.7891\n",
            "Epoch 25: Loss: 0.8446 Acc: 0.7068 Time: 33.49 lr: 0.010000\n",
            "Val: Loss: 0.6267 Acc: 0.7820\n",
            "Epoch 26: Loss: 0.8413 Acc: 0.7096 Time: 33.72 lr: 0.010000\n",
            "Val: Loss: 0.6502 Acc: 0.7787\n",
            "Epoch 27: Loss: 0.8434 Acc: 0.7094 Time: 33.90 lr: 0.010000\n",
            "Val: Loss: 0.6346 Acc: 0.7860\n",
            "Epoch 28: Loss: 0.8100 Acc: 0.7187 Time: 34.45 lr: 0.010000\n",
            "Val: Loss: 0.6771 Acc: 0.7676\n",
            "Epoch 29: Loss: 0.7992 Acc: 0.7210 Time: 34.47 lr: 0.010000\n",
            "Val: Loss: 0.6452 Acc: 0.7846\n",
            "Epoch 30: Loss: 0.7918 Acc: 0.7238 Time: 34.26 lr: 0.010000\n",
            "Val: Loss: 0.6196 Acc: 0.7943\n",
            "Epoch 31: Loss: 0.7868 Acc: 0.7287 Time: 33.80 lr: 0.010000\n",
            "Val: Loss: 0.5827 Acc: 0.7998\n",
            "Epoch 32: Loss: 0.7890 Acc: 0.7274 Time: 34.12 lr: 0.010000\n",
            "Val: Loss: 0.6277 Acc: 0.7930\n",
            "Epoch 33: Loss: 0.7750 Acc: 0.7310 Time: 33.13 lr: 0.010000\n",
            "Val: Loss: 0.6186 Acc: 0.7947\n",
            "Epoch 34: Loss: 0.7662 Acc: 0.7330 Time: 34.00 lr: 0.010000\n",
            "Val: Loss: 0.5992 Acc: 0.8033\n",
            "Epoch 35: Loss: 0.7936 Acc: 0.7254 Time: 33.74 lr: 0.010000\n",
            "Val: Loss: 0.6214 Acc: 0.7889\n",
            "Epoch 36: Loss: 0.7709 Acc: 0.7330 Time: 33.80 lr: 0.010000\n",
            "Val: Loss: 0.5801 Acc: 0.8023\n",
            "Epoch 37: Loss: 0.7513 Acc: 0.7386 Time: 33.90 lr: 0.010000\n",
            "Val: Loss: 0.5725 Acc: 0.8108\n",
            "Epoch 38: Loss: 0.7402 Acc: 0.7434 Time: 33.86 lr: 0.010000\n",
            "Val: Loss: 0.7486 Acc: 0.7894\n",
            "Epoch 39: Loss: 0.7368 Acc: 0.7426 Time: 33.26 lr: 0.010000\n",
            "Val: Loss: 0.5533 Acc: 0.8089\n",
            "Epoch 40: Loss: 0.7219 Acc: 0.7494 Time: 33.74 lr: 0.010000\n",
            "Val: Loss: 0.7298 Acc: 0.8092\n",
            "Epoch 41: Loss: 0.7174 Acc: 0.7512 Time: 33.23 lr: 0.010000\n",
            "Val: Loss: 0.5567 Acc: 0.8163\n",
            "Epoch 42: Loss: 0.7136 Acc: 0.7545 Time: 33.35 lr: 0.010000\n",
            "Val: Loss: 0.5688 Acc: 0.8089\n",
            "Epoch 43: Loss: 0.7084 Acc: 0.7558 Time: 34.01 lr: 0.010000\n",
            "Val: Loss: 0.5603 Acc: 0.8085\n",
            "Epoch 44: Loss: 0.7060 Acc: 0.7563 Time: 33.25 lr: 0.010000\n",
            "Val: Loss: 0.5757 Acc: 0.8107\n",
            "Epoch 45: Loss: 0.8570 Acc: 0.7059 Time: 33.62 lr: 0.010000\n",
            "Val: Loss: 0.5854 Acc: 0.8015\n",
            "Epoch 46: Loss: 0.7201 Acc: 0.7501 Time: 33.29 lr: 0.010000\n",
            "Val: Loss: 0.5258 Acc: 0.8223\n",
            "Epoch 47: Loss: 0.6940 Acc: 0.7596 Time: 33.20 lr: 0.010000\n",
            "Val: Loss: 0.5338 Acc: 0.8228\n",
            "Epoch 48: Loss: 0.6887 Acc: 0.7605 Time: 33.86 lr: 0.010000\n",
            "Val: Loss: 0.5427 Acc: 0.8170\n",
            "Epoch 49: Loss: 0.6773 Acc: 0.7644 Time: 33.64 lr: 0.010000\n",
            "Val: Loss: 0.5442 Acc: 0.8221\n",
            "Epoch 50: Loss: 0.6756 Acc: 0.7665 Time: 34.51 lr: 0.010000\n",
            "Val: Loss: 0.5654 Acc: 0.8239\n",
            "Epoch 51: Loss: 0.6112 Acc: 0.7869 Time: 33.69 lr: 0.001000\n",
            "Val: Loss: 0.4969 Acc: 0.8379\n",
            "Epoch 52: Loss: 0.5880 Acc: 0.7948 Time: 33.11 lr: 0.001000\n",
            "Val: Loss: 0.4823 Acc: 0.8439\n",
            "Epoch 53: Loss: 0.5795 Acc: 0.7985 Time: 34.06 lr: 0.001000\n",
            "Val: Loss: 0.4785 Acc: 0.8458\n",
            "Epoch 54: Loss: 0.5796 Acc: 0.7984 Time: 33.91 lr: 0.001000\n",
            "Val: Loss: 0.4796 Acc: 0.8456\n",
            "Epoch 55: Loss: 0.5729 Acc: 0.8016 Time: 33.68 lr: 0.001000\n",
            "Val: Loss: 0.4759 Acc: 0.8494\n",
            "Epoch 56: Loss: 0.5699 Acc: 0.7997 Time: 34.14 lr: 0.001000\n",
            "Val: Loss: 0.4694 Acc: 0.8478\n",
            "Epoch 57: Loss: 0.5634 Acc: 0.8043 Time: 34.25 lr: 0.001000\n",
            "Val: Loss: 0.4734 Acc: 0.8490\n",
            "Epoch 58: Loss: 0.5584 Acc: 0.8058 Time: 34.00 lr: 0.001000\n",
            "Val: Loss: 0.4714 Acc: 0.8481\n",
            "Epoch 59: Loss: 0.5554 Acc: 0.8061 Time: 34.16 lr: 0.001000\n",
            "Val: Loss: 0.4770 Acc: 0.8481\n",
            "Epoch 60: Loss: 0.5617 Acc: 0.8050 Time: 34.62 lr: 0.001000\n",
            "Val: Loss: 0.4770 Acc: 0.8500\n",
            "Epoch 61: Loss: 0.5515 Acc: 0.8092 Time: 34.56 lr: 0.001000\n",
            "Val: Loss: 0.4694 Acc: 0.8525\n",
            "Epoch 62: Loss: 0.5479 Acc: 0.8095 Time: 34.35 lr: 0.001000\n",
            "Val: Loss: 0.4781 Acc: 0.8496\n",
            "Epoch 63: Loss: 0.5426 Acc: 0.8108 Time: 34.55 lr: 0.001000\n",
            "Val: Loss: 0.4690 Acc: 0.8529\n",
            "Epoch 64: Loss: 0.5419 Acc: 0.8103 Time: 34.42 lr: 0.001000\n",
            "Val: Loss: 0.4715 Acc: 0.8514\n",
            "Epoch 65: Loss: 0.5481 Acc: 0.8107 Time: 34.31 lr: 0.001000\n",
            "Val: Loss: 0.4630 Acc: 0.8535\n",
            "Epoch 66: Loss: 0.5418 Acc: 0.8132 Time: 33.38 lr: 0.001000\n",
            "Val: Loss: 0.4705 Acc: 0.8502\n",
            "Epoch 67: Loss: 0.5388 Acc: 0.8143 Time: 33.66 lr: 0.001000\n",
            "Val: Loss: 0.4673 Acc: 0.8521\n",
            "Epoch 68: Loss: 0.5338 Acc: 0.8157 Time: 34.18 lr: 0.001000\n",
            "Val: Loss: 0.4771 Acc: 0.8505\n",
            "Epoch 69: Loss: 0.5341 Acc: 0.8142 Time: 33.31 lr: 0.001000\n",
            "Val: Loss: 0.4694 Acc: 0.8515\n",
            "Epoch 70: Loss: 0.5377 Acc: 0.8135 Time: 33.60 lr: 0.001000\n",
            "Val: Loss: 0.4760 Acc: 0.8525\n",
            "Epoch 71: Loss: 0.5332 Acc: 0.8140 Time: 33.60 lr: 0.001000\n",
            "Val: Loss: 0.4807 Acc: 0.8518\n",
            "Epoch 72: Loss: 0.5323 Acc: 0.8145 Time: 34.02 lr: 0.001000\n",
            "Val: Loss: 0.4705 Acc: 0.8526\n",
            "Epoch 73: Loss: 0.5292 Acc: 0.8148 Time: 33.71 lr: 0.001000\n",
            "Val: Loss: 0.4751 Acc: 0.8518\n",
            "Epoch 74: Loss: 0.5263 Acc: 0.8178 Time: 33.68 lr: 0.001000\n",
            "Val: Loss: 0.4807 Acc: 0.8517\n",
            "Epoch 75: Loss: 0.5276 Acc: 0.8166 Time: 33.81 lr: 0.001000\n",
            "Val: Loss: 0.4817 Acc: 0.8541\n",
            "Epoch 76: Loss: 0.5186 Acc: 0.8188 Time: 33.56 lr: 0.001000\n",
            "Val: Loss: 0.4711 Acc: 0.8531\n",
            "Epoch 77: Loss: 0.5147 Acc: 0.8222 Time: 33.27 lr: 0.001000\n",
            "Val: Loss: 0.4784 Acc: 0.8525\n",
            "Epoch 78: Loss: 0.5225 Acc: 0.8168 Time: 33.76 lr: 0.001000\n",
            "Val: Loss: 0.4741 Acc: 0.8526\n",
            "Epoch 79: Loss: 0.5223 Acc: 0.8183 Time: 34.62 lr: 0.001000\n",
            "Val: Loss: 0.4810 Acc: 0.8492\n",
            "Epoch 80: Loss: 0.5212 Acc: 0.8173 Time: 33.82 lr: 0.001000\n",
            "Val: Loss: 0.4801 Acc: 0.8534\n",
            "Epoch 81: Loss: 0.5190 Acc: 0.8199 Time: 34.56 lr: 0.001000\n",
            "Val: Loss: 0.4803 Acc: 0.8539\n",
            "Epoch 82: Loss: 0.5191 Acc: 0.8208 Time: 34.29 lr: 0.001000\n",
            "Val: Loss: 0.4727 Acc: 0.8551\n",
            "Epoch 83: Loss: 0.5165 Acc: 0.8216 Time: 33.84 lr: 0.001000\n",
            "Val: Loss: 0.4744 Acc: 0.8535\n",
            "Epoch 84: Loss: 0.5163 Acc: 0.8216 Time: 34.70 lr: 0.001000\n",
            "Val: Loss: 0.4828 Acc: 0.8531\n",
            "Epoch 85: Loss: 0.5167 Acc: 0.8201 Time: 34.22 lr: 0.001000\n",
            "Val: Loss: 0.4880 Acc: 0.8511\n",
            "Epoch 86: Loss: 0.5149 Acc: 0.8221 Time: 34.10 lr: 0.001000\n",
            "Val: Loss: 0.4812 Acc: 0.8521\n",
            "Epoch 87: Loss: 0.5175 Acc: 0.8189 Time: 34.02 lr: 0.001000\n",
            "Val: Loss: 0.4837 Acc: 0.8520\n",
            "Epoch 88: Loss: 0.5052 Acc: 0.8225 Time: 34.01 lr: 0.001000\n",
            "Val: Loss: 0.4849 Acc: 0.8539\n",
            "Epoch 89: Loss: 0.5128 Acc: 0.8222 Time: 33.48 lr: 0.001000\n",
            "Val: Loss: 0.4868 Acc: 0.8544\n",
            "Epoch 90: Loss: 0.5015 Acc: 0.8251 Time: 34.22 lr: 0.001000\n",
            "Val: Loss: 0.4958 Acc: 0.8534\n",
            "Epoch 91: Loss: 0.5042 Acc: 0.8238 Time: 34.24 lr: 0.001000\n",
            "Val: Loss: 0.4856 Acc: 0.8522\n",
            "Epoch 92: Loss: 0.5145 Acc: 0.8201 Time: 34.49 lr: 0.001000\n",
            "Val: Loss: 0.4813 Acc: 0.8553\n",
            "Epoch 93: Loss: 0.5052 Acc: 0.8259 Time: 34.30 lr: 0.001000\n",
            "Val: Loss: 0.4861 Acc: 0.8522\n",
            "Epoch 94: Loss: 0.5032 Acc: 0.8248 Time: 33.81 lr: 0.001000\n",
            "Val: Loss: 0.4781 Acc: 0.8549\n",
            "Epoch 95: Loss: 0.5084 Acc: 0.8216 Time: 34.54 lr: 0.001000\n",
            "Val: Loss: 0.4828 Acc: 0.8558\n",
            "Epoch 96: Loss: 0.5048 Acc: 0.8231 Time: 34.39 lr: 0.001000\n",
            "Val: Loss: 0.4828 Acc: 0.8528\n",
            "Epoch 97: Loss: 0.5013 Acc: 0.8258 Time: 34.57 lr: 0.001000\n",
            "Val: Loss: 0.4823 Acc: 0.8547\n",
            "Epoch 98: Loss: 0.5013 Acc: 0.8247 Time: 34.69 lr: 0.001000\n",
            "Val: Loss: 0.4870 Acc: 0.8544\n",
            "Epoch 99: Loss: 0.4926 Acc: 0.8282 Time: 34.29 lr: 0.001000\n",
            "Val: Loss: 0.4872 Acc: 0.8544\n",
            "Epoch 100: Loss: 0.4972 Acc: 0.8264 Time: 34.63 lr: 0.001000\n",
            "Val: Loss: 0.4861 Acc: 0.8548\n",
            "Epoch 101: Loss: 0.4899 Acc: 0.8279 Time: 34.73 lr: 0.000100\n",
            "Val: Loss: 0.4851 Acc: 0.8531\n",
            "Epoch 102: Loss: 0.4904 Acc: 0.8286 Time: 35.18 lr: 0.000100\n",
            "Val: Loss: 0.4831 Acc: 0.8549\n",
            "Epoch 103: Loss: 0.4843 Acc: 0.8310 Time: 34.76 lr: 0.000100\n",
            "Val: Loss: 0.4781 Acc: 0.8563\n",
            "Epoch 104: Loss: 0.4853 Acc: 0.8313 Time: 35.12 lr: 0.000100\n",
            "Val: Loss: 0.4776 Acc: 0.8560\n",
            "Epoch 105: Loss: 0.4884 Acc: 0.8285 Time: 35.26 lr: 0.000100\n",
            "Val: Loss: 0.4848 Acc: 0.8556\n",
            "Epoch 106: Loss: 0.4920 Acc: 0.8294 Time: 34.54 lr: 0.000100\n",
            "Val: Loss: 0.4961 Acc: 0.8535\n",
            "Epoch 107: Loss: 0.4809 Acc: 0.8316 Time: 34.40 lr: 0.000100\n",
            "Val: Loss: 0.4836 Acc: 0.8547\n",
            "Epoch 108: Loss: 0.4887 Acc: 0.8306 Time: 34.74 lr: 0.000100\n",
            "Val: Loss: 0.4834 Acc: 0.8555\n",
            "Epoch 109: Loss: 0.4827 Acc: 0.8315 Time: 34.85 lr: 0.000100\n",
            "Val: Loss: 0.4803 Acc: 0.8575\n",
            "Epoch 110: Loss: 0.4858 Acc: 0.8308 Time: 35.74 lr: 0.000100\n",
            "Val: Loss: 0.5091 Acc: 0.8545\n",
            "Epoch 111: Loss: 0.4850 Acc: 0.8316 Time: 34.96 lr: 0.000100\n",
            "Val: Loss: 0.4951 Acc: 0.8551\n",
            "Epoch 112: Loss: 0.4856 Acc: 0.8320 Time: 35.35 lr: 0.000100\n",
            "Val: Loss: 0.4829 Acc: 0.8548\n",
            "Epoch 113: Loss: 0.4903 Acc: 0.8303 Time: 35.28 lr: 0.000100\n",
            "Val: Loss: 0.4844 Acc: 0.8556\n",
            "Epoch 114: Loss: 0.4907 Acc: 0.8285 Time: 35.34 lr: 0.000100\n",
            "Val: Loss: 0.4846 Acc: 0.8561\n",
            "Epoch 115: Loss: 0.4874 Acc: 0.8315 Time: 35.45 lr: 0.000100\n",
            "Val: Loss: 0.4811 Acc: 0.8565\n",
            "Epoch 116: Loss: 0.4816 Acc: 0.8327 Time: 35.90 lr: 0.000100\n",
            "Val: Loss: 0.4851 Acc: 0.8556\n",
            "Epoch 117: Loss: 0.4803 Acc: 0.8335 Time: 35.68 lr: 0.000100\n",
            "Val: Loss: 0.4877 Acc: 0.8544\n",
            "Epoch 118: Loss: 0.4814 Acc: 0.8326 Time: 35.15 lr: 0.000100\n",
            "Val: Loss: 0.4792 Acc: 0.8565\n",
            "Epoch 119: Loss: 0.4848 Acc: 0.8311 Time: 35.66 lr: 0.000100\n",
            "Val: Loss: 0.4920 Acc: 0.8560\n",
            "Epoch 120: Loss: 0.4801 Acc: 0.8337 Time: 35.25 lr: 0.000100\n",
            "Val: Loss: 0.4823 Acc: 0.8555\n",
            "Epoch 121: Loss: 0.4814 Acc: 0.8318 Time: 35.48 lr: 0.000100\n",
            "Val: Loss: 0.4822 Acc: 0.8560\n",
            "Epoch 122: Loss: 0.4839 Acc: 0.8287 Time: 36.02 lr: 0.000100\n",
            "Val: Loss: 0.4823 Acc: 0.8555\n",
            "Epoch 123: Loss: 0.4847 Acc: 0.8301 Time: 35.35 lr: 0.000100\n",
            "Val: Loss: 0.4968 Acc: 0.8559\n",
            "Epoch 124: Loss: 0.4824 Acc: 0.8326 Time: 35.52 lr: 0.000100\n",
            "Val: Loss: 0.4833 Acc: 0.8573\n",
            "Epoch 125: Loss: 0.4833 Acc: 0.8322 Time: 35.46 lr: 0.000100\n",
            "Val: Loss: 0.4827 Acc: 0.8565\n",
            "Epoch 126: Loss: 0.4811 Acc: 0.8321 Time: 35.27 lr: 0.000100\n",
            "Val: Loss: 0.5139 Acc: 0.8537\n",
            "Epoch 127: Loss: 0.4793 Acc: 0.8329 Time: 35.50 lr: 0.000100\n",
            "Val: Loss: 0.5583 Acc: 0.8535\n",
            "Epoch 128: Loss: 0.4866 Acc: 0.8312 Time: 35.20 lr: 0.000100\n",
            "Val: Loss: 0.4871 Acc: 0.8556\n",
            "Epoch 129: Loss: 0.4794 Acc: 0.8323 Time: 34.81 lr: 0.000100\n",
            "Val: Loss: 0.4823 Acc: 0.8559\n",
            "Epoch 130: Loss: 0.4871 Acc: 0.8310 Time: 35.28 lr: 0.000100\n",
            "Val: Loss: 0.4887 Acc: 0.8569\n",
            "Epoch 131: Loss: 0.4855 Acc: 0.8305 Time: 35.65 lr: 0.000100\n",
            "Val: Loss: 0.4882 Acc: 0.8563\n",
            "Epoch 132: Loss: 0.4824 Acc: 0.8316 Time: 35.96 lr: 0.000100\n",
            "Val: Loss: 0.4840 Acc: 0.8564\n",
            "Epoch 133: Loss: 0.4861 Acc: 0.8312 Time: 36.60 lr: 0.000100\n",
            "Val: Loss: 0.4857 Acc: 0.8568\n",
            "Epoch 134: Loss: 0.4808 Acc: 0.8337 Time: 35.52 lr: 0.000100\n",
            "Val: Loss: 0.4838 Acc: 0.8561\n",
            "Epoch 135: Loss: 0.4783 Acc: 0.8339 Time: 35.94 lr: 0.000100\n",
            "Val: Loss: 0.4868 Acc: 0.8567\n",
            "Epoch 136: Loss: 0.4855 Acc: 0.8312 Time: 35.75 lr: 0.000100\n",
            "Val: Loss: 0.4898 Acc: 0.8556\n",
            "Epoch 137: Loss: 0.4766 Acc: 0.8346 Time: 36.12 lr: 0.000100\n",
            "Val: Loss: 0.4854 Acc: 0.8574\n",
            "Epoch 138: Loss: 0.4805 Acc: 0.8330 Time: 35.55 lr: 0.000100\n",
            "Val: Loss: 0.4891 Acc: 0.8573\n",
            "Epoch 139: Loss: 0.4777 Acc: 0.8348 Time: 35.42 lr: 0.000100\n",
            "Val: Loss: 0.4844 Acc: 0.8565\n",
            "Epoch 140: Loss: 0.4860 Acc: 0.8291 Time: 35.81 lr: 0.000100\n",
            "Val: Loss: 0.4967 Acc: 0.8570\n",
            "Epoch 141: Loss: 0.4848 Acc: 0.8313 Time: 36.05 lr: 0.000100\n",
            "Val: Loss: 0.4969 Acc: 0.8558\n",
            "Epoch 142: Loss: 0.4755 Acc: 0.8358 Time: 35.90 lr: 0.000100\n",
            "Val: Loss: 0.4871 Acc: 0.8564\n",
            "Epoch 143: Loss: 0.4817 Acc: 0.8312 Time: 35.85 lr: 0.000100\n",
            "Val: Loss: 0.4890 Acc: 0.8570\n",
            "Epoch 144: Loss: 0.4793 Acc: 0.8322 Time: 34.56 lr: 0.000100\n",
            "Val: Loss: 0.5064 Acc: 0.8574\n",
            "Epoch 145: Loss: 0.4769 Acc: 0.8336 Time: 35.19 lr: 0.000100\n",
            "Val: Loss: 0.4847 Acc: 0.8581\n",
            "Epoch 146: Loss: 0.4849 Acc: 0.8308 Time: 35.22 lr: 0.000100\n",
            "Val: Loss: 0.4944 Acc: 0.8558\n",
            "Epoch 147: Loss: 0.4749 Acc: 0.8351 Time: 35.02 lr: 0.000100\n",
            "Val: Loss: 0.5293 Acc: 0.8551\n",
            "Epoch 148: Loss: 0.4821 Acc: 0.8308 Time: 34.85 lr: 0.000100\n",
            "Val: Loss: 0.4997 Acc: 0.8579\n",
            "Epoch 149: Loss: 0.4779 Acc: 0.8348 Time: 35.04 lr: 0.000100\n",
            "Val: Loss: 0.4963 Acc: 0.8556\n",
            "Epoch 150: Loss: 0.4757 Acc: 0.8356 Time: 35.38 lr: 0.000100\n",
            "Val: Loss: 0.4928 Acc: 0.8574\n",
            "Epoch 151: Loss: 0.4778 Acc: 0.8322 Time: 35.11 lr: 0.000010\n",
            "Val: Loss: 0.4931 Acc: 0.8572\n",
            "Epoch 152: Loss: 0.4784 Acc: 0.8328 Time: 34.73 lr: 0.000010\n",
            "Val: Loss: 0.5223 Acc: 0.8555\n",
            "Epoch 153: Loss: 0.4799 Acc: 0.8323 Time: 34.61 lr: 0.000010\n",
            "Val: Loss: 0.5146 Acc: 0.8563\n",
            "Epoch 154: Loss: 0.4794 Acc: 0.8336 Time: 34.98 lr: 0.000010\n",
            "Val: Loss: 0.5161 Acc: 0.8555\n",
            "Epoch 155: Loss: 0.4778 Acc: 0.8352 Time: 35.79 lr: 0.000010\n",
            "Val: Loss: 0.4866 Acc: 0.8568\n",
            "Epoch 156: Loss: 0.4857 Acc: 0.8317 Time: 35.21 lr: 0.000010\n",
            "Val: Loss: 0.4900 Acc: 0.8577\n",
            "Epoch 157: Loss: 0.4779 Acc: 0.8339 Time: 35.02 lr: 0.000010\n",
            "Val: Loss: 0.5493 Acc: 0.8553\n",
            "Epoch 158: Loss: 0.4721 Acc: 0.8341 Time: 35.13 lr: 0.000010\n",
            "Val: Loss: 0.5121 Acc: 0.8565\n",
            "Epoch 159: Loss: 0.4712 Acc: 0.8372 Time: 34.98 lr: 0.000010\n",
            "Val: Loss: 0.4946 Acc: 0.8572\n",
            "Epoch 160: Loss: 0.4815 Acc: 0.8342 Time: 35.98 lr: 0.000010\n",
            "Val: Loss: 0.4944 Acc: 0.8568\n",
            "Epoch 161: Loss: 0.4808 Acc: 0.8323 Time: 35.36 lr: 0.000010\n",
            "Val: Loss: 0.4963 Acc: 0.8573\n",
            "Epoch 162: Loss: 0.4784 Acc: 0.8344 Time: 35.24 lr: 0.000010\n",
            "Val: Loss: 0.4941 Acc: 0.8573\n",
            "Epoch 163: Loss: 0.4815 Acc: 0.8336 Time: 35.85 lr: 0.000010\n",
            "Val: Loss: 0.4832 Acc: 0.8589\n",
            "Epoch 164: Loss: 0.4698 Acc: 0.8351 Time: 35.72 lr: 0.000010\n",
            "Val: Loss: 0.4952 Acc: 0.8580\n",
            "Epoch 165: Loss: 0.4757 Acc: 0.8336 Time: 34.87 lr: 0.000010\n",
            "Val: Loss: 0.4967 Acc: 0.8565\n",
            "Epoch 166: Loss: 0.4745 Acc: 0.8372 Time: 35.47 lr: 0.000010\n",
            "Val: Loss: 0.4861 Acc: 0.8568\n",
            "Epoch 167: Loss: 0.4785 Acc: 0.8326 Time: 35.40 lr: 0.000010\n",
            "Val: Loss: 0.5028 Acc: 0.8570\n",
            "Epoch 168: Loss: 0.4816 Acc: 0.8321 Time: 34.64 lr: 0.000010\n",
            "Val: Loss: 0.5132 Acc: 0.8550\n",
            "Epoch 169: Loss: 0.4741 Acc: 0.8352 Time: 34.83 lr: 0.000010\n",
            "Val: Loss: 0.5010 Acc: 0.8567\n",
            "Epoch 170: Loss: 0.4862 Acc: 0.8314 Time: 35.45 lr: 0.000010\n",
            "Val: Loss: 0.4819 Acc: 0.8584\n",
            "Epoch 171: Loss: 0.4771 Acc: 0.8346 Time: 34.73 lr: 0.000010\n",
            "Val: Loss: 0.5226 Acc: 0.8558\n",
            "Epoch 172: Loss: 0.4773 Acc: 0.8330 Time: 35.06 lr: 0.000010\n",
            "Val: Loss: 0.4958 Acc: 0.8583\n",
            "Epoch 173: Loss: 0.4729 Acc: 0.8352 Time: 34.52 lr: 0.000010\n",
            "Val: Loss: 0.5528 Acc: 0.8528\n",
            "Epoch 174: Loss: 0.4790 Acc: 0.8332 Time: 35.33 lr: 0.000010\n",
            "Val: Loss: 0.4992 Acc: 0.8572\n",
            "Epoch 175: Loss: 0.4780 Acc: 0.8346 Time: 35.43 lr: 0.000010\n",
            "Val: Loss: 0.5079 Acc: 0.8567\n",
            "Epoch 176: Loss: 0.4805 Acc: 0.8321 Time: 35.00 lr: 0.000010\n",
            "Val: Loss: 0.5103 Acc: 0.8556\n",
            "Epoch 177: Loss: 0.4763 Acc: 0.8348 Time: 34.91 lr: 0.000010\n",
            "Val: Loss: 0.4982 Acc: 0.8566\n",
            "Epoch 178: Loss: 0.4723 Acc: 0.8348 Time: 35.67 lr: 0.000010\n",
            "Val: Loss: 0.5035 Acc: 0.8560\n",
            "Epoch 179: Loss: 0.4750 Acc: 0.8349 Time: 35.68 lr: 0.000010\n",
            "Val: Loss: 0.4973 Acc: 0.8564\n",
            "Epoch 180: Loss: 0.4741 Acc: 0.8355 Time: 35.09 lr: 0.000010\n",
            "Val: Loss: 0.4884 Acc: 0.8575\n",
            "Epoch 181: Loss: 0.4797 Acc: 0.8338 Time: 35.16 lr: 0.000010\n",
            "Val: Loss: 0.4863 Acc: 0.8589\n",
            "Epoch 182: Loss: 0.4835 Acc: 0.8300 Time: 35.82 lr: 0.000010\n",
            "Val: Loss: 0.4934 Acc: 0.8587\n",
            "Epoch 183: Loss: 0.4786 Acc: 0.8342 Time: 35.53 lr: 0.000010\n",
            "Val: Loss: 0.4946 Acc: 0.8573\n",
            "Epoch 184: Loss: 0.4792 Acc: 0.8351 Time: 35.41 lr: 0.000010\n",
            "Val: Loss: 0.4854 Acc: 0.8592\n",
            "Epoch 185: Loss: 0.4816 Acc: 0.8331 Time: 35.30 lr: 0.000010\n",
            "Val: Loss: 0.4855 Acc: 0.8574\n",
            "Epoch 186: Loss: 0.4821 Acc: 0.8323 Time: 34.87 lr: 0.000010\n",
            "Val: Loss: 0.5154 Acc: 0.8569\n",
            "Epoch 187: Loss: 0.4820 Acc: 0.8335 Time: 35.11 lr: 0.000010\n",
            "Val: Loss: 0.5382 Acc: 0.8541\n",
            "Epoch 188: Loss: 0.4746 Acc: 0.8338 Time: 34.62 lr: 0.000010\n",
            "Val: Loss: 0.5274 Acc: 0.8548\n",
            "Epoch 189: Loss: 0.4823 Acc: 0.8322 Time: 35.12 lr: 0.000010\n",
            "Val: Loss: 0.4846 Acc: 0.8568\n",
            "Epoch 190: Loss: 0.4724 Acc: 0.8361 Time: 35.32 lr: 0.000010\n",
            "Val: Loss: 0.4835 Acc: 0.8570\n",
            "Epoch 191: Loss: 0.4756 Acc: 0.8348 Time: 35.48 lr: 0.000010\n",
            "Val: Loss: 0.5171 Acc: 0.8562\n",
            "Epoch 192: Loss: 0.4805 Acc: 0.8328 Time: 35.13 lr: 0.000010\n",
            "Val: Loss: 0.4922 Acc: 0.8574\n",
            "Epoch 193: Loss: 0.4781 Acc: 0.8337 Time: 35.95 lr: 0.000010\n",
            "Val: Loss: 0.4989 Acc: 0.8575\n",
            "Epoch 194: Loss: 0.4806 Acc: 0.8335 Time: 35.62 lr: 0.000010\n",
            "Val: Loss: 0.4846 Acc: 0.8582\n",
            "Epoch 195: Loss: 0.4787 Acc: 0.8347 Time: 35.37 lr: 0.000010\n",
            "Val: Loss: 0.4852 Acc: 0.8581\n",
            "Epoch 196: Loss: 0.4689 Acc: 0.8366 Time: 35.25 lr: 0.000010\n",
            "Val: Loss: 0.4878 Acc: 0.8576\n",
            "Epoch 197: Loss: 0.4817 Acc: 0.8308 Time: 35.21 lr: 0.000010\n",
            "Val: Loss: 0.4947 Acc: 0.8582\n",
            "Epoch 198: Loss: 0.4750 Acc: 0.8349 Time: 35.21 lr: 0.000010\n",
            "Val: Loss: 0.5237 Acc: 0.8559\n",
            "Epoch 199: Loss: 0.4777 Acc: 0.8320 Time: 35.61 lr: 0.000010\n",
            "Val: Loss: 0.5192 Acc: 0.8563\n",
            "Epoch 200: Loss: 0.4795 Acc: 0.8347 Time: 35.73 lr: 0.000010\n",
            "Val: Loss: 0.4911 Acc: 0.8570\n"
          ],
          "name": "stdout"
        }
      ]
    },
    {
      "cell_type": "code",
      "metadata": {
        "id": "0wFFLMK5dX98",
        "colab_type": "code",
        "colab": {}
      },
      "source": [
        "radam_hist = hist"
      ],
      "execution_count": 0,
      "outputs": []
    },
    {
      "cell_type": "code",
      "metadata": {
        "id": "kpnuMppzgt03",
        "colab_type": "code",
        "colab": {}
      },
      "source": [
        "hist = {\"train_loss\":[],\"train_acc\":[], \"test_loss\":[],\"test_acc\":[]}\n",
        "\n",
        "# net = EfficientNet.from_pretrained('efficientnet-b1')\n",
        "# net._fc = torch.nn.Linear(in_features=net._bn1.num_features,out_features=num_classes)\n",
        "\n",
        "# net = torchvision.models.resnet50(pretrained=False)\n",
        "# net.fc = torch.nn.Linear(2048,10)\n",
        "\n",
        "net = torchvision.models.resnet18()\n",
        "net.fc = torch.nn.Linear(512, 10)\n",
        "model_name = net.__class__.__name__\n",
        "criterion = torch.nn.CrossEntropyLoss()\n",
        "# optimizer = RAdam(net.parameters(),lr=1e-2,betas=(0.9,0.999))\n",
        "optimizer = torch.optim.Adam(net.parameters(),lr=1e-2, betas=(0.9,0.999))\n",
        "scheduler = torch.optim.lr_scheduler.StepLR(optimizer, num_epoch/4)\n",
        "\n",
        "device = \"cuda:0\" if torch.cuda.is_available else \"cpu\"\n",
        "net.to(device)\n",
        "torch.backends.cudnn.benchmark=True"
      ],
      "execution_count": 0,
      "outputs": []
    },
    {
      "cell_type": "code",
      "metadata": {
        "id": "4tD_yduLhxCW",
        "colab_type": "code",
        "colab": {
          "base_uri": "https://localhost:8080/",
          "height": 1000
        },
        "outputId": "a1ff9aec-b92b-4f47-fe09-a56e332aac32"
      },
      "source": [
        "import time\n",
        "print(\"START\")\n",
        "print(type(optimizer))\n",
        "for epoch in range(num_epoch):\n",
        "    cur_lr = scheduler.get_lr()[0]\n",
        "    since = time.time()\n",
        "    net.train()\n",
        "    epoch_loss = 0.\n",
        "    epoch_correct = 0.\n",
        "    epoch_imgs = 0\n",
        "    for batch in train_dl:\n",
        "        #print(i+1)\n",
        "        imgs,labels = batch\n",
        "        imgs = imgs.to(device)\n",
        "        labels = labels.to(device)\n",
        "        epoch_imgs += len(labels)\n",
        "\n",
        "        optimizer.zero_grad()\n",
        "        output = net(imgs)\n",
        "        loss = criterion(output, labels)        \n",
        "        loss.backward()\n",
        "        optimizer.step()\n",
        "        \n",
        "        epoch_loss += loss.item()*imgs.size(0)\n",
        "        epoch_correct += sum(output.argmax(1)==labels)\n",
        "\n",
        "    t_l = epoch_loss/epoch_imgs\n",
        "    t_a = float(epoch_correct/epoch_imgs)\n",
        "    hist['train_loss'].append(t_l)\n",
        "    hist['train_acc'].append(t_a)\n",
        "    print(\"Epoch {}: Loss: {:.4f} Acc: {:.4f} Time: {:.2f} lr: {:.7f}\".format(epoch+1,t_l,t_a, time.time()-since, cur_lr)) \n",
        "\n",
        "    net.eval()\n",
        "    val_loss = 0.\n",
        "    val_correct = 0.\n",
        "    val_imgs = 0\n",
        "    with torch.no_grad():\n",
        "      for batch in test_dl:\n",
        "          imgs,labels = batch\n",
        "          imgs = imgs.to(device)\n",
        "          labels = labels.to(device)\n",
        "          val_imgs += len(labels)\n",
        "          output = net(imgs)\n",
        "          loss = criterion(output, labels)        \n",
        "          \n",
        "          val_loss += loss.item()*imgs.size(0)\n",
        "          val_correct += sum(output.argmax(1)==labels) \n",
        "\n",
        "    l = val_loss/val_imgs\n",
        "    a = float(val_correct/val_imgs)\n",
        "    hist['test_loss'].append(l)\n",
        "    hist['test_acc'].append(a)\n",
        "    print(\"Val: Loss: {:.4f} Acc: {:.4f}\".format(l,a)) \n",
        "\n",
        "    scheduler.step()"
      ],
      "execution_count": 21,
      "outputs": [
        {
          "output_type": "stream",
          "text": [
            "START\n",
            "<class 'torch.optim.adam.Adam'>\n",
            "Epoch 1: Loss: 2.0648 Acc: 0.2668 Time: 36.36 lr: 0.0100000\n",
            "Val: Loss: 1.6764 Acc: 0.3846\n",
            "Epoch 2: Loss: 1.7305 Acc: 0.3645 Time: 34.33 lr: 0.0100000\n",
            "Val: Loss: 1.6203 Acc: 0.4061\n",
            "Epoch 3: Loss: 1.6009 Acc: 0.4195 Time: 34.36 lr: 0.0100000\n",
            "Val: Loss: 1.4299 Acc: 0.4824\n",
            "Epoch 4: Loss: 1.4773 Acc: 0.4649 Time: 34.36 lr: 0.0100000\n",
            "Val: Loss: 1.2570 Acc: 0.5573\n",
            "Epoch 5: Loss: 1.3821 Acc: 0.5051 Time: 34.18 lr: 0.0100000\n",
            "Val: Loss: 1.2098 Acc: 0.5867\n",
            "Epoch 6: Loss: 1.2998 Acc: 0.5382 Time: 34.34 lr: 0.0100000\n",
            "Val: Loss: 1.0533 Acc: 0.6311\n",
            "Epoch 7: Loss: 1.2592 Acc: 0.5517 Time: 34.30 lr: 0.0100000\n",
            "Val: Loss: 1.0285 Acc: 0.6370\n",
            "Epoch 8: Loss: 1.1973 Acc: 0.5750 Time: 34.20 lr: 0.0100000\n",
            "Val: Loss: 1.0639 Acc: 0.6484\n",
            "Epoch 9: Loss: 1.1550 Acc: 0.5917 Time: 34.66 lr: 0.0100000\n",
            "Val: Loss: 0.9860 Acc: 0.6674\n",
            "Epoch 10: Loss: 1.1150 Acc: 0.6049 Time: 34.25 lr: 0.0100000\n",
            "Val: Loss: 0.9153 Acc: 0.6806\n",
            "Epoch 11: Loss: 1.0907 Acc: 0.6193 Time: 34.21 lr: 0.0100000\n",
            "Val: Loss: 0.8365 Acc: 0.7131\n",
            "Epoch 12: Loss: 1.0678 Acc: 0.6231 Time: 34.49 lr: 0.0100000\n",
            "Val: Loss: 0.8207 Acc: 0.7148\n",
            "Epoch 13: Loss: 1.0321 Acc: 0.6365 Time: 34.15 lr: 0.0100000\n",
            "Val: Loss: 0.8437 Acc: 0.7190\n",
            "Epoch 14: Loss: 1.0055 Acc: 0.6497 Time: 34.04 lr: 0.0100000\n",
            "Val: Loss: 0.8383 Acc: 0.7204\n",
            "Epoch 15: Loss: 0.9845 Acc: 0.6584 Time: 34.12 lr: 0.0100000\n",
            "Val: Loss: 0.7753 Acc: 0.7376\n",
            "Epoch 16: Loss: 0.9710 Acc: 0.6613 Time: 34.10 lr: 0.0100000\n",
            "Val: Loss: 0.8149 Acc: 0.7234\n",
            "Epoch 17: Loss: 0.9597 Acc: 0.6646 Time: 34.22 lr: 0.0100000\n",
            "Val: Loss: 0.8124 Acc: 0.7328\n",
            "Epoch 18: Loss: 0.9417 Acc: 0.6727 Time: 34.12 lr: 0.0100000\n",
            "Val: Loss: 0.7537 Acc: 0.7478\n",
            "Epoch 19: Loss: 0.9278 Acc: 0.6784 Time: 33.99 lr: 0.0100000\n",
            "Val: Loss: 0.6904 Acc: 0.7631\n",
            "Epoch 20: Loss: 0.9050 Acc: 0.6865 Time: 33.96 lr: 0.0100000\n",
            "Val: Loss: 0.8022 Acc: 0.7326\n",
            "Epoch 21: Loss: 0.8996 Acc: 0.6887 Time: 34.17 lr: 0.0100000\n",
            "Val: Loss: 0.7667 Acc: 0.7414\n",
            "Epoch 22: Loss: 0.8812 Acc: 0.6920 Time: 34.02 lr: 0.0100000\n",
            "Val: Loss: 0.7437 Acc: 0.7530\n",
            "Epoch 23: Loss: 0.8926 Acc: 0.6902 Time: 34.09 lr: 0.0100000\n",
            "Val: Loss: 0.7204 Acc: 0.7562\n",
            "Epoch 24: Loss: 0.8744 Acc: 0.6943 Time: 34.25 lr: 0.0100000\n",
            "Val: Loss: 0.6919 Acc: 0.7666\n",
            "Epoch 25: Loss: 0.8541 Acc: 0.7018 Time: 34.25 lr: 0.0100000\n",
            "Val: Loss: 0.6822 Acc: 0.7716\n",
            "Epoch 26: Loss: 0.8384 Acc: 0.7054 Time: 34.26 lr: 0.0100000\n",
            "Val: Loss: 0.6916 Acc: 0.7652\n",
            "Epoch 27: Loss: 0.8301 Acc: 0.7121 Time: 34.35 lr: 0.0100000\n",
            "Val: Loss: 0.6679 Acc: 0.7720\n",
            "Epoch 28: Loss: 0.8231 Acc: 0.7138 Time: 34.08 lr: 0.0100000\n",
            "Val: Loss: 0.6529 Acc: 0.7825\n",
            "Epoch 29: Loss: 0.8276 Acc: 0.7134 Time: 34.34 lr: 0.0100000\n",
            "Val: Loss: 0.6626 Acc: 0.7787\n",
            "Epoch 30: Loss: 0.8252 Acc: 0.7132 Time: 34.80 lr: 0.0100000\n",
            "Val: Loss: 0.6373 Acc: 0.7860\n",
            "Epoch 31: Loss: 0.8097 Acc: 0.7178 Time: 34.93 lr: 0.0100000\n",
            "Val: Loss: 0.6423 Acc: 0.7810\n",
            "Epoch 32: Loss: 0.7981 Acc: 0.7215 Time: 34.71 lr: 0.0100000\n",
            "Val: Loss: 0.6196 Acc: 0.7879\n",
            "Epoch 33: Loss: 0.7817 Acc: 0.7246 Time: 34.78 lr: 0.0100000\n",
            "Val: Loss: 0.6276 Acc: 0.7924\n",
            "Epoch 34: Loss: 0.7763 Acc: 0.7286 Time: 34.49 lr: 0.0100000\n",
            "Val: Loss: 0.6331 Acc: 0.7865\n",
            "Epoch 35: Loss: 0.7739 Acc: 0.7293 Time: 34.65 lr: 0.0100000\n",
            "Val: Loss: 0.6032 Acc: 0.7997\n",
            "Epoch 36: Loss: 0.7684 Acc: 0.7322 Time: 34.87 lr: 0.0100000\n",
            "Val: Loss: 0.6566 Acc: 0.7829\n",
            "Epoch 37: Loss: 0.7801 Acc: 0.7282 Time: 34.73 lr: 0.0100000\n",
            "Val: Loss: 0.6593 Acc: 0.7899\n",
            "Epoch 38: Loss: 0.7607 Acc: 0.7345 Time: 34.83 lr: 0.0100000\n",
            "Val: Loss: 0.5812 Acc: 0.8061\n",
            "Epoch 39: Loss: 0.7755 Acc: 0.7300 Time: 34.67 lr: 0.0100000\n",
            "Val: Loss: 0.6412 Acc: 0.7902\n",
            "Epoch 40: Loss: 0.7436 Acc: 0.7421 Time: 34.31 lr: 0.0100000\n",
            "Val: Loss: 0.6295 Acc: 0.7927\n",
            "Epoch 41: Loss: 0.7476 Acc: 0.7420 Time: 34.56 lr: 0.0100000\n",
            "Val: Loss: 0.5710 Acc: 0.8056\n",
            "Epoch 42: Loss: 0.7514 Acc: 0.7411 Time: 34.67 lr: 0.0100000\n",
            "Val: Loss: 0.6264 Acc: 0.7953\n",
            "Epoch 43: Loss: 0.7355 Acc: 0.7425 Time: 35.08 lr: 0.0100000\n",
            "Val: Loss: 0.5922 Acc: 0.7971\n",
            "Epoch 44: Loss: 0.7304 Acc: 0.7481 Time: 34.73 lr: 0.0100000\n",
            "Val: Loss: 0.5851 Acc: 0.8031\n",
            "Epoch 45: Loss: 0.7203 Acc: 0.7490 Time: 34.56 lr: 0.0100000\n",
            "Val: Loss: 0.5970 Acc: 0.8017\n",
            "Epoch 46: Loss: 0.7295 Acc: 0.7472 Time: 34.60 lr: 0.0100000\n",
            "Val: Loss: 0.6837 Acc: 0.7821\n",
            "Epoch 47: Loss: 0.7223 Acc: 0.7489 Time: 34.67 lr: 0.0100000\n",
            "Val: Loss: 0.6176 Acc: 0.7965\n",
            "Epoch 48: Loss: 0.7213 Acc: 0.7496 Time: 34.24 lr: 0.0100000\n",
            "Val: Loss: 0.6828 Acc: 0.7819\n",
            "Epoch 49: Loss: 0.7228 Acc: 0.7482 Time: 34.66 lr: 0.0100000\n",
            "Val: Loss: 0.5692 Acc: 0.8130\n",
            "Epoch 50: Loss: 0.7065 Acc: 0.7541 Time: 34.32 lr: 0.0100000\n",
            "Val: Loss: 0.5628 Acc: 0.8131\n",
            "Epoch 51: Loss: 0.6434 Acc: 0.7765 Time: 34.28 lr: 0.0010000\n",
            "Val: Loss: 0.5114 Acc: 0.8250\n",
            "Epoch 52: Loss: 0.6236 Acc: 0.7813 Time: 34.29 lr: 0.0010000\n",
            "Val: Loss: 0.5071 Acc: 0.8279\n",
            "Epoch 53: Loss: 0.6110 Acc: 0.7878 Time: 34.27 lr: 0.0010000\n",
            "Val: Loss: 0.5152 Acc: 0.8276\n",
            "Epoch 54: Loss: 0.6100 Acc: 0.7884 Time: 33.95 lr: 0.0010000\n",
            "Val: Loss: 0.5048 Acc: 0.8297\n",
            "Epoch 55: Loss: 0.5955 Acc: 0.7907 Time: 33.90 lr: 0.0010000\n",
            "Val: Loss: 0.5101 Acc: 0.8310\n",
            "Epoch 56: Loss: 0.5945 Acc: 0.7903 Time: 33.77 lr: 0.0010000\n",
            "Val: Loss: 0.5090 Acc: 0.8329\n",
            "Epoch 57: Loss: 0.5954 Acc: 0.7921 Time: 34.04 lr: 0.0010000\n",
            "Val: Loss: 0.5112 Acc: 0.8309\n",
            "Epoch 58: Loss: 0.5903 Acc: 0.7939 Time: 33.85 lr: 0.0010000\n",
            "Val: Loss: 0.5110 Acc: 0.8315\n",
            "Epoch 59: Loss: 0.5936 Acc: 0.7931 Time: 33.92 lr: 0.0010000\n",
            "Val: Loss: 0.5136 Acc: 0.8331\n",
            "Epoch 60: Loss: 0.5844 Acc: 0.7953 Time: 33.75 lr: 0.0010000\n",
            "Val: Loss: 0.5162 Acc: 0.8307\n",
            "Epoch 61: Loss: 0.5819 Acc: 0.7957 Time: 33.89 lr: 0.0010000\n",
            "Val: Loss: 0.5100 Acc: 0.8334\n",
            "Epoch 62: Loss: 0.5849 Acc: 0.7950 Time: 33.51 lr: 0.0010000\n",
            "Val: Loss: 0.5124 Acc: 0.8356\n",
            "Epoch 63: Loss: 0.5762 Acc: 0.7996 Time: 33.68 lr: 0.0010000\n",
            "Val: Loss: 0.5072 Acc: 0.8364\n",
            "Epoch 64: Loss: 0.5696 Acc: 0.8009 Time: 33.70 lr: 0.0010000\n",
            "Val: Loss: 0.5121 Acc: 0.8346\n",
            "Epoch 65: Loss: 0.5766 Acc: 0.7999 Time: 33.91 lr: 0.0010000\n",
            "Val: Loss: 0.5156 Acc: 0.8348\n",
            "Epoch 66: Loss: 0.5703 Acc: 0.8016 Time: 33.74 lr: 0.0010000\n",
            "Val: Loss: 0.5195 Acc: 0.8331\n",
            "Epoch 67: Loss: 0.5763 Acc: 0.7997 Time: 33.87 lr: 0.0010000\n",
            "Val: Loss: 0.5199 Acc: 0.8339\n",
            "Epoch 68: Loss: 0.5640 Acc: 0.8012 Time: 33.68 lr: 0.0010000\n",
            "Val: Loss: 0.5161 Acc: 0.8345\n",
            "Epoch 69: Loss: 0.5759 Acc: 0.8010 Time: 33.69 lr: 0.0010000\n",
            "Val: Loss: 0.5121 Acc: 0.8339\n",
            "Epoch 70: Loss: 0.5644 Acc: 0.8030 Time: 33.72 lr: 0.0010000\n",
            "Val: Loss: 0.5089 Acc: 0.8365\n",
            "Epoch 71: Loss: 0.5603 Acc: 0.8040 Time: 33.84 lr: 0.0010000\n",
            "Val: Loss: 0.5110 Acc: 0.8353\n",
            "Epoch 72: Loss: 0.5633 Acc: 0.8050 Time: 33.85 lr: 0.0010000\n",
            "Val: Loss: 0.5145 Acc: 0.8349\n",
            "Epoch 73: Loss: 0.5561 Acc: 0.8060 Time: 33.92 lr: 0.0010000\n",
            "Val: Loss: 0.5175 Acc: 0.8347\n",
            "Epoch 74: Loss: 0.5671 Acc: 0.8021 Time: 33.82 lr: 0.0010000\n",
            "Val: Loss: 0.5164 Acc: 0.8354\n",
            "Epoch 75: Loss: 0.5561 Acc: 0.8064 Time: 33.86 lr: 0.0010000\n",
            "Val: Loss: 0.5189 Acc: 0.8332\n",
            "Epoch 76: Loss: 0.5593 Acc: 0.8051 Time: 33.57 lr: 0.0010000\n",
            "Val: Loss: 0.5099 Acc: 0.8357\n",
            "Epoch 77: Loss: 0.5581 Acc: 0.8064 Time: 33.63 lr: 0.0010000\n",
            "Val: Loss: 0.5136 Acc: 0.8347\n",
            "Epoch 78: Loss: 0.5534 Acc: 0.8064 Time: 33.69 lr: 0.0010000\n",
            "Val: Loss: 0.5184 Acc: 0.8322\n",
            "Epoch 79: Loss: 0.5546 Acc: 0.8082 Time: 33.49 lr: 0.0010000\n",
            "Val: Loss: 0.5089 Acc: 0.8373\n",
            "Epoch 80: Loss: 0.5513 Acc: 0.8091 Time: 33.64 lr: 0.0010000\n",
            "Val: Loss: 0.5149 Acc: 0.8331\n",
            "Epoch 81: Loss: 0.5518 Acc: 0.8085 Time: 33.73 lr: 0.0010000\n",
            "Val: Loss: 0.5265 Acc: 0.8315\n",
            "Epoch 82: Loss: 0.5490 Acc: 0.8091 Time: 33.62 lr: 0.0010000\n",
            "Val: Loss: 0.5108 Acc: 0.8366\n",
            "Epoch 83: Loss: 0.5498 Acc: 0.8088 Time: 33.76 lr: 0.0010000\n",
            "Val: Loss: 0.5134 Acc: 0.8339\n",
            "Epoch 84: Loss: 0.5415 Acc: 0.8107 Time: 33.40 lr: 0.0010000\n",
            "Val: Loss: 0.5220 Acc: 0.8349\n",
            "Epoch 85: Loss: 0.5421 Acc: 0.8098 Time: 33.59 lr: 0.0010000\n",
            "Val: Loss: 0.5244 Acc: 0.8349\n",
            "Epoch 86: Loss: 0.5427 Acc: 0.8130 Time: 33.52 lr: 0.0010000\n",
            "Val: Loss: 0.5191 Acc: 0.8365\n",
            "Epoch 87: Loss: 0.5453 Acc: 0.8092 Time: 33.31 lr: 0.0010000\n",
            "Val: Loss: 0.5106 Acc: 0.8396\n",
            "Epoch 88: Loss: 0.5366 Acc: 0.8122 Time: 33.47 lr: 0.0010000\n",
            "Val: Loss: 0.5238 Acc: 0.8355\n",
            "Epoch 89: Loss: 0.5390 Acc: 0.8129 Time: 33.59 lr: 0.0010000\n",
            "Val: Loss: 0.5227 Acc: 0.8350\n",
            "Epoch 90: Loss: 0.5426 Acc: 0.8103 Time: 33.32 lr: 0.0010000\n",
            "Val: Loss: 0.5221 Acc: 0.8329\n",
            "Epoch 91: Loss: 0.5331 Acc: 0.8151 Time: 33.44 lr: 0.0010000\n",
            "Val: Loss: 0.5215 Acc: 0.8364\n",
            "Epoch 92: Loss: 0.5368 Acc: 0.8129 Time: 33.54 lr: 0.0010000\n",
            "Val: Loss: 0.5160 Acc: 0.8375\n",
            "Epoch 93: Loss: 0.5373 Acc: 0.8117 Time: 33.47 lr: 0.0010000\n",
            "Val: Loss: 0.5147 Acc: 0.8374\n",
            "Epoch 94: Loss: 0.5421 Acc: 0.8108 Time: 33.68 lr: 0.0010000\n",
            "Val: Loss: 0.5188 Acc: 0.8377\n",
            "Epoch 95: Loss: 0.5382 Acc: 0.8129 Time: 33.40 lr: 0.0010000\n",
            "Val: Loss: 0.5162 Acc: 0.8390\n",
            "Epoch 96: Loss: 0.5344 Acc: 0.8145 Time: 33.62 lr: 0.0010000\n",
            "Val: Loss: 0.5157 Acc: 0.8355\n",
            "Epoch 97: Loss: 0.5371 Acc: 0.8119 Time: 33.80 lr: 0.0010000\n",
            "Val: Loss: 0.5207 Acc: 0.8357\n",
            "Epoch 98: Loss: 0.5420 Acc: 0.8102 Time: 33.50 lr: 0.0010000\n",
            "Val: Loss: 0.5375 Acc: 0.8340\n",
            "Epoch 99: Loss: 0.5371 Acc: 0.8121 Time: 33.74 lr: 0.0010000\n",
            "Val: Loss: 0.5199 Acc: 0.8356\n",
            "Epoch 100: Loss: 0.5348 Acc: 0.8153 Time: 33.57 lr: 0.0010000\n",
            "Val: Loss: 0.5127 Acc: 0.8384\n",
            "Epoch 101: Loss: 0.5233 Acc: 0.8160 Time: 33.38 lr: 0.0001000\n",
            "Val: Loss: 0.5167 Acc: 0.8383\n",
            "Epoch 102: Loss: 0.5226 Acc: 0.8185 Time: 33.44 lr: 0.0001000\n",
            "Val: Loss: 0.5131 Acc: 0.8396\n",
            "Epoch 103: Loss: 0.5224 Acc: 0.8184 Time: 32.59 lr: 0.0001000\n",
            "Val: Loss: 0.5134 Acc: 0.8387\n",
            "Epoch 104: Loss: 0.5209 Acc: 0.8185 Time: 32.87 lr: 0.0001000\n",
            "Val: Loss: 0.5233 Acc: 0.8382\n",
            "Epoch 105: Loss: 0.5246 Acc: 0.8164 Time: 32.66 lr: 0.0001000\n",
            "Val: Loss: 0.5127 Acc: 0.8391\n",
            "Epoch 106: Loss: 0.5245 Acc: 0.8184 Time: 32.69 lr: 0.0001000\n",
            "Val: Loss: 0.5181 Acc: 0.8384\n",
            "Epoch 107: Loss: 0.5258 Acc: 0.8169 Time: 32.92 lr: 0.0001000\n",
            "Val: Loss: 0.5168 Acc: 0.8381\n",
            "Epoch 108: Loss: 0.5152 Acc: 0.8205 Time: 32.68 lr: 0.0001000\n",
            "Val: Loss: 0.5192 Acc: 0.8376\n",
            "Epoch 109: Loss: 0.5254 Acc: 0.8193 Time: 32.95 lr: 0.0001000\n",
            "Val: Loss: 0.5208 Acc: 0.8376\n",
            "Epoch 110: Loss: 0.5221 Acc: 0.8184 Time: 32.71 lr: 0.0001000\n",
            "Val: Loss: 0.5174 Acc: 0.8406\n",
            "Epoch 111: Loss: 0.5148 Acc: 0.8215 Time: 32.56 lr: 0.0001000\n",
            "Val: Loss: 0.5242 Acc: 0.8389\n",
            "Epoch 112: Loss: 0.5209 Acc: 0.8169 Time: 32.72 lr: 0.0001000\n",
            "Val: Loss: 0.5155 Acc: 0.8395\n",
            "Epoch 113: Loss: 0.5193 Acc: 0.8194 Time: 32.78 lr: 0.0001000\n",
            "Val: Loss: 0.5148 Acc: 0.8406\n",
            "Epoch 114: Loss: 0.5260 Acc: 0.8183 Time: 32.86 lr: 0.0001000\n",
            "Val: Loss: 0.5139 Acc: 0.8392\n",
            "Epoch 115: Loss: 0.5199 Acc: 0.8197 Time: 32.92 lr: 0.0001000\n",
            "Val: Loss: 0.5162 Acc: 0.8392\n",
            "Epoch 116: Loss: 0.5159 Acc: 0.8186 Time: 32.39 lr: 0.0001000\n",
            "Val: Loss: 0.5164 Acc: 0.8380\n",
            "Epoch 117: Loss: 0.5180 Acc: 0.8192 Time: 32.54 lr: 0.0001000\n",
            "Val: Loss: 0.5114 Acc: 0.8406\n",
            "Epoch 118: Loss: 0.5162 Acc: 0.8203 Time: 32.72 lr: 0.0001000\n",
            "Val: Loss: 0.5190 Acc: 0.8392\n",
            "Epoch 119: Loss: 0.5262 Acc: 0.8141 Time: 32.58 lr: 0.0001000\n",
            "Val: Loss: 0.5280 Acc: 0.8387\n",
            "Epoch 120: Loss: 0.5202 Acc: 0.8176 Time: 32.56 lr: 0.0001000\n",
            "Val: Loss: 0.5155 Acc: 0.8395\n",
            "Epoch 121: Loss: 0.5179 Acc: 0.8201 Time: 32.92 lr: 0.0001000\n",
            "Val: Loss: 0.5142 Acc: 0.8393\n",
            "Epoch 122: Loss: 0.5169 Acc: 0.8194 Time: 32.76 lr: 0.0001000\n",
            "Val: Loss: 0.5144 Acc: 0.8396\n",
            "Epoch 123: Loss: 0.5157 Acc: 0.8198 Time: 32.90 lr: 0.0001000\n",
            "Val: Loss: 0.5151 Acc: 0.8395\n",
            "Epoch 124: Loss: 0.5278 Acc: 0.8151 Time: 32.83 lr: 0.0001000\n",
            "Val: Loss: 0.5126 Acc: 0.8398\n",
            "Epoch 125: Loss: 0.5149 Acc: 0.8202 Time: 32.92 lr: 0.0001000\n",
            "Val: Loss: 0.5201 Acc: 0.8387\n",
            "Epoch 126: Loss: 0.5141 Acc: 0.8212 Time: 32.86 lr: 0.0001000\n",
            "Val: Loss: 0.5152 Acc: 0.8399\n",
            "Epoch 127: Loss: 0.5129 Acc: 0.8220 Time: 32.59 lr: 0.0001000\n",
            "Val: Loss: 0.5224 Acc: 0.8385\n",
            "Epoch 128: Loss: 0.5175 Acc: 0.8183 Time: 32.82 lr: 0.0001000\n",
            "Val: Loss: 0.5133 Acc: 0.8406\n",
            "Epoch 129: Loss: 0.5126 Acc: 0.8223 Time: 32.70 lr: 0.0001000\n",
            "Val: Loss: 0.5229 Acc: 0.8391\n",
            "Epoch 130: Loss: 0.5192 Acc: 0.8172 Time: 32.69 lr: 0.0001000\n",
            "Val: Loss: 0.5157 Acc: 0.8399\n",
            "Epoch 131: Loss: 0.5156 Acc: 0.8196 Time: 33.03 lr: 0.0001000\n",
            "Val: Loss: 0.5195 Acc: 0.8384\n",
            "Epoch 132: Loss: 0.5152 Acc: 0.8213 Time: 32.69 lr: 0.0001000\n",
            "Val: Loss: 0.5208 Acc: 0.8386\n",
            "Epoch 133: Loss: 0.5166 Acc: 0.8183 Time: 32.76 lr: 0.0001000\n",
            "Val: Loss: 0.5204 Acc: 0.8394\n",
            "Epoch 134: Loss: 0.5207 Acc: 0.8201 Time: 32.63 lr: 0.0001000\n",
            "Val: Loss: 0.5196 Acc: 0.8398\n",
            "Epoch 135: Loss: 0.5186 Acc: 0.8183 Time: 32.71 lr: 0.0001000\n",
            "Val: Loss: 0.5216 Acc: 0.8400\n",
            "Epoch 136: Loss: 0.5177 Acc: 0.8202 Time: 32.76 lr: 0.0001000\n",
            "Val: Loss: 0.5111 Acc: 0.8403\n",
            "Epoch 137: Loss: 0.5110 Acc: 0.8223 Time: 32.73 lr: 0.0001000\n",
            "Val: Loss: 0.5137 Acc: 0.8404\n",
            "Epoch 138: Loss: 0.5186 Acc: 0.8202 Time: 32.96 lr: 0.0001000\n",
            "Val: Loss: 0.5189 Acc: 0.8406\n",
            "Epoch 139: Loss: 0.5116 Acc: 0.8215 Time: 33.15 lr: 0.0001000\n",
            "Val: Loss: 0.5157 Acc: 0.8403\n",
            "Epoch 140: Loss: 0.5155 Acc: 0.8207 Time: 32.97 lr: 0.0001000\n",
            "Val: Loss: 0.5257 Acc: 0.8373\n",
            "Epoch 141: Loss: 0.5128 Acc: 0.8221 Time: 32.95 lr: 0.0001000\n",
            "Val: Loss: 0.5163 Acc: 0.8388\n",
            "Epoch 142: Loss: 0.5137 Acc: 0.8203 Time: 33.06 lr: 0.0001000\n",
            "Val: Loss: 0.5261 Acc: 0.8383\n",
            "Epoch 143: Loss: 0.5149 Acc: 0.8211 Time: 32.78 lr: 0.0001000\n",
            "Val: Loss: 0.5195 Acc: 0.8403\n",
            "Epoch 144: Loss: 0.5083 Acc: 0.8233 Time: 32.92 lr: 0.0001000\n",
            "Val: Loss: 0.5175 Acc: 0.8393\n",
            "Epoch 145: Loss: 0.5202 Acc: 0.8195 Time: 32.78 lr: 0.0001000\n",
            "Val: Loss: 0.5164 Acc: 0.8392\n",
            "Epoch 146: Loss: 0.5138 Acc: 0.8218 Time: 33.05 lr: 0.0001000\n",
            "Val: Loss: 0.5148 Acc: 0.8413\n",
            "Epoch 147: Loss: 0.5183 Acc: 0.8191 Time: 32.97 lr: 0.0001000\n",
            "Val: Loss: 0.5177 Acc: 0.8396\n",
            "Epoch 148: Loss: 0.5173 Acc: 0.8187 Time: 32.94 lr: 0.0001000\n",
            "Val: Loss: 0.5277 Acc: 0.8381\n",
            "Epoch 149: Loss: 0.5133 Acc: 0.8210 Time: 32.88 lr: 0.0001000\n",
            "Val: Loss: 0.5139 Acc: 0.8403\n",
            "Epoch 150: Loss: 0.5120 Acc: 0.8219 Time: 32.81 lr: 0.0001000\n",
            "Val: Loss: 0.5162 Acc: 0.8404\n",
            "Epoch 151: Loss: 0.5078 Acc: 0.8212 Time: 32.89 lr: 0.0000100\n",
            "Val: Loss: 0.5141 Acc: 0.8411\n",
            "Epoch 152: Loss: 0.5138 Acc: 0.8214 Time: 32.94 lr: 0.0000100\n",
            "Val: Loss: 0.5206 Acc: 0.8390\n",
            "Epoch 153: Loss: 0.5136 Acc: 0.8209 Time: 32.75 lr: 0.0000100\n",
            "Val: Loss: 0.5200 Acc: 0.8389\n",
            "Epoch 154: Loss: 0.5123 Acc: 0.8212 Time: 32.85 lr: 0.0000100\n",
            "Val: Loss: 0.5171 Acc: 0.8401\n",
            "Epoch 155: Loss: 0.5109 Acc: 0.8233 Time: 32.82 lr: 0.0000100\n",
            "Val: Loss: 0.5130 Acc: 0.8415\n",
            "Epoch 156: Loss: 0.5120 Acc: 0.8214 Time: 32.64 lr: 0.0000100\n",
            "Val: Loss: 0.5172 Acc: 0.8402\n",
            "Epoch 157: Loss: 0.5172 Acc: 0.8200 Time: 32.36 lr: 0.0000100\n",
            "Val: Loss: 0.5179 Acc: 0.8405\n",
            "Epoch 158: Loss: 0.5068 Acc: 0.8221 Time: 32.32 lr: 0.0000100\n",
            "Val: Loss: 0.5171 Acc: 0.8393\n",
            "Epoch 159: Loss: 0.5106 Acc: 0.8219 Time: 32.43 lr: 0.0000100\n",
            "Val: Loss: 0.5108 Acc: 0.8423\n",
            "Epoch 160: Loss: 0.5127 Acc: 0.8204 Time: 32.52 lr: 0.0000100\n",
            "Val: Loss: 0.5236 Acc: 0.8382\n",
            "Epoch 161: Loss: 0.5157 Acc: 0.8188 Time: 32.50 lr: 0.0000100\n",
            "Val: Loss: 0.5230 Acc: 0.8403\n",
            "Epoch 162: Loss: 0.5133 Acc: 0.8224 Time: 32.57 lr: 0.0000100\n",
            "Val: Loss: 0.5168 Acc: 0.8395\n",
            "Epoch 163: Loss: 0.5131 Acc: 0.8233 Time: 33.06 lr: 0.0000100\n",
            "Val: Loss: 0.5220 Acc: 0.8402\n",
            "Epoch 164: Loss: 0.5154 Acc: 0.8201 Time: 33.21 lr: 0.0000100\n",
            "Val: Loss: 0.5152 Acc: 0.8411\n",
            "Epoch 165: Loss: 0.5176 Acc: 0.8181 Time: 33.45 lr: 0.0000100\n",
            "Val: Loss: 0.5187 Acc: 0.8397\n",
            "Epoch 166: Loss: 0.5176 Acc: 0.8177 Time: 32.59 lr: 0.0000100\n",
            "Val: Loss: 0.5184 Acc: 0.8394\n",
            "Epoch 167: Loss: 0.5168 Acc: 0.8188 Time: 32.92 lr: 0.0000100\n",
            "Val: Loss: 0.5234 Acc: 0.8395\n",
            "Epoch 168: Loss: 0.5085 Acc: 0.8221 Time: 32.62 lr: 0.0000100\n",
            "Val: Loss: 0.5250 Acc: 0.8391\n",
            "Epoch 169: Loss: 0.5182 Acc: 0.8191 Time: 32.70 lr: 0.0000100\n",
            "Val: Loss: 0.5158 Acc: 0.8404\n",
            "Epoch 170: Loss: 0.5139 Acc: 0.8212 Time: 32.79 lr: 0.0000100\n",
            "Val: Loss: 0.5151 Acc: 0.8421\n",
            "Epoch 171: Loss: 0.5208 Acc: 0.8186 Time: 32.43 lr: 0.0000100\n",
            "Val: Loss: 0.5206 Acc: 0.8398\n",
            "Epoch 172: Loss: 0.5139 Acc: 0.8215 Time: 32.68 lr: 0.0000100\n",
            "Val: Loss: 0.5190 Acc: 0.8391\n",
            "Epoch 173: Loss: 0.5133 Acc: 0.8214 Time: 33.46 lr: 0.0000100\n",
            "Val: Loss: 0.5134 Acc: 0.8409\n",
            "Epoch 174: Loss: 0.5117 Acc: 0.8211 Time: 32.82 lr: 0.0000100\n",
            "Val: Loss: 0.5196 Acc: 0.8396\n",
            "Epoch 175: Loss: 0.5076 Acc: 0.8240 Time: 33.24 lr: 0.0000100\n",
            "Val: Loss: 0.5145 Acc: 0.8395\n",
            "Epoch 176: Loss: 0.5127 Acc: 0.8215 Time: 33.60 lr: 0.0000100\n",
            "Val: Loss: 0.5231 Acc: 0.8387\n",
            "Epoch 177: Loss: 0.5177 Acc: 0.8199 Time: 33.79 lr: 0.0000100\n",
            "Val: Loss: 0.5152 Acc: 0.8403\n",
            "Epoch 178: Loss: 0.5211 Acc: 0.8188 Time: 34.00 lr: 0.0000100\n",
            "Val: Loss: 0.5174 Acc: 0.8401\n",
            "Epoch 179: Loss: 0.5120 Acc: 0.8214 Time: 32.93 lr: 0.0000100\n",
            "Val: Loss: 0.5236 Acc: 0.8371\n",
            "Epoch 180: Loss: 0.5135 Acc: 0.8201 Time: 33.54 lr: 0.0000100\n",
            "Val: Loss: 0.5217 Acc: 0.8403\n",
            "Epoch 181: Loss: 0.5101 Acc: 0.8220 Time: 33.85 lr: 0.0000100\n",
            "Val: Loss: 0.5134 Acc: 0.8399\n",
            "Epoch 182: Loss: 0.5107 Acc: 0.8210 Time: 33.32 lr: 0.0000100\n",
            "Val: Loss: 0.5240 Acc: 0.8390\n",
            "Epoch 183: Loss: 0.5186 Acc: 0.8206 Time: 33.19 lr: 0.0000100\n",
            "Val: Loss: 0.5193 Acc: 0.8398\n",
            "Epoch 184: Loss: 0.5082 Acc: 0.8224 Time: 32.97 lr: 0.0000100\n",
            "Val: Loss: 0.5141 Acc: 0.8406\n",
            "Epoch 185: Loss: 0.5147 Acc: 0.8194 Time: 32.84 lr: 0.0000100\n",
            "Val: Loss: 0.5125 Acc: 0.8403\n",
            "Epoch 186: Loss: 0.5136 Acc: 0.8204 Time: 33.00 lr: 0.0000100\n",
            "Val: Loss: 0.5203 Acc: 0.8397\n",
            "Epoch 187: Loss: 0.5135 Acc: 0.8215 Time: 32.87 lr: 0.0000100\n",
            "Val: Loss: 0.5131 Acc: 0.8400\n",
            "Epoch 188: Loss: 0.5123 Acc: 0.8204 Time: 32.81 lr: 0.0000100\n",
            "Val: Loss: 0.5193 Acc: 0.8383\n",
            "Epoch 189: Loss: 0.5078 Acc: 0.8221 Time: 33.41 lr: 0.0000100\n",
            "Val: Loss: 0.5252 Acc: 0.8377\n",
            "Epoch 190: Loss: 0.5067 Acc: 0.8238 Time: 33.07 lr: 0.0000100\n",
            "Val: Loss: 0.5181 Acc: 0.8382\n",
            "Epoch 191: Loss: 0.5137 Acc: 0.8203 Time: 33.64 lr: 0.0000100\n",
            "Val: Loss: 0.5231 Acc: 0.8404\n",
            "Epoch 192: Loss: 0.5127 Acc: 0.8215 Time: 33.89 lr: 0.0000100\n",
            "Val: Loss: 0.5129 Acc: 0.8396\n",
            "Epoch 193: Loss: 0.5154 Acc: 0.8199 Time: 33.80 lr: 0.0000100\n",
            "Val: Loss: 0.5210 Acc: 0.8391\n",
            "Epoch 194: Loss: 0.5127 Acc: 0.8223 Time: 33.85 lr: 0.0000100\n",
            "Val: Loss: 0.5201 Acc: 0.8394\n",
            "Epoch 195: Loss: 0.5079 Acc: 0.8217 Time: 33.44 lr: 0.0000100\n",
            "Val: Loss: 0.5177 Acc: 0.8401\n",
            "Epoch 196: Loss: 0.5171 Acc: 0.8193 Time: 33.60 lr: 0.0000100\n",
            "Val: Loss: 0.5204 Acc: 0.8394\n",
            "Epoch 197: Loss: 0.5050 Acc: 0.8238 Time: 34.21 lr: 0.0000100\n",
            "Val: Loss: 0.5140 Acc: 0.8408\n",
            "Epoch 198: Loss: 0.5105 Acc: 0.8217 Time: 33.81 lr: 0.0000100\n",
            "Val: Loss: 0.5218 Acc: 0.8390\n",
            "Epoch 199: Loss: 0.5163 Acc: 0.8191 Time: 33.98 lr: 0.0000100\n",
            "Val: Loss: 0.5184 Acc: 0.8390\n",
            "Epoch 200: Loss: 0.5125 Acc: 0.8193 Time: 33.84 lr: 0.0000100\n",
            "Val: Loss: 0.5215 Acc: 0.8395\n"
          ],
          "name": "stdout"
        }
      ]
    },
    {
      "cell_type": "code",
      "metadata": {
        "id": "qTqh_M3GhySS",
        "colab_type": "code",
        "colab": {}
      },
      "source": [
        "adam_hist = hist"
      ],
      "execution_count": 0,
      "outputs": []
    },
    {
      "cell_type": "markdown",
      "metadata": {
        "id": "MfDlvFYQfZzg",
        "colab_type": "text"
      },
      "source": [
        "## ResNet-18(large lr w/o pre-trained)"
      ]
    },
    {
      "cell_type": "code",
      "metadata": {
        "id": "xvydFxB1fayo",
        "colab_type": "code",
        "colab": {
          "base_uri": "https://localhost:8080/",
          "height": 545
        },
        "outputId": "8885ade6-caff-476c-e30c-eef862b86fac"
      },
      "source": [
        "import matplotlib.pyplot as plt\n",
        "%matplotlib inline\n",
        "\n",
        "epochs =range(1,num_epoch+1)\n",
        "\n",
        "plt.title('Loss')\n",
        "plt.plot(epochs, radam_hist['loss'],'ro',label='radam_train')\n",
        "plt.plot(epochs, radam_hist['val_loss'],'r',label='radam_test')\n",
        "plt.plot(epochs, adam_hist['train_loss'],'go',label='adam_train')\n",
        "plt.plot(epochs, adam_hist['test_loss'],'g',label='adam_test')\n",
        "# plt.ylim((0.0,0.1))\n",
        "plt.legend()\n",
        "plt.show()\n",
        "\n",
        "plt.figure()\n",
        "plt.title('Acc')\n",
        "plt.plot(epochs, radam_hist['acc'],'ro',label='radam_train')\n",
        "plt.plot(epochs, radam_hist['val_acc'],'r',label='radam_test')\n",
        "plt.plot(epochs, adam_hist['train_acc'],'go',label='adam_train')\n",
        "plt.plot(epochs, adam_hist['test_acc'],'g',label='adam_test')\n",
        "# plt.ylim((0.96,1.0))\n",
        "plt.legend()\n",
        "plt.show()"
      ],
      "execution_count": 25,
      "outputs": [
        {
          "output_type": "display_data",
          "data": {
            "image/png": "[encoded data removed]",
            "text/plain": [
              "<Figure size 432x288 with 1 Axes>"
            ]
          },
          "metadata": {
            "tags": []
          }
        },
        {
          "output_type": "display_data",
          "data": {
            "image/png": "[encoded data removed]",
            "text/plain": [
              "<Figure size 432x288 with 1 Axes>"
            ]
          },
          "metadata": {
            "tags": []
          }
        }
      ]
    },
    {
      "cell_type": "markdown",
      "metadata": {
        "id": "SuHJwMY10zB3",
        "colab_type": "text"
      },
      "source": [
        "## ResNet-18(small batch w/o pre-trained)"
      ]
    },
    {
      "cell_type": "code",
      "metadata": {
        "id": "mdbYuTYQ0_9a",
        "colab_type": "code",
        "colab": {}
      },
      "source": [
        "with open('./radam_small_hist.txt','w') as fw:\n",
        "  fw.write(str(radam_hist))"
      ],
      "execution_count": 0,
      "outputs": []
    },
    {
      "cell_type": "code",
      "metadata": {
        "id": "cp1PkMx81G4p",
        "colab_type": "code",
        "outputId": "e2e7cb8b-4cd1-47cb-a310-e23887605b76",
        "colab": {
          "base_uri": "https://localhost:8080/",
          "height": 545
        }
      },
      "source": [
        "import matplotlib.pyplot as plt\n",
        "%matplotlib inline\n",
        "\n",
        "epochs =range(1,num_epoch+1)\n",
        "\n",
        "plt.title('Loss')\n",
        "plt.plot(epochs, radam_hist['train_loss'],'ro',label='radam_train')\n",
        "plt.plot(epochs, radam_hist['test_loss'],'r',label='radam_test')\n",
        "plt.plot(epochs, adam_hist['train_loss'],'go',label='adam_train')\n",
        "plt.plot(epochs, adam_hist['test_loss'],'g',label='adam_test')\n",
        "# plt.ylim((0.0,0.1))\n",
        "plt.legend()\n",
        "plt.show()\n",
        "\n",
        "plt.figure()\n",
        "plt.title('Acc')\n",
        "plt.plot(epochs, radam_hist['train_acc'],'ro',label='radam_train')\n",
        "plt.plot(epochs, radam_hist['test_acc'],'r',label='radam_test')\n",
        "plt.plot(epochs, adam_hist['train_acc'],'go',label='adam_train')\n",
        "plt.plot(epochs, adam_hist['test_acc'],'g',label='adam_test')\n",
        "# plt.ylim((0.96,1.0))\n",
        "plt.legend()\n",
        "plt.show()"
      ],
      "execution_count": 0,
      "outputs": [
        {
          "output_type": "display_data",
          "data": {
            "image/png": "[encoded data removed]",
            "text/plain": [
              "<Figure size 432x288 with 1 Axes>"
            ]
          },
          "metadata": {
            "tags": []
          }
        },
        {
          "output_type": "display_data",
          "data": {
            "image/png": "[encoded data removed]",
            "text/plain": [
              "<Figure size 432x288 with 1 Axes>"
            ]
          },
          "metadata": {
            "tags": []
          }
        }
      ]
    },
    {
      "cell_type": "markdown",
      "metadata": {
        "id": "JxVh7cV2iiqg",
        "colab_type": "text"
      },
      "source": [
        "## ResNet-50 (w/o pre-trained)"
      ]
    },
    {
      "cell_type": "code",
      "metadata": {
        "id": "zjH9O0tmBmP6",
        "colab_type": "code",
        "colab": {}
      },
      "source": [
        "with open('./adam_hist.txt','w') as fw:\n",
        "  fw.write(str(adam_hist))"
      ],
      "execution_count": 0,
      "outputs": []
    },
    {
      "cell_type": "code",
      "metadata": {
        "id": "YG3HvWHkiFlp",
        "colab_type": "code",
        "outputId": "b5a4a1f0-6f2c-419a-ea5c-6f5b0be160e4",
        "colab": {
          "base_uri": "https://localhost:8080/",
          "height": 545
        }
      },
      "source": [
        "import matplotlib.pyplot as plt\n",
        "%matplotlib inline\n",
        "\n",
        "epochs =range(1,epoch_num+1)\n",
        "\n",
        "plt.title('Loss')\n",
        "plt.plot(epochs, radam_hist['train_loss'],'ro',label='radam_train')\n",
        "plt.plot(epochs, radam_hist['test_loss'],'r',label='radam_test')\n",
        "plt.plot(epochs, adam_hist['train_loss'],'go',label='adam_train')\n",
        "plt.plot(epochs, adam_hist['test_loss'],'g',label='adam_test')\n",
        "# plt.ylim((0.0,0.1))\n",
        "plt.legend()\n",
        "plt.show()\n",
        "\n",
        "plt.figure()\n",
        "plt.title('Acc')\n",
        "plt.plot(epochs, radam_hist['train_acc'],'ro',label='radam_train')\n",
        "plt.plot(epochs, radam_hist['test_acc'],'r',label='radam_test')\n",
        "plt.plot(epochs, adam_hist['train_acc'],'go',label='adam_train')\n",
        "plt.plot(epochs, adam_hist['test_acc'],'g',label='adam_test')\n",
        "# plt.ylim((0.96,1.0))\n",
        "plt.legend()\n",
        "plt.show()"
      ],
      "execution_count": 0,
      "outputs": [
        {
          "output_type": "display_data",
          "data": {
            "image/png": "[encoded data removed]",
            "text/plain": [
              "<Figure size 432x288 with 1 Axes>"
            ]
          },
          "metadata": {
            "tags": []
          }
        },
        {
          "output_type": "display_data",
          "data": {
            "image/png": "[encoded data removed]",
            "text/plain": [
              "<Figure size 432x288 with 1 Axes>"
            ]
          },
          "metadata": {
            "tags": []
          }
        }
      ]
    },
    {
      "cell_type": "markdown",
      "metadata": {
        "id": "S0Qc59txiMl1",
        "colab_type": "text"
      },
      "source": [
        "## Efficientnet (w/ pre-trained)"
      ]
    },
    {
      "cell_type": "code",
      "metadata": {
        "colab_type": "code",
        "id": "YhhlNCN3Ov0f",
        "outputId": "16372e5e-6766-45c3-feb9-e8eb5a8becd6",
        "colab": {
          "base_uri": "https://localhost:8080/",
          "height": 562
        }
      },
      "source": [
        "import matplotlib.pyplot as plt\n",
        "%matplotlib inline\n",
        "\n",
        "epochs =range(1,epoch_num+1)\n",
        "\n",
        "plt.title('Loss')\n",
        "plt.plot(epochs, radam_hist['train_loss'],'ro',label='radam_train')\n",
        "plt.plot(epochs, radam_hist['test_loss'],'r',label='radam_test')\n",
        "plt.plot(epochs, adam_hist['train_loss'],'go',label='adam_train')\n",
        "plt.plot(epochs, adam_hist['test_loss'],'g',label='adam_test')\n",
        "plt.ylim((0.0,0.1))\n",
        "plt.legend()\n",
        "\n",
        "plt.figure()\n",
        "plt.title('Acc')\n",
        "plt.plot(epochs, radam_hist['train_acc'],'ro',label='radam_train')\n",
        "plt.plot(epochs, radam_hist['test_acc'],'r',label='radam_test')\n",
        "plt.plot(epochs, adam_hist['train_acc'],'go',label='adam_train')\n",
        "plt.plot(epochs, adam_hist['test_acc'],'g',label='adam_test')\n",
        "plt.ylim((0.96,1.0))\n",
        "plt.legend()"
      ],
      "execution_count": 0,
      "outputs": [
        {
          "output_type": "execute_result",
          "data": {
            "text/plain": [
              "<matplotlib.legend.Legend at 0x7f13dd313da0>"
            ]
          },
          "metadata": {
            "tags": []
          },
          "execution_count": 51
        },
        {
          "output_type": "display_data",
          "data": {
            "image/png": "[encoded data removed]",
            "text/plain": [
              "<Figure size 432x288 with 1 Axes>"
            ]
          },
          "metadata": {
            "tags": []
          }
        },
        {
          "output_type": "display_data",
          "data": {
            "image/png": "[encoded data removed]",
            "text/plain": [
              "<Figure size 432x288 with 1 Axes>"
            ]
          },
          "metadata": {
            "tags": []
          }
        }
      ]
    },
    {
      "cell_type": "markdown",
      "metadata": {
        "id": "Ihh1Xts-dX-B",
        "colab_type": "text"
      },
      "source": [
        "## Discussion\n",
        "Model: EfficientNet\n",
        "**RAdam seems to be beaten by Adam** (Can't see the improvement...)\n",
        "\n",
        "Possible Causes:  \n",
        "\n",
        "1. * Pretrained Model? -> RAdam assumes initial weights as $w_0 \\sim \\mathcal{N}(0,I)$\n",
        "  *  EfficientNet(99 %, both) is too good at CIFAR-10 by default. -> Try another model\n",
        "\n",
        "2. Too big batch size(=1024)? <- RAdam assumes Adam might make wrong big jump in the early steps because there is few data. Big batch contradicts this situation.\n",
        "\n",
        "Experiments:\n",
        "\n",
        "1. Train a model(ResNet-50) with $w_0 \\sim \\mathcal{N}(0,I)$\n",
        "2. **Try smaller batch size(=32)**. (ResNet-18)\n",
        "\n",
        "\n",
        "Results:\n",
        "\n",
        "1. Too bad. RAdam(55 %) is worse than Adam(65 %), again.\n",
        "2. **RAdam(79.5 %) is better than Adam(79.1 %)**\n"
      ]
    },
    {
      "cell_type": "markdown",
      "metadata": {
        "id": "271a8Q5ZdX-C",
        "colab_type": "text"
      },
      "source": [
        ""
      ]
    }
  ]
}