{
 "cells": [
  {
   "cell_type": "code",
   "execution_count": null,
   "metadata": {
    "colab": {
     "base_uri": "https://localhost:8080/",
     "height": 122
    },
    "colab_type": "code",
    "id": "L7PsInT7zOlb",
    "outputId": "d52ece83-8452-4c4c-8d88-884ca7a7119f"
   },
   "outputs": [],
   "source": [
    "from google.colab import drive\n",
    "drive.mount('/content/drive')"
   ]
  },
  {
   "cell_type": "code",
   "execution_count": null,
   "metadata": {
    "colab": {
     "base_uri": "https://localhost:8080/",
     "height": 136
    },
    "colab_type": "code",
    "id": "WKhxfmUizPKr",
    "outputId": "5277fa04-9c62-46d1-9708-722923221867"
   },
   "outputs": [],
   "source": [
    "!git clone https://github.com/LiyuanLucasLiu/RAdam.git"
   ]
  },
  {
   "cell_type": "code",
   "execution_count": null,
   "metadata": {
    "colab": {
     "base_uri": "https://localhost:8080/",
     "height": 1000
    },
    "colab_type": "code",
    "id": "BiTF3LgNzbA5",
    "outputId": "c6c01441-6f99-4f4d-cd3e-ba76755be037"
   },
   "outputs": [],
   "source": [
    "!unzip ./drive/My\\ Drive/cifar.zip"
   ]
  },
  {
   "cell_type": "code",
   "execution_count": 0,
   "metadata": {
    "colab": {},
    "colab_type": "code",
    "id": "Fd4RGEt60FFY"
   },
   "outputs": [],
   "source": [
    "import torch\n",
    "import torchvision"
   ]
  },
  {
   "cell_type": "code",
   "execution_count": 0,
   "metadata": {
    "colab": {},
    "colab_type": "code",
    "id": "1RzDNKW90Kd7"
   },
   "outputs": [],
   "source": [
    "import glob\n",
    "import os"
   ]
  },
  {
   "cell_type": "code",
   "execution_count": 0,
   "metadata": {
    "colab": {},
    "colab_type": "code",
    "id": "Sv885oQtDlGA"
   },
   "outputs": [],
   "source": [
    "from RAdam.radam import RAdam"
   ]
  },
  {
   "cell_type": "code",
   "execution_count": 7,
   "metadata": {
    "colab": {
     "base_uri": "https://localhost:8080/",
     "height": 187
    },
    "colab_type": "code",
    "id": "qA7tIerk0Rup",
    "outputId": "6b811ae1-fe34-4cf7-d27f-2be85b760894"
   },
   "outputs": [
    {
     "data": {
      "text/plain": [
       "{'airplane': 0,\n",
       " 'automobile': 1,\n",
       " 'bird': 2,\n",
       " 'cat': 3,\n",
       " 'deer': 4,\n",
       " 'dog': 5,\n",
       " 'frog': 6,\n",
       " 'horse': 7,\n",
       " 'ship': 8,\n",
       " 'truck': 9}"
      ]
     },
     "execution_count": 7,
     "metadata": {
      "tags": []
     },
     "output_type": "execute_result"
    }
   ],
   "source": [
    "train_imgs = glob.glob('./cifar/train/*.png')\n",
    "test_imgs = glob.glob('./cifar/test/*.png')\n",
    "classes = []\n",
    "with open('./cifar/labels.txt','r') as f:\n",
    "  classes = f.readlines()\n",
    "class_to_idx_dict = {class_.replace(\"\\n\",\"\"):idx for idx, class_ in enumerate(classes)}\n",
    "class_to_idx_dict"
   ]
  },
  {
   "cell_type": "code",
   "execution_count": 8,
   "metadata": {
    "colab": {
     "base_uri": "https://localhost:8080/",
     "height": 34
    },
    "colab_type": "code",
    "id": "i9Ib9bsF5ytS",
    "outputId": "9723016c-b99b-44ed-835a-cc200a708b35"
   },
   "outputs": [
    {
     "data": {
      "text/plain": [
       "'cuda:0'"
      ]
     },
     "execution_count": 8,
     "metadata": {
      "tags": []
     },
     "output_type": "execute_result"
    }
   ],
   "source": [
    "device = 'cuda:0' if torch.cuda.is_available() else 'cpu'\n",
    "device"
   ]
  },
  {
   "cell_type": "code",
   "execution_count": 0,
   "metadata": {
    "colab": {},
    "colab_type": "code",
    "id": "VEsi2qed2Zhf"
   },
   "outputs": [],
   "source": [
    "transform = {\n",
    "    'train':torchvision.transforms.Compose([\n",
    "                                            # torchvision.transforms.RandomResizedCrop(32),\n",
    "                                            # torchvision.transforms.RandomHorizontalFlip(),\n",
    "                                            torchvision.transforms.ToTensor(),\n",
    "                                            torchvision.transforms.Normalize([0.485, 0.456, 0.406], [0.229, 0.224, 0.225])\n",
    "    ]),\n",
    "    'test':torchvision.transforms.Compose([\n",
    "                                           torchvision.transforms.ToTensor(),\n",
    "                                           torchvision.transforms.Normalize([0.485,0.456,0.406],[0.229,0.224,0.225])\n",
    "    ])\n",
    "}"
   ]
  },
  {
   "cell_type": "code",
   "execution_count": 0,
   "metadata": {
    "colab": {},
    "colab_type": "code",
    "id": "FSWH1aE32E6E"
   },
   "outputs": [],
   "source": [
    "from PIL import Image"
   ]
  },
  {
   "cell_type": "code",
   "execution_count": 0,
   "metadata": {
    "colab": {},
    "colab_type": "code",
    "id": "-dsXjvd80mTX"
   },
   "outputs": [],
   "source": [
    "class CIFAR10Dataset(torch.utils.data.Dataset):\n",
    "  def __init__(self, img_path, transform=None, mode='train',class_to_idx_dict=class_to_idx_dict):\n",
    "    super(CIFAR10Dataset, self).__init__()\n",
    "    self.img_path = img_path\n",
    "    self.transform = transform\n",
    "    self.mode = mode\n",
    "    self.class_to_idx_dict = class_to_idx_dict\n",
    "\n",
    "  def __getitem__(self, idx):\n",
    "    img_p = self.img_path[idx]\n",
    "    img = Image.open(img_p)\n",
    "    label = img_p.split('/')[-1].split('_')[-1].replace('.png','')\n",
    "    label_idx = self.class_to_idx_dict[label]\n",
    "\n",
    "    if self.transform:\n",
    "      img = self.transform[self.mode](img)\n",
    "\n",
    "    return img, label_idx\n",
    "\n",
    "  def __len__(self):\n",
    "    return len(self.img_path)"
   ]
  },
  {
   "cell_type": "code",
   "execution_count": 0,
   "metadata": {
    "colab": {},
    "colab_type": "code",
    "id": "6c83OsDw0nlP"
   },
   "outputs": [],
   "source": [
    "train_ds = CIFAR10Dataset(train_imgs, transform=transform,mode='train',class_to_idx_dict=class_to_idx_dict)\n",
    "test_ds = CIFAR10Dataset(test_imgs, transform=transform, mode='test',class_to_idx_dict=class_to_idx_dict)"
   ]
  },
  {
   "cell_type": "code",
   "execution_count": 0,
   "metadata": {
    "colab": {},
    "colab_type": "code",
    "id": "Y6tYbQdV5GAX"
   },
   "outputs": [],
   "source": [
    "train_dl = torch.utils.data.DataLoader(train_ds, batch_size=1024, shuffle=True)\n",
    "test_dl = torch.utils.data.DataLoader(test_ds, batch_size=1024, shuffle=False)\n",
    "dl_dict = {'train':train_dl,'test':test_dl}"
   ]
  },
  {
   "cell_type": "code",
   "execution_count": 0,
   "metadata": {
    "colab": {},
    "colab_type": "code",
    "id": "3Nmsw1gfzNBb"
   },
   "outputs": [],
   "source": [
    "num_epoch=200"
   ]
  },
  {
   "cell_type": "code",
   "execution_count": 0,
   "metadata": {
    "colab": {},
    "colab_type": "code",
    "id": "U3IUGP3xJQUa"
   },
   "outputs": [],
   "source": [
    "hist = {\"train_loss\":[],\"train_acc\":[], \"test_loss\":[],\"test_acc\":[]}\n",
    "\n",
    "# net = EfficientNet.from_pretrained('efficientnet-b1')\n",
    "# net._fc = torch.nn.Linear(in_features=net._bn1.num_features,out_features=num_classes)\n",
    "\n",
    "net = torchvision.models.resnet50(pretrained=False)\n",
    "net.fc = torch.nn.Linear(2048,10)\n",
    "model_name = net.__class__.__name__\n",
    "criterion = torch.nn.CrossEntropyLoss()\n",
    "# optimizer = RAdam(net.parameters(),lr=1e-3,betas=(0.9,0.999))\n",
    "optimizer = torch.optim.Adam(net.parameters(),lr=1e-3, betas=(0.9,0.999))\n",
    "scheduler = torch.optim.lr_scheduler.StepLR(optimizer, num_epoch/4)\n",
    "\n",
    "device = \"cuda:0\" if torch.cuda.is_available else \"cpu\"\n",
    "net.to(device)\n",
    "torch.backends.cudnn.benchmark=True"
   ]
  },
  {
   "cell_type": "code",
   "execution_count": 46,
   "metadata": {
    "colab": {
     "base_uri": "https://localhost:8080/",
     "height": 1000
    },
    "colab_type": "code",
    "id": "m3AL8zXydX96",
    "outputId": "f8ee210b-7cf4-4352-8f39-90b6fbaf1622"
   },
   "outputs": [
    {
     "name": "stdout",
     "output_type": "stream",
     "text": [
      "START\n",
      "Epoch 1: Loss: 1.9856089139175415 Acc: 0.31035998463630676 Time: 31.85344433784485\n",
      "Val: Loss: 1.5819013786315919 Acc: 0.42080000042915344\n",
      "Epoch 2: Loss: 1.4305275310134888 Acc: 0.4824399948120117 Time: 31.780250310897827\n",
      "Val: Loss: 1.464974515914917 Acc: 0.4749999940395355\n",
      "Epoch 3: Loss: 1.2078901447296142 Acc: 0.5692999958992004 Time: 31.693868398666382\n",
      "Val: Loss: 1.3688255477905273 Acc: 0.5123000144958496\n",
      "Epoch 4: Loss: 1.0301515761566162 Acc: 0.6415199637413025 Time: 31.753748893737793\n",
      "Val: Loss: 1.4013130275726318 Acc: 0.5325999855995178\n",
      "Epoch 5: Loss: 0.8747822283935547 Acc: 0.6926199793815613 Time: 31.593953609466553\n",
      "Val: Loss: 1.4235085079193115 Acc: 0.5458999872207642\n",
      "Epoch 6: Loss: 0.7457861648368835 Acc: 0.7405200004577637 Time: 31.66313934326172\n",
      "Val: Loss: 1.5089901329040527 Acc: 0.5582999587059021\n",
      "Epoch 7: Loss: 0.616306897277832 Acc: 0.786300003528595 Time: 31.620248556137085\n",
      "Val: Loss: 1.8951663967132568 Acc: 0.5429999828338623\n",
      "Epoch 8: Loss: 0.5495304078674317 Acc: 0.8087599873542786 Time: 31.732611417770386\n",
      "Val: Loss: 1.6033312845230103 Acc: 0.552899956703186\n",
      "Epoch 9: Loss: 0.430754715385437 Acc: 0.8507599830627441 Time: 31.36339807510376\n",
      "Val: Loss: 1.51247175617218 Acc: 0.5788999795913696\n",
      "Epoch 10: Loss: 0.41367123487472535 Acc: 0.8607800006866455 Time: 31.64896273612976\n",
      "Val: Loss: 1.6825490201950073 Acc: 0.5604000091552734\n",
      "Epoch 11: Loss: 0.3256969614982605 Acc: 0.8885399699211121 Time: 31.954272985458374\n",
      "Val: Loss: 1.5802781986236571 Acc: 0.5871999859809875\n",
      "Epoch 12: Loss: 0.27129460158348084 Acc: 0.9052199721336365 Time: 31.80848979949951\n",
      "Val: Loss: 1.7505572546005248 Acc: 0.5871999859809875\n",
      "Epoch 13: Loss: 0.21907311655044556 Acc: 0.9229799509048462 Time: 31.508633136749268\n",
      "Val: Loss: 1.7566280277252198 Acc: 0.5831999778747559\n",
      "Epoch 14: Loss: 0.19495801639556884 Acc: 0.9303199648857117 Time: 31.696935892105103\n",
      "Val: Loss: 1.8569424184799195 Acc: 0.5861999988555908\n",
      "Epoch 15: Loss: 0.19798502117156982 Acc: 0.9310599565505981 Time: 31.69862127304077\n",
      "Val: Loss: 1.784343299484253 Acc: 0.5848999619483948\n",
      "Epoch 16: Loss: 0.1688773489713669 Acc: 0.941819965839386 Time: 31.37034273147583\n",
      "Val: Loss: 1.8923284423828124 Acc: 0.5958999991416931\n",
      "Epoch 17: Loss: 0.13923995211601256 Acc: 0.9516399502754211 Time: 31.572847366333008\n",
      "Val: Loss: 1.9599115629196167 Acc: 0.6001999974250793\n",
      "Epoch 18: Loss: 0.12463246083259583 Acc: 0.9558599591255188 Time: 31.700817108154297\n",
      "Val: Loss: 1.9949075428009033 Acc: 0.5946999788284302\n",
      "Epoch 19: Loss: 0.11595495040893555 Acc: 0.9604399800300598 Time: 31.730635404586792\n",
      "Val: Loss: 2.082939058685303 Acc: 0.6018999814987183\n",
      "Epoch 20: Loss: 0.14445476296901702 Acc: 0.9541999697685242 Time: 31.595313549041748\n",
      "Val: Loss: 2.021720956993103 Acc: 0.5902999639511108\n",
      "Epoch 21: Loss: 0.15027942706108094 Acc: 0.9519599676132202 Time: 31.559542179107666\n",
      "Val: Loss: 1.9411643291473388 Acc: 0.6046000123023987\n",
      "Epoch 22: Loss: 0.0862584704208374 Acc: 0.9693599939346313 Time: 31.49515414237976\n",
      "Val: Loss: 2.049516930770874 Acc: 0.6090999841690063\n",
      "Epoch 23: Loss: 0.10483333539962769 Acc: 0.9654199481010437 Time: 31.67895269393921\n",
      "Val: Loss: 2.0002506317138673 Acc: 0.6060999631881714\n",
      "Epoch 24: Loss: 0.07530610622167587 Acc: 0.9744399785995483 Time: 31.284776210784912\n",
      "Val: Loss: 2.0558972564697267 Acc: 0.6129999756813049\n",
      "Epoch 25: Loss: 0.07884641835689545 Acc: 0.9737399816513062 Time: 31.271162271499634\n",
      "Val: Loss: 2.0969384761810304 Acc: 0.6151999831199646\n",
      "Epoch 26: Loss: 0.07201193813085556 Acc: 0.9750199913978577 Time: 31.476786136627197\n",
      "Val: Loss: 2.069608189201355 Acc: 0.6236000061035156\n",
      "Epoch 27: Loss: 0.08301278827667237 Acc: 0.972059965133667 Time: 31.61927342414856\n",
      "Val: Loss: 2.123940924835205 Acc: 0.6121000051498413\n",
      "Epoch 28: Loss: 0.08201336697101592 Acc: 0.9731199741363525 Time: 31.49208903312683\n",
      "Val: Loss: 2.1379259719848633 Acc: 0.6234999895095825\n",
      "Epoch 29: Loss: 0.06603573959827423 Acc: 0.9769399762153625 Time: 31.210108041763306\n",
      "Val: Loss: 2.095038143348694 Acc: 0.6240000128746033\n",
      "Epoch 30: Loss: 0.06477383273124694 Acc: 0.9775199890136719 Time: 31.1201388835907\n",
      "Val: Loss: 2.2758104568481445 Acc: 0.6053000092506409\n",
      "Epoch 31: Loss: 0.21764558691978456 Acc: 0.930679976940155 Time: 31.600993633270264\n",
      "Val: Loss: 1.9186595170974732 Acc: 0.588699996471405\n",
      "Epoch 32: Loss: 0.17526883675575256 Acc: 0.9403799772262573 Time: 31.41857886314392\n",
      "Val: Loss: 1.882150016593933 Acc: 0.6263999938964844\n",
      "Epoch 33: Loss: 0.07336717256307602 Acc: 0.9753999710083008 Time: 31.7838716506958\n",
      "Val: Loss: 2.092466102027893 Acc: 0.6078999638557434\n",
      "Epoch 34: Loss: 0.1837458920574188 Acc: 0.936959981918335 Time: 31.71483016014099\n",
      "Val: Loss: 1.6756801595687867 Acc: 0.6279999613761902\n",
      "Epoch 35: Loss: 0.06937823856115341 Acc: 0.975820004940033 Time: 31.427794694900513\n",
      "Val: Loss: 2.0083819334030153 Acc: 0.6365000009536743\n",
      "Epoch 36: Loss: 0.0393360117483139 Acc: 0.9863599538803101 Time: 31.13368558883667\n",
      "Val: Loss: 2.0971096752166747 Acc: 0.6389999985694885\n",
      "Epoch 37: Loss: 0.03857422898054123 Acc: 0.986799955368042 Time: 31.03852152824402\n",
      "Val: Loss: 2.171652530670166 Acc: 0.6416999697685242\n",
      "Epoch 38: Loss: 0.03644699555516243 Acc: 0.9874799847602844 Time: 30.8799467086792\n",
      "Val: Loss: 2.1125481159210207 Acc: 0.638700008392334\n",
      "Epoch 39: Loss: 0.033644227998256684 Acc: 0.9882199764251709 Time: 31.186808824539185\n",
      "Val: Loss: 2.240214612197876 Acc: 0.6324999928474426\n",
      "Epoch 40: Loss: 0.03403039799332619 Acc: 0.988099992275238 Time: 31.188910245895386\n",
      "Val: Loss: 2.2812905799865724 Acc: 0.63919997215271\n",
      "Epoch 41: Loss: 0.045261505249738695 Acc: 0.9843799471855164 Time: 30.923399925231934\n",
      "Val: Loss: 2.1948579627990723 Acc: 0.6424999833106995\n",
      "Epoch 42: Loss: 0.051905021440982815 Acc: 0.9815599918365479 Time: 31.088321924209595\n",
      "Val: Loss: 2.1066092168807984 Acc: 0.6394999623298645\n",
      "Epoch 43: Loss: 0.0440716575884819 Acc: 0.98499995470047 Time: 30.952540159225464\n",
      "Val: Loss: 2.137699702453613 Acc: 0.64410001039505\n",
      "Epoch 44: Loss: 0.038474631246328356 Acc: 0.9868800044059753 Time: 30.683879375457764\n",
      "Val: Loss: 2.239667343521118 Acc: 0.6413999795913696\n",
      "Epoch 45: Loss: 0.04376717454195023 Acc: 0.9851599931716919 Time: 30.80882501602173\n",
      "Val: Loss: 2.2486214790344237 Acc: 0.6359999775886536\n",
      "Epoch 46: Loss: 0.040615607367753985 Acc: 0.9860999584197998 Time: 30.764514923095703\n",
      "Val: Loss: 2.196849470901489 Acc: 0.6421999931335449\n",
      "Epoch 47: Loss: 0.0378637753534317 Acc: 0.9866600036621094 Time: 30.514074563980103\n",
      "Val: Loss: 2.2119440757751465 Acc: 0.6450999975204468\n",
      "Epoch 48: Loss: 0.04611555041790009 Acc: 0.984559953212738 Time: 30.40632176399231\n",
      "Val: Loss: 2.273701276397705 Acc: 0.6383000016212463\n",
      "Epoch 49: Loss: 0.04733768668413162 Acc: 0.9835799932479858 Time: 30.686492681503296\n",
      "Val: Loss: 2.086309745025635 Acc: 0.642300009727478\n",
      "Epoch 50: Loss: 0.040360118511915205 Acc: 0.9851399660110474 Time: 30.446086883544922\n",
      "Val: Loss: 2.091151795196533 Acc: 0.6485999822616577\n",
      "Epoch 51: Loss: 0.014658727617710829 Acc: 0.9955399632453918 Time: 30.329743146896362\n",
      "Val: Loss: 1.9960501554489136 Acc: 0.6638999581336975\n",
      "Epoch 52: Loss: 0.0023095302252098917 Acc: 0.9998399615287781 Time: 30.73000168800354\n",
      "Val: Loss: 2.0222595615386965 Acc: 0.6661999821662903\n",
      "Epoch 53: Loss: 0.0013626459693908692 Acc: 0.9999599456787109 Time: 30.474647760391235\n",
      "Val: Loss: 2.023489442443848 Acc: 0.6663999557495117\n",
      "Epoch 54: Loss: 0.0011070432998612524 Acc: 1.0 Time: 30.80037546157837\n",
      "Val: Loss: 2.0317614711761474 Acc: 0.6663999557495117\n",
      "Epoch 55: Loss: 0.0008574740215949715 Acc: 0.9999799728393555 Time: 30.75235939025879\n",
      "Val: Loss: 2.0470045696258543 Acc: 0.6674000024795532\n",
      "Epoch 56: Loss: 0.0007334165956266224 Acc: 1.0 Time: 30.93885111808777\n",
      "Val: Loss: 2.0602622524261474 Acc: 0.6668999791145325\n",
      "Epoch 57: Loss: 0.0007037794587574899 Acc: 1.0 Time: 30.916902542114258\n",
      "Val: Loss: 2.0733728050231934 Acc: 0.667199969291687\n",
      "Epoch 58: Loss: 0.0005530185606237501 Acc: 1.0 Time: 30.61519432067871\n",
      "Val: Loss: 2.0834163066864013 Acc: 0.66839998960495\n",
      "Epoch 59: Loss: 0.000543496914030984 Acc: 0.9999799728393555 Time: 30.80942130088806\n",
      "Val: Loss: 2.084369100189209 Acc: 0.6676999926567078\n",
      "Epoch 60: Loss: 0.0004812326334044337 Acc: 1.0 Time: 31.089698553085327\n",
      "Val: Loss: 2.1097414371490477 Acc: 0.6675999760627747\n",
      "Epoch 61: Loss: 0.00041610849402844906 Acc: 1.0 Time: 30.896204233169556\n",
      "Val: Loss: 2.117994430541992 Acc: 0.66839998960495\n",
      "Epoch 62: Loss: 0.0004082421588152647 Acc: 0.9999799728393555 Time: 31.164385557174683\n",
      "Val: Loss: 2.1248315631866457 Acc: 0.6685000061988831\n",
      "Epoch 63: Loss: 0.0003677315997518599 Acc: 1.0 Time: 30.65464949607849\n",
      "Val: Loss: 2.1426299587249757 Acc: 0.667199969291687\n",
      "Epoch 64: Loss: 0.0003387384130153805 Acc: 1.0 Time: 30.91560459136963\n",
      "Val: Loss: 2.134108087158203 Acc: 0.6688999533653259\n",
      "Epoch 65: Loss: 0.0003115659235883504 Acc: 1.0 Time: 30.786404132843018\n",
      "Val: Loss: 2.149285541534424 Acc: 0.6696000099182129\n",
      "Epoch 66: Loss: 0.00028627408028580246 Acc: 1.0 Time: 30.86100172996521\n",
      "Val: Loss: 2.1592908763885497 Acc: 0.6686999797821045\n",
      "Epoch 67: Loss: 0.0002674481104686856 Acc: 1.0 Time: 31.044158458709717\n",
      "Val: Loss: 2.165960070037842 Acc: 0.6676999926567078\n",
      "Epoch 68: Loss: 0.00025517813686281443 Acc: 1.0 Time: 30.598259687423706\n",
      "Val: Loss: 2.1699978694915774 Acc: 0.6686999797821045\n",
      "Epoch 69: Loss: 0.00023927978527732194 Acc: 1.0 Time: 31.067513942718506\n",
      "Val: Loss: 2.18424243850708 Acc: 0.6676999926567078\n",
      "Epoch 70: Loss: 0.0002398396489582956 Acc: 1.0 Time: 30.852559566497803\n",
      "Val: Loss: 2.18021021194458 Acc: 0.6685000061988831\n",
      "Epoch 71: Loss: 0.00022251395226456224 Acc: 1.0 Time: 30.8113055229187\n",
      "Val: Loss: 2.191750747680664 Acc: 0.6690999865531921\n",
      "Epoch 72: Loss: 0.00019659786214586348 Acc: 1.0 Time: 30.73002028465271\n",
      "Val: Loss: 2.1861380424499512 Acc: 0.6686999797821045\n",
      "Epoch 73: Loss: 0.00020294850347563623 Acc: 1.0 Time: 30.639747142791748\n",
      "Val: Loss: 2.20341844329834 Acc: 0.6686999797821045\n",
      "Epoch 74: Loss: 0.0001862728691007942 Acc: 1.0 Time: 30.868040800094604\n",
      "Val: Loss: 2.199121124649048 Acc: 0.6699000000953674\n",
      "Epoch 75: Loss: 0.00018564694392494857 Acc: 1.0 Time: 30.992561101913452\n",
      "Val: Loss: 2.2149840682983397 Acc: 0.6693999767303467\n",
      "Epoch 76: Loss: 0.0001604738045297563 Acc: 1.0 Time: 31.368634939193726\n",
      "Val: Loss: 2.2270000213623047 Acc: 0.6687999963760376\n",
      "Epoch 77: Loss: 0.00015616039271932095 Acc: 1.0 Time: 31.01658868789673\n",
      "Val: Loss: 2.2346844650268554 Acc: 0.6679999828338623\n",
      "Epoch 78: Loss: 0.0001493056488689035 Acc: 1.0 Time: 31.02460289001465\n",
      "Val: Loss: 2.2322677116394045 Acc: 0.6693999767303467\n",
      "Epoch 79: Loss: 0.00014776184076443314 Acc: 1.0 Time: 31.028019189834595\n",
      "Val: Loss: 2.2415061664581297 Acc: 0.670199990272522\n",
      "Epoch 80: Loss: 0.00014046919816639275 Acc: 1.0 Time: 31.047191858291626\n",
      "Val: Loss: 2.2572798252105715 Acc: 0.6685000061988831\n",
      "Epoch 81: Loss: 0.0001285127449594438 Acc: 1.0 Time: 30.814577102661133\n",
      "Val: Loss: 2.2600906909942626 Acc: 0.668999969959259\n",
      "Epoch 82: Loss: 0.00012272191050695256 Acc: 1.0 Time: 30.620177268981934\n",
      "Val: Loss: 2.2534969635009765 Acc: 0.6692999601364136\n",
      "Epoch 83: Loss: 0.00011938647269271314 Acc: 1.0 Time: 30.84123659133911\n",
      "Val: Loss: 2.2539365898132324 Acc: 0.6697999835014343\n",
      "Epoch 84: Loss: 0.00011472539889626205 Acc: 1.0 Time: 30.7092924118042\n",
      "Val: Loss: 2.2626792697906493 Acc: 0.6696999669075012\n",
      "Epoch 85: Loss: 0.00011545561781153083 Acc: 1.0 Time: 30.763879776000977\n",
      "Val: Loss: 2.271228312301636 Acc: 0.6681999564170837\n",
      "Epoch 86: Loss: 0.00012911428451538087 Acc: 0.9999799728393555 Time: 30.896697282791138\n",
      "Val: Loss: 2.279387418746948 Acc: 0.6686999797821045\n",
      "Epoch 87: Loss: 0.00010841947543434798 Acc: 1.0 Time: 30.914942502975464\n",
      "Val: Loss: 2.3046239097595214 Acc: 0.6685000061988831\n",
      "Epoch 88: Loss: 9.788784028962254e-05 Acc: 1.0 Time: 30.874699592590332\n",
      "Val: Loss: 2.28975212097168 Acc: 0.6692000031471252\n",
      "Epoch 89: Loss: 9.869700426235794e-05 Acc: 1.0 Time: 30.789795398712158\n",
      "Val: Loss: 2.2908822067260743 Acc: 0.6686999797821045\n",
      "Epoch 90: Loss: 8.765580172650516e-05 Acc: 1.0 Time: 30.684577226638794\n",
      "Val: Loss: 2.301386967086792 Acc: 0.6685999631881714\n",
      "Epoch 91: Loss: 8.560180659405887e-05 Acc: 1.0 Time: 30.53170132637024\n",
      "Val: Loss: 2.303076211929321 Acc: 0.6687999963760376\n",
      "Epoch 92: Loss: 8.452951432205737e-05 Acc: 1.0 Time: 31.049418926239014\n",
      "Val: Loss: 2.308372827911377 Acc: 0.6700999736785889\n",
      "Epoch 93: Loss: 8.534965511644259e-05 Acc: 1.0 Time: 30.764014959335327\n",
      "Val: Loss: 2.306441310119629 Acc: 0.6688999533653259\n",
      "Epoch 94: Loss: 7.873344431165606e-05 Acc: 1.0 Time: 31.03611969947815\n",
      "Val: Loss: 2.3155107246398927 Acc: 0.6690999865531921\n",
      "Epoch 95: Loss: 7.786657335120254e-05 Acc: 1.0 Time: 30.81527543067932\n",
      "Val: Loss: 2.3252893783569335 Acc: 0.6686999797821045\n",
      "Epoch 96: Loss: 7.012375828577206e-05 Acc: 1.0 Time: 30.75804615020752\n",
      "Val: Loss: 2.3328246227264406 Acc: 0.6692999601364136\n",
      "Epoch 97: Loss: 7.007210732670501e-05 Acc: 1.0 Time: 31.112281560897827\n",
      "Val: Loss: 2.335902523422241 Acc: 0.6692999601364136\n",
      "Epoch 98: Loss: 6.23539829137735e-05 Acc: 1.0 Time: 30.725985288619995\n",
      "Val: Loss: 2.34084460067749 Acc: 0.6685999631881714\n",
      "Epoch 99: Loss: 6.465912816114724e-05 Acc: 1.0 Time: 30.790011882781982\n",
      "Val: Loss: 2.3321082118988037 Acc: 0.6703999638557434\n",
      "Epoch 100: Loss: 6.202281948877499e-05 Acc: 1.0 Time: 30.555999755859375\n",
      "Val: Loss: 2.366120969772339 Acc: 0.6699999570846558\n",
      "Epoch 101: Loss: 6.128788947826251e-05 Acc: 1.0 Time: 30.73388147354126\n",
      "Val: Loss: 2.3559507038116454 Acc: 0.6703000068664551\n",
      "Epoch 102: Loss: 5.842212672578171e-05 Acc: 1.0 Time: 30.64573335647583\n",
      "Val: Loss: 2.355560357284546 Acc: 0.6699999570846558\n",
      "Epoch 103: Loss: 5.7074308382580054e-05 Acc: 1.0 Time: 31.272172212600708\n",
      "Val: Loss: 2.3665896728515623 Acc: 0.6699000000953674\n",
      "Epoch 104: Loss: 6.04429912334308e-05 Acc: 1.0 Time: 30.678465366363525\n",
      "Val: Loss: 2.3536060054779053 Acc: 0.6699000000953674\n",
      "Epoch 105: Loss: 5.97100449190475e-05 Acc: 1.0 Time: 30.88130760192871\n",
      "Val: Loss: 2.349237349319458 Acc: 0.6692000031471252\n",
      "Epoch 106: Loss: 5.9608230602461845e-05 Acc: 1.0 Time: 30.70954394340515\n",
      "Val: Loss: 2.3522621139526367 Acc: 0.6696999669075012\n",
      "Epoch 107: Loss: 5.8477630629204214e-05 Acc: 1.0 Time: 31.058852434158325\n",
      "Val: Loss: 2.364952922821045 Acc: 0.6699999570846558\n",
      "Epoch 108: Loss: 5.677553180838004e-05 Acc: 1.0 Time: 31.164018869400024\n",
      "Val: Loss: 2.3520853485107422 Acc: 0.6697999835014343\n",
      "Epoch 109: Loss: 6.047095296671614e-05 Acc: 1.0 Time: 31.34091091156006\n",
      "Val: Loss: 2.351549962615967 Acc: 0.6697999835014343\n",
      "Epoch 110: Loss: 5.5088100410066545e-05 Acc: 1.0 Time: 31.7715802192688\n",
      "Val: Loss: 2.3610951469421386 Acc: 0.6696000099182129\n",
      "Epoch 111: Loss: 5.6058006271487105e-05 Acc: 1.0 Time: 31.600371837615967\n",
      "Val: Loss: 2.3450205810546874 Acc: 0.6697999835014343\n",
      "Epoch 112: Loss: 5.5575132388621566e-05 Acc: 1.0 Time: 31.845956325531006\n",
      "Val: Loss: 2.3695160736083984 Acc: 0.6693999767303467\n",
      "Epoch 113: Loss: 5.631477358518168e-05 Acc: 1.0 Time: 31.541656255722046\n",
      "Val: Loss: 2.353146977233887 Acc: 0.6693999767303467\n",
      "Epoch 114: Loss: 5.57905864994973e-05 Acc: 1.0 Time: 31.613051652908325\n",
      "Val: Loss: 2.356797359085083 Acc: 0.6697999835014343\n",
      "Epoch 115: Loss: 5.5006237019551916e-05 Acc: 1.0 Time: 31.47066903114319\n",
      "Val: Loss: 2.347116347503662 Acc: 0.670199990272522\n",
      "Epoch 116: Loss: 5.2395009982865306e-05 Acc: 1.0 Time: 31.825784921646118\n",
      "Val: Loss: 2.3629719856262206 Acc: 0.6688999533653259\n",
      "Epoch 117: Loss: 5.3826055546524e-05 Acc: 1.0 Time: 31.82481336593628\n",
      "Val: Loss: 2.362519924163818 Acc: 0.6692000031471252\n",
      "Epoch 118: Loss: 5.384397502290085e-05 Acc: 1.0 Time: 31.832929611206055\n",
      "Val: Loss: 2.361366104888916 Acc: 0.6693999767303467\n",
      "Epoch 119: Loss: 5.525445944163948e-05 Acc: 1.0 Time: 31.842571258544922\n",
      "Val: Loss: 2.353524729156494 Acc: 0.6697999835014343\n",
      "Epoch 120: Loss: 5.626431466313079e-05 Acc: 1.0 Time: 32.446552991867065\n",
      "Val: Loss: 2.359149640274048 Acc: 0.670799970626831\n",
      "Epoch 121: Loss: 5.3637266154401004e-05 Acc: 1.0 Time: 31.989787578582764\n",
      "Val: Loss: 2.3651305850982665 Acc: 0.6686999797821045\n",
      "Epoch 122: Loss: 5.322651862166822e-05 Acc: 1.0 Time: 32.080923080444336\n",
      "Val: Loss: 2.3563811489105224 Acc: 0.6696000099182129\n",
      "Epoch 123: Loss: 5.3149642954813314e-05 Acc: 1.0 Time: 32.29999399185181\n",
      "Val: Loss: 2.3600487884521484 Acc: 0.6685999631881714\n",
      "Epoch 124: Loss: 4.9321861267089844e-05 Acc: 1.0 Time: 32.20863914489746\n",
      "Val: Loss: 2.3671992080688478 Acc: 0.6703000068664551\n",
      "Epoch 125: Loss: 5.1445989588974045e-05 Acc: 1.0 Time: 32.15099501609802\n",
      "Val: Loss: 2.36941614074707 Acc: 0.6696999669075012\n",
      "Epoch 126: Loss: 5.093579296721146e-05 Acc: 1.0 Time: 32.20035195350647\n",
      "Val: Loss: 2.3653030769348145 Acc: 0.6697999835014343\n",
      "Epoch 127: Loss: 4.984239579178393e-05 Acc: 1.0 Time: 32.4556610584259\n",
      "Val: Loss: 2.367271744918823 Acc: 0.6688999533653259\n",
      "Epoch 128: Loss: 5.2583808891940864e-05 Acc: 1.0 Time: 32.33833289146423\n",
      "Val: Loss: 2.366299715423584 Acc: 0.6696999669075012\n",
      "Epoch 129: Loss: 5.179520606528968e-05 Acc: 1.0 Time: 32.15719962120056\n",
      "Val: Loss: 2.354384245300293 Acc: 0.6688999533653259\n",
      "Epoch 130: Loss: 4.998660088283941e-05 Acc: 1.0 Time: 32.46117067337036\n",
      "Val: Loss: 2.3677721603393556 Acc: 0.6694999933242798\n",
      "Epoch 131: Loss: 4.995635034283623e-05 Acc: 1.0 Time: 32.66290473937988\n",
      "Val: Loss: 2.376069800567627 Acc: 0.668999969959259\n",
      "Epoch 132: Loss: 5.3617591906804595e-05 Acc: 1.0 Time: 32.6743688583374\n",
      "Val: Loss: 2.375533561706543 Acc: 0.6694999933242798\n",
      "Epoch 133: Loss: 5.011124609736726e-05 Acc: 1.0 Time: 32.4954936504364\n",
      "Val: Loss: 2.3784314571380616 Acc: 0.6686999797821045\n",
      "Epoch 134: Loss: 4.864923480432481e-05 Acc: 1.0 Time: 32.78978252410889\n",
      "Val: Loss: 2.3835842079162597 Acc: 0.6699999570846558\n",
      "Epoch 135: Loss: 5.066478727967478e-05 Acc: 1.0 Time: 32.73474907875061\n",
      "Val: Loss: 2.381000164413452 Acc: 0.6694999933242798\n",
      "Epoch 136: Loss: 4.943254473619163e-05 Acc: 1.0 Time: 32.5825617313385\n",
      "Val: Loss: 2.3774416927337647 Acc: 0.6688999533653259\n",
      "Epoch 137: Loss: 5.018992422265001e-05 Acc: 1.0 Time: 32.697259187698364\n",
      "Val: Loss: 2.3799399868011473 Acc: 0.6699999570846558\n",
      "Epoch 138: Loss: 4.737854007165879e-05 Acc: 1.0 Time: 32.28911900520325\n",
      "Val: Loss: 2.371032259750366 Acc: 0.6700999736785889\n",
      "Epoch 139: Loss: 4.6316700000315906e-05 Acc: 1.0 Time: 32.71376967430115\n",
      "Val: Loss: 2.383606619644165 Acc: 0.6697999835014343\n",
      "Epoch 140: Loss: 4.727015489945188e-05 Acc: 1.0 Time: 32.85942721366882\n",
      "Val: Loss: 2.3769188552856444 Acc: 0.668999969959259\n",
      "Epoch 141: Loss: 4.635939597967081e-05 Acc: 1.0 Time: 32.74790644645691\n",
      "Val: Loss: 2.3758070625305177 Acc: 0.6693999767303467\n",
      "Epoch 142: Loss: 4.627807614975609e-05 Acc: 1.0 Time: 32.83256483078003\n",
      "Val: Loss: 2.3786669010162353 Acc: 0.6692000031471252\n",
      "Epoch 143: Loss: 4.735343935666606e-05 Acc: 1.0 Time: 32.180922746658325\n",
      "Val: Loss: 2.384586026763916 Acc: 0.6693999767303467\n",
      "Epoch 144: Loss: 4.9516944914357735e-05 Acc: 1.0 Time: 32.25670838356018\n",
      "Val: Loss: 2.386648894882202 Acc: 0.6700999736785889\n",
      "Epoch 145: Loss: 4.6277160645695406e-05 Acc: 1.0 Time: 32.79422068595886\n",
      "Val: Loss: 2.3941052921295167 Acc: 0.6696000099182129\n",
      "Epoch 146: Loss: 4.38828277727589e-05 Acc: 1.0 Time: 32.44181418418884\n",
      "Val: Loss: 2.3889018268585205 Acc: 0.6703999638557434\n",
      "Epoch 147: Loss: 4.3624038726557044e-05 Acc: 1.0 Time: 32.239760637283325\n",
      "Val: Loss: 2.3900286487579345 Acc: 0.6696000099182129\n",
      "Epoch 148: Loss: 4.764079093351029e-05 Acc: 1.0 Time: 32.17015361785889\n",
      "Val: Loss: 2.38350178604126 Acc: 0.6699000000953674\n",
      "Epoch 149: Loss: 4.5813207640312615e-05 Acc: 1.0 Time: 32.09636902809143\n",
      "Val: Loss: 2.388989167022705 Acc: 0.6690999865531921\n",
      "Epoch 150: Loss: 4.626778603997081e-05 Acc: 1.0 Time: 32.04374694824219\n",
      "Val: Loss: 2.3833583297729493 Acc: 0.6712999939918518\n",
      "Epoch 151: Loss: 4.414752959390171e-05 Acc: 1.0 Time: 31.939573526382446\n",
      "Val: Loss: 2.4056443405151366 Acc: 0.6700999736785889\n",
      "Epoch 152: Loss: 4.450354577624239e-05 Acc: 1.0 Time: 31.792240381240845\n",
      "Val: Loss: 2.3885291286468506 Acc: 0.6692999601364136\n",
      "Epoch 153: Loss: 4.248524668859318e-05 Acc: 1.0 Time: 31.643447875976562\n",
      "Val: Loss: 2.398862069320679 Acc: 0.6688999533653259\n",
      "Epoch 154: Loss: 5.056342124356888e-05 Acc: 1.0 Time: 32.05745553970337\n",
      "Val: Loss: 2.3944942253112793 Acc: 0.6699000000953674\n",
      "Epoch 155: Loss: 4.129081726190634e-05 Acc: 1.0 Time: 31.828550577163696\n",
      "Val: Loss: 2.3922900077819826 Acc: 0.6696999669075012\n",
      "Epoch 156: Loss: 4.539084435557015e-05 Acc: 1.0 Time: 31.987932920455933\n",
      "Val: Loss: 2.3904447368621824 Acc: 0.6699000000953674\n",
      "Epoch 157: Loss: 4.540399549063295e-05 Acc: 1.0 Time: 31.67470955848694\n",
      "Val: Loss: 2.3857079013824465 Acc: 0.6693999767303467\n",
      "Epoch 158: Loss: 4.19846439443063e-05 Acc: 1.0 Time: 31.679660081863403\n",
      "Val: Loss: 2.391601274108887 Acc: 0.6692000031471252\n",
      "Epoch 159: Loss: 4.6065721542108804e-05 Acc: 1.0 Time: 31.57075810432434\n",
      "Val: Loss: 2.414759772872925 Acc: 0.6705999970436096\n",
      "Epoch 160: Loss: 4.218363759457134e-05 Acc: 1.0 Time: 31.65380573272705\n",
      "Val: Loss: 2.388079818725586 Acc: 0.6705999970436096\n",
      "Epoch 161: Loss: 4.3221464129164814e-05 Acc: 1.0 Time: 31.29026460647583\n",
      "Val: Loss: 2.393410527801514 Acc: 0.6704999804496765\n",
      "Epoch 162: Loss: 4.333398814778775e-05 Acc: 1.0 Time: 31.612425327301025\n",
      "Val: Loss: 2.405827145385742 Acc: 0.6687999963760376\n",
      "Epoch 163: Loss: 4.541889188461937e-05 Acc: 1.0 Time: 31.63102698326111\n",
      "Val: Loss: 2.396003592681885 Acc: 0.6696999669075012\n",
      "Epoch 164: Loss: 4.3115549074718726e-05 Acc: 1.0 Time: 31.18337845802307\n",
      "Val: Loss: 2.4031721370697023 Acc: 0.6704999804496765\n",
      "Epoch 165: Loss: 4.31103801925201e-05 Acc: 1.0 Time: 31.022587776184082\n",
      "Val: Loss: 2.401577536392212 Acc: 0.6711999773979187\n",
      "Epoch 166: Loss: 4.10331344907172e-05 Acc: 1.0 Time: 30.961034774780273\n",
      "Val: Loss: 2.401002688598633 Acc: 0.6693999767303467\n",
      "Epoch 167: Loss: 4.47782707051374e-05 Acc: 1.0 Time: 31.067787647247314\n",
      "Val: Loss: 2.3903258117675783 Acc: 0.6694999933242798\n",
      "Epoch 168: Loss: 4.420421597897075e-05 Acc: 1.0 Time: 31.003174781799316\n",
      "Val: Loss: 2.3932478546142577 Acc: 0.6712999939918518\n",
      "Epoch 169: Loss: 4.322890280745924e-05 Acc: 1.0 Time: 31.28345251083374\n",
      "Val: Loss: 2.3922294662475587 Acc: 0.6699000000953674\n",
      "Epoch 170: Loss: 4.1672096254769715e-05 Acc: 1.0 Time: 30.963327407836914\n",
      "Val: Loss: 2.3973807941436767 Acc: 0.6699999570846558\n",
      "Epoch 171: Loss: 4.339254379505291e-05 Acc: 1.0 Time: 31.260812759399414\n",
      "Val: Loss: 2.396098553085327 Acc: 0.6694999933242798\n",
      "Epoch 172: Loss: 4.158231732901186e-05 Acc: 1.0 Time: 30.86989712715149\n",
      "Val: Loss: 2.398611117553711 Acc: 0.6694999933242798\n",
      "Epoch 173: Loss: 4.277515409863554e-05 Acc: 1.0 Time: 31.270140409469604\n",
      "Val: Loss: 2.392462720489502 Acc: 0.6692000031471252\n",
      "Epoch 174: Loss: 4.161405564984307e-05 Acc: 1.0 Time: 30.77721619606018\n",
      "Val: Loss: 2.401056548690796 Acc: 0.6696999669075012\n",
      "Epoch 175: Loss: 4.170280456892215e-05 Acc: 1.0 Time: 31.25891637802124\n",
      "Val: Loss: 2.3985008102416994 Acc: 0.6694999933242798\n",
      "Epoch 176: Loss: 4.117858888581395e-05 Acc: 1.0 Time: 31.14041519165039\n",
      "Val: Loss: 2.3900983238220217 Acc: 0.6690999865531921\n",
      "Epoch 177: Loss: 4.320437430404127e-05 Acc: 1.0 Time: 30.97194194793701\n",
      "Val: Loss: 2.4019402408599855 Acc: 0.670199990272522\n",
      "Epoch 178: Loss: 4.177835464128293e-05 Acc: 1.0 Time: 30.7610285282135\n",
      "Val: Loss: 2.403096891403198 Acc: 0.6690999865531921\n",
      "Epoch 179: Loss: 4.216547014540993e-05 Acc: 1.0 Time: 30.619739294052124\n",
      "Val: Loss: 2.3950925910949707 Acc: 0.6700999736785889\n",
      "Epoch 180: Loss: 3.9775409671710805e-05 Acc: 1.0 Time: 31.308368682861328\n",
      "Val: Loss: 2.4024853366851806 Acc: 0.6704999804496765\n",
      "Epoch 181: Loss: 3.95437431440223e-05 Acc: 1.0 Time: 31.659741163253784\n",
      "Val: Loss: 2.3995777645111085 Acc: 0.6700999736785889\n",
      "Epoch 182: Loss: 3.890957830357365e-05 Acc: 1.0 Time: 31.465153694152832\n",
      "Val: Loss: 2.3941775314331055 Acc: 0.6700999736785889\n",
      "Epoch 183: Loss: 4.2479896529112014e-05 Acc: 1.0 Time: 30.883219718933105\n",
      "Val: Loss: 2.4005468311309817 Acc: 0.6694999933242798\n",
      "Epoch 184: Loss: 4.212392806541175e-05 Acc: 1.0 Time: 30.953696489334106\n",
      "Val: Loss: 2.4002231369018556 Acc: 0.6696000099182129\n",
      "Epoch 185: Loss: 4.323771471390501e-05 Acc: 1.0 Time: 31.076988458633423\n",
      "Val: Loss: 2.404112756729126 Acc: 0.6692999601364136\n",
      "Epoch 186: Loss: 4.0781402536667886e-05 Acc: 1.0 Time: 31.21393084526062\n",
      "Val: Loss: 2.405705387496948 Acc: 0.6696000099182129\n",
      "Epoch 187: Loss: 4.0486774442251774e-05 Acc: 1.0 Time: 30.6884925365448\n",
      "Val: Loss: 2.404078401184082 Acc: 0.6693999767303467\n",
      "Epoch 188: Loss: 3.817213058238849e-05 Acc: 1.0 Time: 30.72092342376709\n",
      "Val: Loss: 2.3924908908843996 Acc: 0.6703999638557434\n",
      "Epoch 189: Loss: 4.011071203800384e-05 Acc: 1.0 Time: 30.659115076065063\n",
      "Val: Loss: 2.414461177825928 Acc: 0.6699000000953674\n",
      "Epoch 190: Loss: 3.9728298177942633e-05 Acc: 1.0 Time: 30.604818105697632\n",
      "Val: Loss: 2.4102321311950683 Acc: 0.6704999804496765\n",
      "Epoch 191: Loss: 4.269942284445278e-05 Acc: 1.0 Time: 30.60080575942993\n",
      "Val: Loss: 2.4154452739715575 Acc: 0.6696000099182129\n",
      "Epoch 192: Loss: 4.0084981929976495e-05 Acc: 1.0 Time: 30.541874647140503\n",
      "Val: Loss: 2.407861980056763 Acc: 0.6699999570846558\n",
      "Epoch 193: Loss: 4.006648064474575e-05 Acc: 1.0 Time: 30.20849847793579\n",
      "Val: Loss: 2.407995236206055 Acc: 0.6692999601364136\n",
      "Epoch 194: Loss: 4.577434538980015e-05 Acc: 1.0 Time: 30.92652153968811\n",
      "Val: Loss: 2.4012098594665527 Acc: 0.6693999767303467\n",
      "Epoch 195: Loss: 3.828903196961619e-05 Acc: 1.0 Time: 30.67231822013855\n",
      "Val: Loss: 2.410829069137573 Acc: 0.6692999601364136\n",
      "Epoch 196: Loss: 3.980235100374557e-05 Acc: 1.0 Time: 30.37934708595276\n",
      "Val: Loss: 2.406151274871826 Acc: 0.6703000068664551\n",
      "Epoch 197: Loss: 4.0795536019140855e-05 Acc: 1.0 Time: 30.537684440612793\n",
      "Val: Loss: 2.3948616577148436 Acc: 0.670199990272522\n",
      "Epoch 198: Loss: 4.09521866007708e-05 Acc: 1.0 Time: 30.59649157524109\n",
      "Val: Loss: 2.404861907577515 Acc: 0.6694999933242798\n",
      "Epoch 199: Loss: 3.996859551873058e-05 Acc: 1.0 Time: 30.714086771011353\n",
      "Val: Loss: 2.3986076183319094 Acc: 0.6703999638557434\n",
      "Epoch 200: Loss: 4.066407201229595e-05 Acc: 1.0 Time: 30.713365077972412\n",
      "Val: Loss: 2.394812678146362 Acc: 0.6703999638557434\n"
     ]
    }
   ],
   "source": [
    "import time\n",
    "print(\"START\")\n",
    "for epoch in range(num_epoch):\n",
    "    since = time.time()\n",
    "    net.train()\n",
    "    epoch_loss = 0.\n",
    "    epoch_correct = 0.\n",
    "    epoch_imgs = 0\n",
    "    for batch in train_dl:\n",
    "        #print(i+1)\n",
    "        imgs,labels = batch\n",
    "        imgs = imgs.to(device)\n",
    "        labels = labels.to(device)\n",
    "        epoch_imgs += len(labels)\n",
    "\n",
    "        optimizer.zero_grad()\n",
    "        output = net(imgs)\n",
    "        loss = criterion(output, labels)        \n",
    "        loss.backward()\n",
    "        optimizer.step()\n",
    "        \n",
    "        epoch_loss += loss.item()*imgs.size(0)\n",
    "        epoch_correct += sum(output.argmax(1)==labels)\n",
    "\n",
    "    t_l = epoch_loss/epoch_imgs\n",
    "    t_a = float(epoch_correct/epoch_imgs)\n",
    "    hist['train_loss'].append(t_l)\n",
    "    hist['train_acc'].append(t_a)\n",
    "    print(\"Epoch {}: Loss: {} Acc: {} Time: {}\".format(epoch+1,t_l,t_a, time.time()-since)) \n",
    "\n",
    "    net.eval()\n",
    "    val_loss = 0.\n",
    "    val_correct = 0.\n",
    "    val_imgs = 0\n",
    "    with torch.no_grad():\n",
    "      for batch in test_dl:\n",
    "          imgs,labels = batch\n",
    "          imgs = imgs.to(device)\n",
    "          labels = labels.to(device)\n",
    "          val_imgs += len(labels)\n",
    "          output = net(imgs)\n",
    "          loss = criterion(output, labels)        \n",
    "          \n",
    "          val_loss += loss.item()*imgs.size(0)\n",
    "          val_correct += sum(output.argmax(1)==labels) \n",
    "\n",
    "    l = val_loss/val_imgs\n",
    "    a = float(val_correct/val_imgs)\n",
    "    hist['test_loss'].append(l)\n",
    "    hist['test_acc'].append(a)\n",
    "    print(\"Val: Loss: {} Acc: {}\".format(l,a)) \n",
    "\n",
    "    scheduler.step()"
   ]
  },
  {
   "cell_type": "code",
   "execution_count": 0,
   "metadata": {
    "colab": {},
    "colab_type": "code",
    "id": "0wFFLMK5dX98"
   },
   "outputs": [],
   "source": [
    "adam_res = net\n",
    "adam_hist = hist"
   ]
  },
  {
   "cell_type": "markdown",
   "metadata": {
    "colab_type": "text",
    "id": "JxVh7cV2iiqg"
   },
   "source": [
    "## ResNet-50 (w/o pre-trained)"
   ]
  },
  {
   "cell_type": "code",
   "execution_count": 0,
   "metadata": {
    "colab": {},
    "colab_type": "code",
    "id": "zjH9O0tmBmP6"
   },
   "outputs": [],
   "source": [
    "with open('./adam_hist.txt','w') as fw:\n",
    "  fw.write(str(adam_hist))"
   ]
  },
  {
   "cell_type": "code",
   "execution_count": 52,
   "metadata": {
    "colab": {
     "base_uri": "https://localhost:8080/",
     "height": 545
    },
    "colab_type": "code",
    "id": "YG3HvWHkiFlp",
    "outputId": "b5a4a1f0-6f2c-419a-ea5c-6f5b0be160e4"
   },
   "outputs": [
    {
     "data": {
      "image/png": "[encoded data removed]",
      "text/plain": [
       "<Figure size 432x288 with 1 Axes>"
      ]
     },
     "metadata": {
      "tags": []
     },
     "output_type": "display_data"
    },
    {
     "data": {
      "image/png": "[encoded data removed]",
      "text/plain": [
       "<Figure size 432x288 with 1 Axes>"
      ]
     },
     "metadata": {
      "tags": []
     },
     "output_type": "display_data"
    }
   ],
   "source": [
    "import matplotlib.pyplot as plt\n",
    "%matplotlib inline\n",
    "\n",
    "epochs =range(1,epoch_num+1)\n",
    "\n",
    "plt.title('Loss')\n",
    "plt.plot(epochs, radam_hist['train_loss'],'ro',label='radam_train')\n",
    "plt.plot(epochs, radam_hist['test_loss'],'r',label='radam_test')\n",
    "plt.plot(epochs, adam_hist['train_loss'],'go',label='adam_train')\n",
    "plt.plot(epochs, adam_hist['test_loss'],'g',label='adam_test')\n",
    "# plt.ylim((0.0,0.1))\n",
    "plt.legend()\n",
    "plt.show()\n",
    "\n",
    "plt.figure()\n",
    "plt.title('Acc')\n",
    "plt.plot(epochs, radam_hist['train_acc'],'ro',label='radam_train')\n",
    "plt.plot(epochs, radam_hist['test_acc'],'r',label='radam_test')\n",
    "plt.plot(epochs, adam_hist['train_acc'],'go',label='adam_train')\n",
    "plt.plot(epochs, adam_hist['test_acc'],'g',label='adam_test')\n",
    "# plt.ylim((0.96,1.0))\n",
    "plt.legend()\n",
    "plt.show()"
   ]
  },
  {
   "cell_type": "markdown",
   "metadata": {
    "colab_type": "text",
    "id": "S0Qc59txiMl1"
   },
   "source": [
    "## Efficientnet (w/ pre-trained)"
   ]
  },
  {
   "cell_type": "code",
   "execution_count": 0,
   "metadata": {
    "colab": {
     "base_uri": "https://localhost:8080/",
     "height": 562
    },
    "colab_type": "code",
    "id": "YhhlNCN3Ov0f",
    "outputId": "16372e5e-6766-45c3-feb9-e8eb5a8becd6"
   },
   "outputs": [
    {
     "data": {
      "text/plain": [
       "<matplotlib.legend.Legend at 0x7f13dd313da0>"
      ]
     },
     "execution_count": 51,
     "metadata": {
      "tags": []
     },
     "output_type": "execute_result"
    },
    {
     "data": {
      "image/png": "[encoded data removed]",
      "text/plain": [
       "<Figure size 432x288 with 1 Axes>"
      ]
     },
     "metadata": {
      "tags": []
     },
     "output_type": "display_data"
    },
    {
     "data": {
      "image/png": "[encoded data removed]",
      "text/plain": [
       "<Figure size 432x288 with 1 Axes>"
      ]
     },
     "metadata": {
      "tags": []
     },
     "output_type": "display_data"
    }
   ],
   "source": [
    "import matplotlib.pyplot as plt\n",
    "%matplotlib inline\n",
    "\n",
    "epochs =range(1,epoch_num+1)\n",
    "\n",
    "plt.title('Loss')\n",
    "plt.plot(epochs, radam_hist['train_loss'],'ro',label='radam_train')\n",
    "plt.plot(epochs, radam_hist['test_loss'],'r',label='radam_test')\n",
    "plt.plot(epochs, adam_hist['train_loss'],'go',label='adam_train')\n",
    "plt.plot(epochs, adam_hist['test_loss'],'g',label='adam_test')\n",
    "plt.ylim((0.0,0.1))\n",
    "plt.legend()\n",
    "\n",
    "plt.figure()\n",
    "plt.title('Acc')\n",
    "plt.plot(epochs, radam_hist['train_acc'],'ro',label='radam_train')\n",
    "plt.plot(epochs, radam_hist['test_acc'],'r',label='radam_test')\n",
    "plt.plot(epochs, adam_hist['train_acc'],'go',label='adam_train')\n",
    "plt.plot(epochs, adam_hist['test_acc'],'g',label='adam_test')\n",
    "plt.ylim((0.96,1.0))\n",
    "plt.legend()"
   ]
  },
  {
   "cell_type": "markdown",
   "metadata": {
    "colab_type": "text",
    "id": "Ihh1Xts-dX-B"
   },
   "source": [
    "## Discussion\n",
    "Model: EfficientNet\n",
    "**RAdam seems to be beaten by Adam** (Can't see the improvement...)\n",
    "\n",
    "Possible Causes:  \n",
    "\n",
    "1. \n",
    "  * Pretrained Model? -> RAdam assumes initial weights as $w_0 \\sim \\mathcal{N}(0,I)$\n",
    "  * EfficientNet is too good at CIFAR-10 by default. -> Try another model\n",
    "   \n",
    "\n",
    "Experiments:\n",
    "\n",
    "1. Train a model(ResNet-50) with $w_0 \\sim \\mathcal{N}(0,I)$\n",
    "\n",
    "Results:\n",
    "\n",
    "1. Too bad. RAdam is worse than Adam, again."
   ]
  }
 ],
 "metadata": {
  "accelerator": "GPU",
  "colab": {
   "collapsed_sections": [],
   "machine_shape": "hm",
   "name": "RAdam_cifar10.ipynb",
   "provenance": []
  },
  "kernelspec": {
   "display_name": "Python 3",
   "language": "python",
   "name": "python3"
  },
  "language_info": {
   "codemirror_mode": {
    "name": "ipython",
    "version": 3
   },
   "file_extension": ".py",
   "mimetype": "text/x-python",
   "name": "python",
   "nbconvert_exporter": "python",
   "pygments_lexer": "ipython3",
   "version": "3.7.0"
  },
  "nteract": {
   "version": "0.15.0"
  },
  "varInspector": {
   "cols": {
    "lenName": 16,
    "lenType": 16,
    "lenVar": 40
   },
   "kernels_config": {
    "python": {
     "delete_cmd_postfix": "",
     "delete_cmd_prefix": "del ",
     "library": "var_list.py",
     "varRefreshCmd": "print(var_dic_list())"
    },
    "r": {
     "delete_cmd_postfix": ") ",
     "delete_cmd_prefix": "rm(",
     "library": "var_list.r",
     "varRefreshCmd": "cat(var_dic_list()) "
    }
   },
   "types_to_exclude": [
    "module",
    "function",
    "builtin_function_or_method",
    "instance",
    "_Feature"
   ],
   "window_display": false
  }
 },
 "nbformat": 4,
 "nbformat_minor": 1
}
